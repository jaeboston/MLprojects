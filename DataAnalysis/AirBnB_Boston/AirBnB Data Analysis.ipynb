{
 "cells": [
  {
   "cell_type": "markdown",
   "metadata": {},
   "source": [
    "# AirBnB Boston Area Data Analysis project\n",
    "\n",
    "1. Business Understanding\n",
    "2. Data Understanding\n",
    "3. Data Preparation\n",
    "4. Evaluation\n",
    "5. Conclusion"
   ]
  },
  {
   "cell_type": "markdown",
   "metadata": {},
   "source": [
    "# 1. Business Understanding.\n",
    "\n",
    "This Notebook will analyze Airbnb listings data to compare the words used in the top-rated listings with ones used in worst-rated listings using publicly available Airbnb listing data for the Boston area. By answering the following three questions, we will develop insights into how the words used in the top-rated listings are different from those used in the low-rated listings.\n",
    "\n",
    "* **What are the top 10 common terms used in Description in Boston AirBnB?**\n",
    "* **What are the top 10 common terms used in the high rating listing?**\n",
    "* **What are the top 10 common terms used in the low rating listing?**\n"
   ]
  },
  {
   "cell_type": "code",
   "execution_count": 106,
   "metadata": {},
   "outputs": [
    {
     "name": "stderr",
     "output_type": "stream",
     "text": [
      "[nltk_data] Downloading package punkt to /Users/jaesong/nltk_data...\n",
      "[nltk_data]   Package punkt is already up-to-date!\n"
     ]
    }
   ],
   "source": [
    "# Loading packages\n",
    "import pandas as pd\n",
    "import numpy as np\n",
    "import matplotlib.pyplot as plt\n",
    "import re\n",
    "from tqdm import tqdm\n",
    "import nltk\n",
    "nltk.download('punkt')\n",
    "\n",
    "import warnings\n",
    "warnings.filterwarnings('ignore')"
   ]
  },
  {
   "cell_type": "markdown",
   "metadata": {},
   "source": [
    "# 2. Data Understanding.\n",
    "\n",
    "We have the following three dataset from Kagggle (source: kaggle.com/airbnb/boston) \n",
    "\n",
    "- calendar.csv contains availablity and price informaiton for AirBnB listings.\n",
    "- listings.csv contains title, description and various other information about for AirBnB listings.\n",
    "- reviews.csv contains customer reivew information about the AirBnB listsings.\n",
    "\n",
    "We will read the data set files into Panda's DataFrames, df_calenar, df_listing, df_reviews\n",
    "\n"
   ]
  },
  {
   "cell_type": "code",
   "execution_count": 107,
   "metadata": {},
   "outputs": [],
   "source": [
    "#: get the three different data files\n",
    "df_calendar = pd.read_csv('data/calendar.csv')\n",
    "df_listing = pd.read_csv('data/listings.csv')\n",
    "df_reviews = pd.read_csv('data/reviews.csv')"
   ]
  },
  {
   "cell_type": "markdown",
   "metadata": {},
   "source": [
    "* The df_calendar has only 4 columsn as shown below. We don't need any information from this data set for this analysis. But it is good to know what data are available so the we can enhence/optimize our features. "
   ]
  },
  {
   "cell_type": "code",
   "execution_count": 108,
   "metadata": {},
   "outputs": [
    {
     "data": {
      "text/html": [
       "<div>\n",
       "<style scoped>\n",
       "    .dataframe tbody tr th:only-of-type {\n",
       "        vertical-align: middle;\n",
       "    }\n",
       "\n",
       "    .dataframe tbody tr th {\n",
       "        vertical-align: top;\n",
       "    }\n",
       "\n",
       "    .dataframe thead th {\n",
       "        text-align: right;\n",
       "    }\n",
       "</style>\n",
       "<table border=\"1\" class=\"dataframe\">\n",
       "  <thead>\n",
       "    <tr style=\"text-align: right;\">\n",
       "      <th></th>\n",
       "      <th>listing_id</th>\n",
       "      <th>date</th>\n",
       "      <th>available</th>\n",
       "      <th>price</th>\n",
       "    </tr>\n",
       "  </thead>\n",
       "  <tbody>\n",
       "    <tr>\n",
       "      <td>0</td>\n",
       "      <td>12147973</td>\n",
       "      <td>2017-09-05</td>\n",
       "      <td>f</td>\n",
       "      <td>NaN</td>\n",
       "    </tr>\n",
       "    <tr>\n",
       "      <td>1</td>\n",
       "      <td>12147973</td>\n",
       "      <td>2017-09-04</td>\n",
       "      <td>f</td>\n",
       "      <td>NaN</td>\n",
       "    </tr>\n",
       "    <tr>\n",
       "      <td>2</td>\n",
       "      <td>12147973</td>\n",
       "      <td>2017-09-03</td>\n",
       "      <td>f</td>\n",
       "      <td>NaN</td>\n",
       "    </tr>\n",
       "    <tr>\n",
       "      <td>3</td>\n",
       "      <td>12147973</td>\n",
       "      <td>2017-09-02</td>\n",
       "      <td>f</td>\n",
       "      <td>NaN</td>\n",
       "    </tr>\n",
       "    <tr>\n",
       "      <td>4</td>\n",
       "      <td>12147973</td>\n",
       "      <td>2017-09-01</td>\n",
       "      <td>f</td>\n",
       "      <td>NaN</td>\n",
       "    </tr>\n",
       "  </tbody>\n",
       "</table>\n",
       "</div>"
      ],
      "text/plain": [
       "   listing_id        date available price\n",
       "0    12147973  2017-09-05         f   NaN\n",
       "1    12147973  2017-09-04         f   NaN\n",
       "2    12147973  2017-09-03         f   NaN\n",
       "3    12147973  2017-09-02         f   NaN\n",
       "4    12147973  2017-09-01         f   NaN"
      ]
     },
     "execution_count": 108,
     "metadata": {},
     "output_type": "execute_result"
    }
   ],
   "source": [
    "df_calendar.head()"
   ]
  },
  {
   "cell_type": "markdown",
   "metadata": {},
   "source": [
    "* df_listing is the main dataset we are going to use for this analysis. It has 95 columns including name (contains titles of listings), description (contains descriptions of listings).\n",
    "\n",
    "* df_listing also contains review_scores_rating and number_of_reviews. These columns contain information about customer review scores for listings and number of reviews. We will use these columns later to filter out the top-rated listings and low-rated listings."
   ]
  },
  {
   "cell_type": "code",
   "execution_count": 109,
   "metadata": {},
   "outputs": [
    {
     "data": {
      "text/html": [
       "<div>\n",
       "<style scoped>\n",
       "    .dataframe tbody tr th:only-of-type {\n",
       "        vertical-align: middle;\n",
       "    }\n",
       "\n",
       "    .dataframe tbody tr th {\n",
       "        vertical-align: top;\n",
       "    }\n",
       "\n",
       "    .dataframe thead th {\n",
       "        text-align: right;\n",
       "    }\n",
       "</style>\n",
       "<table border=\"1\" class=\"dataframe\">\n",
       "  <thead>\n",
       "    <tr style=\"text-align: right;\">\n",
       "      <th></th>\n",
       "      <th>id</th>\n",
       "      <th>listing_url</th>\n",
       "      <th>scrape_id</th>\n",
       "      <th>last_scraped</th>\n",
       "      <th>name</th>\n",
       "      <th>summary</th>\n",
       "      <th>space</th>\n",
       "      <th>description</th>\n",
       "      <th>experiences_offered</th>\n",
       "      <th>neighborhood_overview</th>\n",
       "      <th>...</th>\n",
       "      <th>review_scores_value</th>\n",
       "      <th>requires_license</th>\n",
       "      <th>license</th>\n",
       "      <th>jurisdiction_names</th>\n",
       "      <th>instant_bookable</th>\n",
       "      <th>cancellation_policy</th>\n",
       "      <th>require_guest_profile_picture</th>\n",
       "      <th>require_guest_phone_verification</th>\n",
       "      <th>calculated_host_listings_count</th>\n",
       "      <th>reviews_per_month</th>\n",
       "    </tr>\n",
       "  </thead>\n",
       "  <tbody>\n",
       "    <tr>\n",
       "      <td>0</td>\n",
       "      <td>12147973</td>\n",
       "      <td>https://www.airbnb.com/rooms/12147973</td>\n",
       "      <td>20160906204935</td>\n",
       "      <td>2016-09-07</td>\n",
       "      <td>Sunny Bungalow in the City</td>\n",
       "      <td>Cozy, sunny, family home.  Master bedroom high...</td>\n",
       "      <td>The house has an open and cozy feel at the sam...</td>\n",
       "      <td>Cozy, sunny, family home.  Master bedroom high...</td>\n",
       "      <td>none</td>\n",
       "      <td>Roslindale is quiet, convenient and friendly. ...</td>\n",
       "      <td>...</td>\n",
       "      <td>NaN</td>\n",
       "      <td>f</td>\n",
       "      <td>NaN</td>\n",
       "      <td>NaN</td>\n",
       "      <td>f</td>\n",
       "      <td>moderate</td>\n",
       "      <td>f</td>\n",
       "      <td>f</td>\n",
       "      <td>1</td>\n",
       "      <td>NaN</td>\n",
       "    </tr>\n",
       "    <tr>\n",
       "      <td>1</td>\n",
       "      <td>3075044</td>\n",
       "      <td>https://www.airbnb.com/rooms/3075044</td>\n",
       "      <td>20160906204935</td>\n",
       "      <td>2016-09-07</td>\n",
       "      <td>Charming room in pet friendly apt</td>\n",
       "      <td>Charming and quiet room in a second floor 1910...</td>\n",
       "      <td>Small but cozy and quite room with a full size...</td>\n",
       "      <td>Charming and quiet room in a second floor 1910...</td>\n",
       "      <td>none</td>\n",
       "      <td>The room is in Roslindale, a diverse and prima...</td>\n",
       "      <td>...</td>\n",
       "      <td>9.0</td>\n",
       "      <td>f</td>\n",
       "      <td>NaN</td>\n",
       "      <td>NaN</td>\n",
       "      <td>t</td>\n",
       "      <td>moderate</td>\n",
       "      <td>f</td>\n",
       "      <td>f</td>\n",
       "      <td>1</td>\n",
       "      <td>1.30</td>\n",
       "    </tr>\n",
       "    <tr>\n",
       "      <td>2</td>\n",
       "      <td>6976</td>\n",
       "      <td>https://www.airbnb.com/rooms/6976</td>\n",
       "      <td>20160906204935</td>\n",
       "      <td>2016-09-07</td>\n",
       "      <td>Mexican Folk Art Haven in Boston</td>\n",
       "      <td>Come stay with a friendly, middle-aged guy in ...</td>\n",
       "      <td>Come stay with a friendly, middle-aged guy in ...</td>\n",
       "      <td>Come stay with a friendly, middle-aged guy in ...</td>\n",
       "      <td>none</td>\n",
       "      <td>The LOCATION: Roslindale is a safe and diverse...</td>\n",
       "      <td>...</td>\n",
       "      <td>10.0</td>\n",
       "      <td>f</td>\n",
       "      <td>NaN</td>\n",
       "      <td>NaN</td>\n",
       "      <td>f</td>\n",
       "      <td>moderate</td>\n",
       "      <td>t</td>\n",
       "      <td>f</td>\n",
       "      <td>1</td>\n",
       "      <td>0.47</td>\n",
       "    </tr>\n",
       "    <tr>\n",
       "      <td>3</td>\n",
       "      <td>1436513</td>\n",
       "      <td>https://www.airbnb.com/rooms/1436513</td>\n",
       "      <td>20160906204935</td>\n",
       "      <td>2016-09-07</td>\n",
       "      <td>Spacious Sunny Bedroom Suite in Historic Home</td>\n",
       "      <td>Come experience the comforts of home away from...</td>\n",
       "      <td>Most places you find in Boston are small howev...</td>\n",
       "      <td>Come experience the comforts of home away from...</td>\n",
       "      <td>none</td>\n",
       "      <td>Roslindale is a lovely little neighborhood loc...</td>\n",
       "      <td>...</td>\n",
       "      <td>10.0</td>\n",
       "      <td>f</td>\n",
       "      <td>NaN</td>\n",
       "      <td>NaN</td>\n",
       "      <td>f</td>\n",
       "      <td>moderate</td>\n",
       "      <td>f</td>\n",
       "      <td>f</td>\n",
       "      <td>1</td>\n",
       "      <td>1.00</td>\n",
       "    </tr>\n",
       "    <tr>\n",
       "      <td>4</td>\n",
       "      <td>7651065</td>\n",
       "      <td>https://www.airbnb.com/rooms/7651065</td>\n",
       "      <td>20160906204935</td>\n",
       "      <td>2016-09-07</td>\n",
       "      <td>Come Home to Boston</td>\n",
       "      <td>My comfy, clean and relaxing home is one block...</td>\n",
       "      <td>Clean, attractive, private room, one block fro...</td>\n",
       "      <td>My comfy, clean and relaxing home is one block...</td>\n",
       "      <td>none</td>\n",
       "      <td>I love the proximity to downtown, the neighbor...</td>\n",
       "      <td>...</td>\n",
       "      <td>10.0</td>\n",
       "      <td>f</td>\n",
       "      <td>NaN</td>\n",
       "      <td>NaN</td>\n",
       "      <td>f</td>\n",
       "      <td>flexible</td>\n",
       "      <td>f</td>\n",
       "      <td>f</td>\n",
       "      <td>1</td>\n",
       "      <td>2.25</td>\n",
       "    </tr>\n",
       "  </tbody>\n",
       "</table>\n",
       "<p>5 rows × 95 columns</p>\n",
       "</div>"
      ],
      "text/plain": [
       "         id                            listing_url       scrape_id  \\\n",
       "0  12147973  https://www.airbnb.com/rooms/12147973  20160906204935   \n",
       "1   3075044   https://www.airbnb.com/rooms/3075044  20160906204935   \n",
       "2      6976      https://www.airbnb.com/rooms/6976  20160906204935   \n",
       "3   1436513   https://www.airbnb.com/rooms/1436513  20160906204935   \n",
       "4   7651065   https://www.airbnb.com/rooms/7651065  20160906204935   \n",
       "\n",
       "  last_scraped                                           name  \\\n",
       "0   2016-09-07                     Sunny Bungalow in the City   \n",
       "1   2016-09-07              Charming room in pet friendly apt   \n",
       "2   2016-09-07               Mexican Folk Art Haven in Boston   \n",
       "3   2016-09-07  Spacious Sunny Bedroom Suite in Historic Home   \n",
       "4   2016-09-07                            Come Home to Boston   \n",
       "\n",
       "                                             summary  \\\n",
       "0  Cozy, sunny, family home.  Master bedroom high...   \n",
       "1  Charming and quiet room in a second floor 1910...   \n",
       "2  Come stay with a friendly, middle-aged guy in ...   \n",
       "3  Come experience the comforts of home away from...   \n",
       "4  My comfy, clean and relaxing home is one block...   \n",
       "\n",
       "                                               space  \\\n",
       "0  The house has an open and cozy feel at the sam...   \n",
       "1  Small but cozy and quite room with a full size...   \n",
       "2  Come stay with a friendly, middle-aged guy in ...   \n",
       "3  Most places you find in Boston are small howev...   \n",
       "4  Clean, attractive, private room, one block fro...   \n",
       "\n",
       "                                         description experiences_offered  \\\n",
       "0  Cozy, sunny, family home.  Master bedroom high...                none   \n",
       "1  Charming and quiet room in a second floor 1910...                none   \n",
       "2  Come stay with a friendly, middle-aged guy in ...                none   \n",
       "3  Come experience the comforts of home away from...                none   \n",
       "4  My comfy, clean and relaxing home is one block...                none   \n",
       "\n",
       "                               neighborhood_overview  ... review_scores_value  \\\n",
       "0  Roslindale is quiet, convenient and friendly. ...  ...                 NaN   \n",
       "1  The room is in Roslindale, a diverse and prima...  ...                 9.0   \n",
       "2  The LOCATION: Roslindale is a safe and diverse...  ...                10.0   \n",
       "3  Roslindale is a lovely little neighborhood loc...  ...                10.0   \n",
       "4  I love the proximity to downtown, the neighbor...  ...                10.0   \n",
       "\n",
       "  requires_license license jurisdiction_names instant_bookable  \\\n",
       "0                f     NaN                NaN                f   \n",
       "1                f     NaN                NaN                t   \n",
       "2                f     NaN                NaN                f   \n",
       "3                f     NaN                NaN                f   \n",
       "4                f     NaN                NaN                f   \n",
       "\n",
       "  cancellation_policy require_guest_profile_picture  \\\n",
       "0            moderate                             f   \n",
       "1            moderate                             f   \n",
       "2            moderate                             t   \n",
       "3            moderate                             f   \n",
       "4            flexible                             f   \n",
       "\n",
       "  require_guest_phone_verification calculated_host_listings_count  \\\n",
       "0                                f                              1   \n",
       "1                                f                              1   \n",
       "2                                f                              1   \n",
       "3                                f                              1   \n",
       "4                                f                              1   \n",
       "\n",
       "   reviews_per_month  \n",
       "0                NaN  \n",
       "1               1.30  \n",
       "2               0.47  \n",
       "3               1.00  \n",
       "4               2.25  \n",
       "\n",
       "[5 rows x 95 columns]"
      ]
     },
     "execution_count": 109,
     "metadata": {},
     "output_type": "execute_result"
    }
   ],
   "source": [
    "df_listing.head()"
   ]
  },
  {
   "cell_type": "code",
   "execution_count": 110,
   "metadata": {},
   "outputs": [
    {
     "name": "stdout",
     "output_type": "stream",
     "text": [
      "<class 'pandas.core.frame.DataFrame'>\n",
      "RangeIndex: 3585 entries, 0 to 3584\n",
      "Data columns (total 95 columns):\n",
      "id                                  3585 non-null int64\n",
      "listing_url                         3585 non-null object\n",
      "scrape_id                           3585 non-null int64\n",
      "last_scraped                        3585 non-null object\n",
      "name                                3585 non-null object\n",
      "summary                             3442 non-null object\n",
      "space                               2528 non-null object\n",
      "description                         3585 non-null object\n",
      "experiences_offered                 3585 non-null object\n",
      "neighborhood_overview               2170 non-null object\n",
      "notes                               1610 non-null object\n",
      "transit                             2295 non-null object\n",
      "access                              2096 non-null object\n",
      "interaction                         2031 non-null object\n",
      "house_rules                         2393 non-null object\n",
      "thumbnail_url                       2986 non-null object\n",
      "medium_url                          2986 non-null object\n",
      "picture_url                         3585 non-null object\n",
      "xl_picture_url                      2986 non-null object\n",
      "host_id                             3585 non-null int64\n",
      "host_url                            3585 non-null object\n",
      "host_name                           3585 non-null object\n",
      "host_since                          3585 non-null object\n",
      "host_location                       3574 non-null object\n",
      "host_about                          2276 non-null object\n",
      "host_response_time                  3114 non-null object\n",
      "host_response_rate                  3114 non-null object\n",
      "host_acceptance_rate                3114 non-null object\n",
      "host_is_superhost                   3585 non-null object\n",
      "host_thumbnail_url                  3585 non-null object\n",
      "host_picture_url                    3585 non-null object\n",
      "host_neighbourhood                  3246 non-null object\n",
      "host_listings_count                 3585 non-null int64\n",
      "host_total_listings_count           3585 non-null int64\n",
      "host_verifications                  3585 non-null object\n",
      "host_has_profile_pic                3585 non-null object\n",
      "host_identity_verified              3585 non-null object\n",
      "street                              3585 non-null object\n",
      "neighbourhood                       3042 non-null object\n",
      "neighbourhood_cleansed              3585 non-null object\n",
      "neighbourhood_group_cleansed        0 non-null float64\n",
      "city                                3583 non-null object\n",
      "state                               3585 non-null object\n",
      "zipcode                             3547 non-null object\n",
      "market                              3571 non-null object\n",
      "smart_location                      3585 non-null object\n",
      "country_code                        3585 non-null object\n",
      "country                             3585 non-null object\n",
      "latitude                            3585 non-null float64\n",
      "longitude                           3585 non-null float64\n",
      "is_location_exact                   3585 non-null object\n",
      "property_type                       3582 non-null object\n",
      "room_type                           3585 non-null object\n",
      "accommodates                        3585 non-null int64\n",
      "bathrooms                           3571 non-null float64\n",
      "bedrooms                            3575 non-null float64\n",
      "beds                                3576 non-null float64\n",
      "bed_type                            3585 non-null object\n",
      "amenities                           3585 non-null object\n",
      "square_feet                         56 non-null float64\n",
      "price                               3585 non-null object\n",
      "weekly_price                        892 non-null object\n",
      "monthly_price                       888 non-null object\n",
      "security_deposit                    1342 non-null object\n",
      "cleaning_fee                        2478 non-null object\n",
      "guests_included                     3585 non-null int64\n",
      "extra_people                        3585 non-null object\n",
      "minimum_nights                      3585 non-null int64\n",
      "maximum_nights                      3585 non-null int64\n",
      "calendar_updated                    3585 non-null object\n",
      "has_availability                    0 non-null float64\n",
      "availability_30                     3585 non-null int64\n",
      "availability_60                     3585 non-null int64\n",
      "availability_90                     3585 non-null int64\n",
      "availability_365                    3585 non-null int64\n",
      "calendar_last_scraped               3585 non-null object\n",
      "number_of_reviews                   3585 non-null int64\n",
      "first_review                        2829 non-null object\n",
      "last_review                         2829 non-null object\n",
      "review_scores_rating                2772 non-null float64\n",
      "review_scores_accuracy              2762 non-null float64\n",
      "review_scores_cleanliness           2767 non-null float64\n",
      "review_scores_checkin               2765 non-null float64\n",
      "review_scores_communication         2767 non-null float64\n",
      "review_scores_location              2763 non-null float64\n",
      "review_scores_value                 2764 non-null float64\n",
      "requires_license                    3585 non-null object\n",
      "license                             0 non-null float64\n",
      "jurisdiction_names                  0 non-null float64\n",
      "instant_bookable                    3585 non-null object\n",
      "cancellation_policy                 3585 non-null object\n",
      "require_guest_profile_picture       3585 non-null object\n",
      "require_guest_phone_verification    3585 non-null object\n",
      "calculated_host_listings_count      3585 non-null int64\n",
      "reviews_per_month                   2829 non-null float64\n",
      "dtypes: float64(18), int64(15), object(62)\n",
      "memory usage: 2.6+ MB\n"
     ]
    }
   ],
   "source": [
    "df_listing.info()"
   ]
  },
  {
   "cell_type": "markdown",
   "metadata": {},
   "source": [
    "* df_reviews contains more detailed information about reviews. We are not going to use this DataFrame for this analysis."
   ]
  },
  {
   "cell_type": "code",
   "execution_count": 111,
   "metadata": {},
   "outputs": [
    {
     "data": {
      "text/html": [
       "<div>\n",
       "<style scoped>\n",
       "    .dataframe tbody tr th:only-of-type {\n",
       "        vertical-align: middle;\n",
       "    }\n",
       "\n",
       "    .dataframe tbody tr th {\n",
       "        vertical-align: top;\n",
       "    }\n",
       "\n",
       "    .dataframe thead th {\n",
       "        text-align: right;\n",
       "    }\n",
       "</style>\n",
       "<table border=\"1\" class=\"dataframe\">\n",
       "  <thead>\n",
       "    <tr style=\"text-align: right;\">\n",
       "      <th></th>\n",
       "      <th>listing_id</th>\n",
       "      <th>id</th>\n",
       "      <th>date</th>\n",
       "      <th>reviewer_id</th>\n",
       "      <th>reviewer_name</th>\n",
       "      <th>comments</th>\n",
       "    </tr>\n",
       "  </thead>\n",
       "  <tbody>\n",
       "    <tr>\n",
       "      <td>0</td>\n",
       "      <td>1178162</td>\n",
       "      <td>4724140</td>\n",
       "      <td>2013-05-21</td>\n",
       "      <td>4298113</td>\n",
       "      <td>Olivier</td>\n",
       "      <td>My stay at islam's place was really cool! Good...</td>\n",
       "    </tr>\n",
       "    <tr>\n",
       "      <td>1</td>\n",
       "      <td>1178162</td>\n",
       "      <td>4869189</td>\n",
       "      <td>2013-05-29</td>\n",
       "      <td>6452964</td>\n",
       "      <td>Charlotte</td>\n",
       "      <td>Great location for both airport and city - gre...</td>\n",
       "    </tr>\n",
       "    <tr>\n",
       "      <td>2</td>\n",
       "      <td>1178162</td>\n",
       "      <td>5003196</td>\n",
       "      <td>2013-06-06</td>\n",
       "      <td>6449554</td>\n",
       "      <td>Sebastian</td>\n",
       "      <td>We really enjoyed our stay at Islams house. Fr...</td>\n",
       "    </tr>\n",
       "    <tr>\n",
       "      <td>3</td>\n",
       "      <td>1178162</td>\n",
       "      <td>5150351</td>\n",
       "      <td>2013-06-15</td>\n",
       "      <td>2215611</td>\n",
       "      <td>Marine</td>\n",
       "      <td>The room was nice and clean and so were the co...</td>\n",
       "    </tr>\n",
       "    <tr>\n",
       "      <td>4</td>\n",
       "      <td>1178162</td>\n",
       "      <td>5171140</td>\n",
       "      <td>2013-06-16</td>\n",
       "      <td>6848427</td>\n",
       "      <td>Andrew</td>\n",
       "      <td>Great location. Just 5 mins walk from the Airp...</td>\n",
       "    </tr>\n",
       "  </tbody>\n",
       "</table>\n",
       "</div>"
      ],
      "text/plain": [
       "   listing_id       id        date  reviewer_id reviewer_name  \\\n",
       "0     1178162  4724140  2013-05-21      4298113       Olivier   \n",
       "1     1178162  4869189  2013-05-29      6452964     Charlotte   \n",
       "2     1178162  5003196  2013-06-06      6449554     Sebastian   \n",
       "3     1178162  5150351  2013-06-15      2215611        Marine   \n",
       "4     1178162  5171140  2013-06-16      6848427        Andrew   \n",
       "\n",
       "                                            comments  \n",
       "0  My stay at islam's place was really cool! Good...  \n",
       "1  Great location for both airport and city - gre...  \n",
       "2  We really enjoyed our stay at Islams house. Fr...  \n",
       "3  The room was nice and clean and so were the co...  \n",
       "4  Great location. Just 5 mins walk from the Airp...  "
      ]
     },
     "execution_count": 111,
     "metadata": {},
     "output_type": "execute_result"
    }
   ],
   "source": [
    "df_reviews.head()"
   ]
  },
  {
   "cell_type": "markdown",
   "metadata": {},
   "source": [
    "# 3. Data Preparation"
   ]
  },
  {
   "cell_type": "markdown",
   "metadata": {},
   "source": [
    "#### We use the name and description columns from df_listings to get words and run thru various preparation to featurize them.\n",
    "- We drop listings with nan values in those two columns. These two are the main features, so we exclude any listings without proper words in the name and description columns\n",
    "- We remove all the stop words: stop words that don't have much meaning.\n",
    "- We use the Regular Expression library re to find matches with the stop words\n",
    "- We use the NLTK library to tokenize words and eventually compute the frequencies of each tokenized words\n",
    "\n",
    "#### We use the review_scores_rating and number_of_reviews columns from df_listings to define top-rated listings vs. low-rated listings. To have a balanced number of listings between the top-rated and low-rated listings, we use some arbitrary numbers to filter out the number_of_reviews column data.\n",
    "- We define the top-rated listings as the listings with the review_scores_rating as 100 and the number_of_reviews greater than 8.\n",
    "- We describe the low-rated listings as the listings with the review_scores_rating as less than 60 and the number_of_reviews greater than 1."
   ]
  },
  {
   "cell_type": "code",
   "execution_count": 118,
   "metadata": {},
   "outputs": [
    {
     "data": {
      "text/plain": [
       "0                          Sunny Bungalow in the City\n",
       "1                   Charming room in pet friendly apt\n",
       "2                    Mexican Folk Art Haven in Boston\n",
       "3       Spacious Sunny Bedroom Suite in Historic Home\n",
       "4                                 Come Home to Boston\n",
       "                            ...                      \n",
       "3580                             Big cozy room near T\n",
       "3581              BU Apartment DexterPark Bright room\n",
       "3582                         Gorgeous funky apartment\n",
       "3583            Great Location; Train and Restaurants\n",
       "3584               (K1) Private Room near Harvard/MIT\n",
       "Name: name, Length: 3585, dtype: object"
      ]
     },
     "execution_count": 118,
     "metadata": {},
     "output_type": "execute_result"
    }
   ],
   "source": [
    "df_listing.name"
   ]
  },
  {
   "cell_type": "code",
   "execution_count": 119,
   "metadata": {},
   "outputs": [
    {
     "data": {
      "text/plain": [
       "0       Cozy, sunny, family home.  Master bedroom high...\n",
       "1       Charming and quiet room in a second floor 1910...\n",
       "2       Come stay with a friendly, middle-aged guy in ...\n",
       "3       Come experience the comforts of home away from...\n",
       "4       My comfy, clean and relaxing home is one block...\n",
       "                              ...                        \n",
       "3580    5 min walking to Orange Line subway with 2 sto...\n",
       "3581    Most popular apartment in BU, best located in ...\n",
       "3582    Funky little apartment close to public transpo...\n",
       "3583    My place is close to Taco Loco Mexican Grill, ...\n",
       "3584    My place is close to My home is a warm and fri...\n",
       "Name: description, Length: 3585, dtype: object"
      ]
     },
     "execution_count": 119,
     "metadata": {},
     "output_type": "execute_result"
    }
   ],
   "source": [
    "df_listing.description"
   ]
  },
  {
   "cell_type": "markdown",
   "metadata": {},
   "source": [
    "### Remove Stop words"
   ]
  },
  {
   "cell_type": "code",
   "execution_count": 120,
   "metadata": {},
   "outputs": [
    {
     "name": "stderr",
     "output_type": "stream",
     "text": [
      "100%|██████████| 3585/3585 [00:00<00:00, 80865.30it/s]\n",
      "100%|██████████| 3585/3585 [00:00<00:00, 9087.62it/s]\n"
     ]
    }
   ],
   "source": [
    "# Combining all  \n",
    "preprocessed_description = []\n",
    "preprocessed_name = []\n",
    "\n",
    "stopwords= set(['br', 'the', 'i', 'me', 'my', 'myself', 'we', 'our', 'ours', 'ourselves', 'you', \"you're\", \"you've\",\\\n",
    "            \"you'll\", \"you'd\", 'your', 'yours', 'yourself', 'yourselves', 'he', 'him', 'his', 'himself', \\\n",
    "            'she', \"she's\", 'her', 'hers', 'herself', 'it', \"it's\", 'its', 'itself', 'they', 'them', 'their',\\\n",
    "            'theirs', 'themselves', 'what', 'which', 'who', 'whom', 'this', 'that', \"that'll\", 'these', 'those', \\\n",
    "            'am', 'is', 'are', 'was', 'were', 'be', 'been', 'being', 'have', 'has', 'had', 'having', 'do', 'does', \\\n",
    "            'did', 'doing', 'a', 'an', 'the', 'and', 'but', 'if', 'or', 'because', 'as', 'until', 'while', 'of', \\\n",
    "            'at', 'by', 'for', 'with', 'about', 'against', 'between', 'into', 'through', 'during', 'before', 'after',\\\n",
    "            'above', 'below', 'to', 'from', 'up', 'down', 'in', 'out', 'on', 'off', 'over', 'under', 'again', 'further',\\\n",
    "            'then', 'once', 'here', 'there', 'when', 'where', 'why', 'how', 'all', 'any', 'both', 'each', 'few', 'more',\\\n",
    "            'most', 'other', 'some', 'such', 'only', 'own', 'same', 'so', 'than', 'too', 'very', \\\n",
    "            's', 't', 'can', 'will', 'just', 'don', \"don't\", 'should', \"should've\", 'now', 'd', 'll', 'm', 'o', 're', \\\n",
    "            've', 'y', 'ain', 'aren', \"aren't\", 'couldn', \"couldn't\", 'didn', \"didn't\", 'doesn', \"doesn't\", 'hadn',\\\n",
    "            \"hadn't\", 'hasn', \"hasn't\", 'haven', \"haven't\", 'isn', \"isn't\", 'ma', 'mightn', \"mightn't\", 'mustn',\\\n",
    "            \"mustn't\", 'needn', \"needn't\", 'shan', \"shan't\", 'shouldn', \"shouldn't\", 'wasn', \"wasn't\", 'weren', \"weren't\", \\\n",
    "            'won', \"won't\", 'wouldn', \"wouldn't\"])\n",
    "\n",
    "#: remove nan first\n",
    "ser_description = df_listing['description'].dropna()\n",
    "ser_name = df_listing['name'].dropna()\n",
    "\n",
    "#: remove stop words in titles\n",
    "for sentance in tqdm(ser_name.values):\n",
    "    str = \"123456790abcdefABCDEF!@#$%^&*()_+<>?,./\"\n",
    "    sentance = re.sub(r'[^a-zA-Z]', \" \", sentance)\n",
    "    sentance = ' '.join(e.lower() for e in sentance.split() if e.lower() not in stopwords)\n",
    "    preprocessed_name.append(sentance.strip())    \n",
    "\n",
    "#: remove stop words in descriptions\n",
    "for sentance in tqdm(ser_description.values):\n",
    "    str = \"123456790abcdefABCDEF!@#$%^&*()_+<>?,./\"\n",
    "    sentance = re.sub(r'[^a-zA-Z]', \" \", sentance)\n",
    "    sentance = ' '.join(e.lower() for e in sentance.split() if e.lower() not in stopwords)\n",
    "    preprocessed_description.append(sentance.strip())\n",
    "    \n"
   ]
  },
  {
   "cell_type": "code",
   "execution_count": 121,
   "metadata": {},
   "outputs": [],
   "source": [
    "allDescriptionText = ' '.join(preprocessed_description)\n",
    "allNameText = ' '.join(preprocessed_name)"
   ]
  },
  {
   "cell_type": "markdown",
   "metadata": {},
   "source": [
    "### Tokenize words using the NLTK library"
   ]
  },
  {
   "cell_type": "code",
   "execution_count": 122,
   "metadata": {},
   "outputs": [
    {
     "data": {
      "text/plain": [
       "FreqDist({'boston': 715, 'room': 629, 'bedroom': 362, 'private': 354, 'end': 354, 'apt': 329, 'apartment': 310, 'near': 270, 'cozy': 261, 'studio': 248, ...})"
      ]
     },
     "execution_count": 122,
     "metadata": {},
     "output_type": "execute_result"
    }
   ],
   "source": [
    "#: most frequent words in titles\n",
    "allWords = nltk.tokenize.word_tokenize(allNameText)\n",
    "allWordDist4Name = nltk.FreqDist(w for w in allWords)\n",
    "allWordDist4Name"
   ]
  },
  {
   "cell_type": "code",
   "execution_count": 123,
   "metadata": {},
   "outputs": [
    {
     "data": {
      "text/plain": [
       "FreqDist({'boston': 5323, 'room': 3670, 'apartment': 3282, 'kitchen': 2768, 'walk': 2667, 'bedroom': 2481, 'bed': 2196, 'living': 1957, 'located': 1825, 'street': 1791, ...})"
      ]
     },
     "execution_count": 123,
     "metadata": {},
     "output_type": "execute_result"
    }
   ],
   "source": [
    "#: most frequent words in descriptions\n",
    "allWords = nltk.tokenize.word_tokenize(allDescriptionText)\n",
    "allWordDist = nltk.FreqDist(w for w in allWords)\n",
    "allWordDist"
   ]
  },
  {
   "cell_type": "markdown",
   "metadata": {},
   "source": [
    "## Get the top-rated listings\n",
    "\n",
    "- We define the top-rated listings as thos listings with \n",
    "The topreview_scores_rating == 100"
   ]
  },
  {
   "cell_type": "code",
   "execution_count": 124,
   "metadata": {},
   "outputs": [
    {
     "data": {
      "text/plain": [
       "100.0    628\n",
       "93.0     205\n",
       "96.0     197\n",
       "95.0     171\n",
       "97.0     168\n",
       "Name: review_scores_rating, dtype: int64"
      ]
     },
     "execution_count": 124,
     "metadata": {},
     "output_type": "execute_result"
    }
   ],
   "source": [
    "df_listing['review_scores_rating'].value_counts().head()"
   ]
  },
  {
   "cell_type": "code",
   "execution_count": 125,
   "metadata": {},
   "outputs": [
    {
     "data": {
      "text/plain": [
       "1    231\n",
       "2    124\n",
       "3     60\n",
       "4     49\n",
       "5     29\n",
       "Name: number_of_reviews, dtype: int64"
      ]
     },
     "execution_count": 125,
     "metadata": {},
     "output_type": "execute_result"
    }
   ],
   "source": [
    "#: number of reviews for listings with top rating\n",
    "df_listing[df_listing['review_scores_rating']==100]['number_of_reviews'].value_counts().head()"
   ]
  },
  {
   "cell_type": "code",
   "execution_count": 126,
   "metadata": {},
   "outputs": [
    {
     "data": {
      "text/plain": [
       "104     Jamaica Plain, or JP, is a great landing spot ...\n",
       "114     My Place is less than a 7 minute walk to the G...\n",
       "123     Our place is a clean, comfortable, and beautif...\n",
       "151     Enjoy our renovated apartment in Jamaica Plain...\n",
       "211     Centrally located in the hip neighborhood of J...\n",
       "                              ...                        \n",
       "3279    Renovated - entire 3 bedroom (8 total beds), 1...\n",
       "3283    Renovated - entire 3 bedroom (8 total beds), 1...\n",
       "3293                                 This is a good room!\n",
       "3301                     This is the best room in Boston!\n",
       "3516    We are delighted to sublet one bedroom in our ...\n",
       "Name: description, Length: 73, dtype: object"
      ]
     },
     "execution_count": 126,
     "metadata": {},
     "output_type": "execute_result"
    }
   ],
   "source": [
    "#: Desccription of top-rate listins\n",
    "ser_description_top = df_listing[(df_listing['review_scores_rating']==100) & (df_listing['number_of_reviews']>8) ]['description'].dropna()\n",
    "ser_description_top\n",
    "\n"
   ]
  },
  {
   "cell_type": "code",
   "execution_count": 127,
   "metadata": {},
   "outputs": [
    {
     "data": {
      "text/plain": [
       "104       Stay in Boston's best neighborhood!\n",
       "114                     Tranquil Treetop Loft\n",
       "123       Sunny, Cozy and Convenient JP Home!\n",
       "151       Quiet, Spacious 2BD in Boston's JP!\n",
       "211       Cozy, bohemian Jamaica Plain studio\n",
       "                        ...                  \n",
       "3279    3 bed 1 bath near Downtown & Ocean #3\n",
       "3283      3 bed 1 bath near Downtown/Ocean #2\n",
       "3293                      l GREAT ROOM BOSOTN\n",
       "3301                       k Best Room Boston\n",
       "3516       1 Bedroom in Furnished Harvard Apt\n",
       "Name: name, Length: 73, dtype: object"
      ]
     },
     "execution_count": 127,
     "metadata": {},
     "output_type": "execute_result"
    }
   ],
   "source": [
    "#: name of the top -rated listins\n",
    "ser_name_top = df_listing[(df_listing['review_scores_rating']==100) & (df_listing['number_of_reviews']>8) ]['name'].dropna()\n",
    "ser_name_top\n"
   ]
  },
  {
   "cell_type": "code",
   "execution_count": 128,
   "metadata": {},
   "outputs": [
    {
     "name": "stderr",
     "output_type": "stream",
     "text": [
      "100%|██████████| 73/73 [00:00<00:00, 3620.01it/s]\n",
      "100%|██████████| 73/73 [00:00<00:00, 21966.01it/s]\n"
     ]
    }
   ],
   "source": [
    "preprocessed_description4top = []\n",
    "preprocessed_name4top = []\n",
    "\n",
    "for sentance in tqdm(ser_description_top.values):\n",
    "    str = \"123456790abcdefABCDEF!@#$%^&*()_+<>?,./\"\n",
    "    sentance = re.sub(r'[^a-zA-Z]', \" \", sentance)\n",
    "    sentance = ' '.join(e.lower() for e in sentance.split() if e.lower() not in stopwords)\n",
    "    preprocessed_description4top.append(sentance.strip())\n",
    "    \n",
    "for sentance in tqdm(ser_name_top.values):\n",
    "    str = \"123456790abcdefABCDEF!@#$%^&*()_+<>?,./\"\n",
    "    sentance = re.sub(r'[^a-zA-Z]', \" \", sentance)\n",
    "    sentance = ' '.join(e.lower() for e in sentance.split() if e.lower() not in stopwords)\n",
    "    preprocessed_name4top.append(sentance.strip())\n",
    "    "
   ]
  },
  {
   "cell_type": "code",
   "execution_count": 129,
   "metadata": {},
   "outputs": [],
   "source": [
    "topDescriptionText = ' '.join(preprocessed_description4top)\n",
    "topNameText = ' '.join(preprocessed_name4top)"
   ]
  },
  {
   "cell_type": "code",
   "execution_count": 130,
   "metadata": {},
   "outputs": [
    {
     "data": {
      "text/plain": [
       "FreqDist({'boston': 124, 'room': 97, 'bedroom': 81, 'apartment': 73, 'kitchen': 68, 'private': 62, 'bed': 59, 'living': 56, 'walk': 54, 'home': 51, ...})"
      ]
     },
     "execution_count": 130,
     "metadata": {},
     "output_type": "execute_result"
    }
   ],
   "source": [
    "#: most frequent words using FreqDist function in nltk\n",
    "allWordsTop = nltk.tokenize.word_tokenize(topDescriptionText)\n",
    "allWordDistTop = nltk.FreqDist(w for w in allWordsTop)\n",
    "allWordDistTop"
   ]
  },
  {
   "cell_type": "code",
   "execution_count": 131,
   "metadata": {},
   "outputs": [
    {
     "data": {
      "text/plain": [
       "FreqDist({'boston': 15, 'room': 10, 'end': 10, 'south': 9, 'private': 7, 'near': 7, 'sunny': 6, 'cozy': 6, 'location': 6, 'w': 6, ...})"
      ]
     },
     "execution_count": 131,
     "metadata": {},
     "output_type": "execute_result"
    }
   ],
   "source": [
    "#: most frequent words using FreqDist function in nltk\n",
    "allWordsTop4Name = nltk.tokenize.word_tokenize(topNameText)\n",
    "allWordDistTop4Name = nltk.FreqDist(w for w in allWordsTop4Name)\n",
    "allWordDistTop4Name"
   ]
  },
  {
   "cell_type": "markdown",
   "metadata": {},
   "source": [
    "## Get the low-rated listings\n",
    "\n",
    "- We define the low-rated listings as those listings with review_scores_rating < 60\n"
   ]
  },
  {
   "cell_type": "code",
   "execution_count": 134,
   "metadata": {},
   "outputs": [
    {
     "data": {
      "text/plain": [
       "514     Boston beautiful new Apartment #43end day12/31/16\n",
       "820                    Local BedNBreakfast Mins 2 Dwntown\n",
       "1615                            Eagle Hill Cozy Apartment\n",
       "1681                  Harbor Side 1BR Nr. Airport & Train\n",
       "2565                       Single Private Room in a House\n",
       "2638                  Best value-Cozy, quiet private room\n",
       "2846                      Umass,MGH,City,BCEC,Longwood 2A\n",
       "2881                  Umass,city, longwood, MGH, BCEC 16B\n",
       "2943                    Umass,MGH,Harvard,MIT,Longwood A3\n",
       "2982                  Umass, City, MGH, BCEC, Longwood 2E\n",
       "3376                             Clean bedroom in Allston\n",
       "3437                              Cosy Bedroom by Harvard\n",
       "3484                    Whole Apt.2 beds,wifi,close train\n",
       "Name: name, dtype: object"
      ]
     },
     "execution_count": 134,
     "metadata": {},
     "output_type": "execute_result"
    }
   ],
   "source": [
    "#: Titles for low-rated listings with review_scores_rating < 60 and number_of_reviews > 1\n",
    "\n",
    "ser_name_bot = df_listing[(df_listing['review_scores_rating']<60) & (df_listing['number_of_reviews']>1) ]['name'].dropna()\n",
    "ser_name_bot"
   ]
  },
  {
   "cell_type": "code",
   "execution_count": 135,
   "metadata": {},
   "outputs": [
    {
     "data": {
      "text/plain": [
       "514     2 bedrooms, 1 full baths, kitchen. Close to bi...\n",
       "820     Great local BednBreakfast minutes from Dwntown...\n",
       "1615    The apartment is close to Rino's Place restaur...\n",
       "1681    Very cool one bedroom unit close to the train ...\n",
       "2565    1 Single Private Room in a 3 stories house Sha...\n",
       "2638    If you are looking for a place to stay during ...\n",
       "2846    Come live in our international home with schol...\n",
       "2881    Affordable Comfortable private room share with...\n",
       "2943    Come live with other international students/do...\n",
       "2982    Private room shared kitchen and bath. 2 mins t...\n",
       "3376    Convenient transportation: 5 minutes walk to t...\n",
       "3437    We are next to Harvard. Safe and quiet. Our lo...\n",
       "3484    My place is good for couples, solo adventurers...\n",
       "Name: description, dtype: object"
      ]
     },
     "execution_count": 135,
     "metadata": {},
     "output_type": "execute_result"
    }
   ],
   "source": [
    "#: Descriptions for low-rated listings with review_scores_rating < 60 and number_of_reviews > 1\n",
    "ser_description_bot = df_listing[(df_listing['review_scores_rating']<60) & (df_listing['number_of_reviews']>1) ]['description'].dropna()\n",
    "ser_description_bot\n"
   ]
  },
  {
   "cell_type": "code",
   "execution_count": 136,
   "metadata": {},
   "outputs": [],
   "source": [
    "preprocessed_description4bot = []\n",
    "preprocessed_name4bot = []\n"
   ]
  },
  {
   "cell_type": "code",
   "execution_count": 137,
   "metadata": {},
   "outputs": [
    {
     "name": "stderr",
     "output_type": "stream",
     "text": [
      "100%|██████████| 13/13 [00:00<00:00, 4944.77it/s]\n",
      "100%|██████████| 13/13 [00:00<00:00, 12923.90it/s]\n"
     ]
    }
   ],
   "source": [
    "for sentance in tqdm(ser_description_bot.values):\n",
    "    str = \"123456790abcdefABCDEF!@#$%^&*()_+<>?,./\"\n",
    "    sentance = re.sub(r'[^a-zA-Z]', \" \", sentance)\n",
    "    sentance = ' '.join(e.lower() for e in sentance.split() if e.lower() not in stopwords)\n",
    "    preprocessed_description4bot.append(sentance.strip())\n",
    "    \n",
    "for sentance in tqdm(ser_name_bot.values):\n",
    "    str = \"123456790abcdefABCDEF!@#$%^&*()_+<>?,./\"\n",
    "    sentance = re.sub(r'[^a-zA-Z]', \" \", sentance)\n",
    "    sentance = ' '.join(e.lower() for e in sentance.split() if e.lower() not in stopwords)\n",
    "    preprocessed_name4bot.append(sentance.strip())\n",
    "    \n"
   ]
  },
  {
   "cell_type": "code",
   "execution_count": 138,
   "metadata": {},
   "outputs": [],
   "source": [
    "botDescriptionText = ' '.join(preprocessed_description4bot)\n",
    "botNameText = ' '.join(preprocessed_name4bot)\n",
    "\n"
   ]
  },
  {
   "cell_type": "code",
   "execution_count": 139,
   "metadata": {},
   "outputs": [
    {
     "data": {
      "text/plain": [
       "FreqDist({'umass': 4, 'mgh': 4, 'longwood': 4, 'city': 3, 'bcec': 3, 'apartment': 2, 'cozy': 2, 'train': 2, 'private': 2, 'room': 2, ...})"
      ]
     },
     "execution_count": 139,
     "metadata": {},
     "output_type": "execute_result"
    }
   ],
   "source": [
    "#: most frequent words in Titles\n",
    "allWordsBot4Name = nltk.tokenize.word_tokenize(botNameText)\n",
    "allWordDistBot4Name = nltk.FreqDist(w for w in allWordsBot4Name)\n",
    "allWordDistBot4Name"
   ]
  },
  {
   "cell_type": "code",
   "execution_count": 140,
   "metadata": {},
   "outputs": [
    {
     "data": {
      "text/plain": [
       "FreqDist({'mins': 19, 'room': 12, 'train': 11, 'station': 11, 'apartment': 10, 'kitchen': 8, 'boston': 8, 'minutes': 7, 'free': 7, 'access': 6, ...})"
      ]
     },
     "execution_count": 140,
     "metadata": {},
     "output_type": "execute_result"
    }
   ],
   "source": [
    "#: most frequent words in Descriptions\n",
    "allWordsBot = nltk.tokenize.word_tokenize(botDescriptionText)\n",
    "allWordDistBot = nltk.FreqDist(w for w in allWordsBot)\n",
    "allWordDistBot"
   ]
  },
  {
   "cell_type": "markdown",
   "metadata": {},
   "source": [
    "# 4. Evaluation\n",
    "\n",
    "- We answer those three questions above\n",
    "- We plot histograms to display those frequent words"
   ]
  },
  {
   "cell_type": "markdown",
   "metadata": {},
   "source": [
    "## List the top 10 most frequently used words in all listings"
   ]
  },
  {
   "cell_type": "code",
   "execution_count": 142,
   "metadata": {},
   "outputs": [
    {
     "data": {
      "text/plain": [
       "[('boston', 715),\n",
       " ('room', 629),\n",
       " ('bedroom', 362),\n",
       " ('private', 354),\n",
       " ('end', 354),\n",
       " ('apt', 329),\n",
       " ('apartment', 310),\n",
       " ('near', 270),\n",
       " ('cozy', 261),\n",
       " ('studio', 248)]"
      ]
     },
     "execution_count": 142,
     "metadata": {},
     "output_type": "execute_result"
    }
   ],
   "source": [
    "#: Titles\n",
    "sortedWord4Name = sorted(allWordDist4Name.items(), key=lambda x: x[1], reverse=True)\n",
    "sortedWord4Name[:10]\n"
   ]
  },
  {
   "cell_type": "code",
   "execution_count": 143,
   "metadata": {},
   "outputs": [
    {
     "data": {
      "text/plain": [
       "[('boston', 5323),\n",
       " ('room', 3670),\n",
       " ('apartment', 3282),\n",
       " ('kitchen', 2768),\n",
       " ('walk', 2667),\n",
       " ('bedroom', 2481),\n",
       " ('bed', 2196),\n",
       " ('living', 1957),\n",
       " ('located', 1825),\n",
       " ('street', 1791)]"
      ]
     },
     "execution_count": 143,
     "metadata": {},
     "output_type": "execute_result"
    }
   ],
   "source": [
    "#: Descriptions\n",
    "sortedWord = sorted(allWordDist.items(), key=lambda x: x[1], reverse=True)\n",
    "sortedWord[:10]\n"
   ]
  },
  {
   "cell_type": "code",
   "execution_count": 144,
   "metadata": {},
   "outputs": [
    {
     "data": {
      "image/png": "[encoded data removed]",
      "text/plain": [
       "<Figure size 432x288 with 1 Axes>"
      ]
     },
     "metadata": {
      "needs_background": "light"
     },
     "output_type": "display_data"
    }
   ],
   "source": [
    "word = []\n",
    "frequency = []\n",
    "for i in range(len(sortedWord4Name[:10])):\n",
    "    word.append(sortedWord4Name[i][0])\n",
    "    frequency.append(sortedWord4Name[i][1])\n",
    "    \n",
    "indices = np.arange(len(sortedWord4Name[:10]))\n",
    "plt.bar(indices, frequency)\n",
    "plt.xticks(indices, word, rotation='vertical')\n",
    "plt.tight_layout()\n",
    "plt.title('top 10 words used in Title for all listings')\n",
    "\n",
    "plt.show()"
   ]
  },
  {
   "cell_type": "code",
   "execution_count": 145,
   "metadata": {},
   "outputs": [
    {
     "data": {
      "image/png": "[encoded data removed]",
      "text/plain": [
       "<Figure size 432x288 with 1 Axes>"
      ]
     },
     "metadata": {
      "needs_background": "light"
     },
     "output_type": "display_data"
    }
   ],
   "source": [
    "word = []\n",
    "frequency = []\n",
    "for i in range(len(sortedWord[:10])):\n",
    "    word.append(sortedWord[i][0])\n",
    "    frequency.append(sortedWord[i][1])\n",
    "    \n",
    "indices = np.arange(len(sortedWord[:10]))\n",
    "plt.bar(indices, frequency)\n",
    "plt.xticks(indices, word, rotation='vertical')\n",
    "plt.tight_layout()\n",
    "plt.title('top 10 words used in Description for all listings')\n",
    "plt.show()"
   ]
  },
  {
   "cell_type": "markdown",
   "metadata": {},
   "source": [
    "## List the top 10 most frequently used words in the top-rated listings"
   ]
  },
  {
   "cell_type": "code",
   "execution_count": 155,
   "metadata": {},
   "outputs": [
    {
     "data": {
      "text/plain": [
       "[('boston', 15),\n",
       " ('room', 10),\n",
       " ('end', 10),\n",
       " ('south', 9),\n",
       " ('private', 7),\n",
       " ('near', 7),\n",
       " ('sunny', 6),\n",
       " ('cozy', 6),\n",
       " ('location', 6),\n",
       " ('w', 6)]"
      ]
     },
     "execution_count": 155,
     "metadata": {},
     "output_type": "execute_result"
    }
   ],
   "source": [
    "#: Titles of top-rated listings\n",
    "topSortedWord4Name = sorted(allWordDistTop4Name.items(), key=lambda x: x[1], reverse=True)\n",
    "topSortedWord4Name[:10]\n"
   ]
  },
  {
   "cell_type": "code",
   "execution_count": 147,
   "metadata": {},
   "outputs": [
    {
     "data": {
      "text/plain": [
       "[('boston', 124),\n",
       " ('room', 97),\n",
       " ('bedroom', 81),\n",
       " ('apartment', 73),\n",
       " ('kitchen', 68),\n",
       " ('private', 62),\n",
       " ('bed', 59),\n",
       " ('living', 56),\n",
       " ('walk', 54),\n",
       " ('home', 51)]"
      ]
     },
     "execution_count": 147,
     "metadata": {},
     "output_type": "execute_result"
    }
   ],
   "source": [
    "#: Descriptions of top-rated listings\n",
    "\n",
    "topSortedWord = sorted(allWordDistTop.items(), key=lambda x: x[1], reverse=True)\n",
    "topSortedWord[:10]\n"
   ]
  },
  {
   "cell_type": "code",
   "execution_count": 149,
   "metadata": {},
   "outputs": [
    {
     "data": {
      "image/png": "[encoded data removed]",
      "text/plain": [
       "<Figure size 432x288 with 1 Axes>"
      ]
     },
     "metadata": {
      "needs_background": "light"
     },
     "output_type": "display_data"
    }
   ],
   "source": [
    "word = []\n",
    "frequency = []\n",
    "for i in range(len(topSortedWord4Name[:10])):\n",
    "    word.append(topSortedWord4Name[i][0])\n",
    "    frequency.append(topSortedWord4Name[i][1])\n",
    "    \n",
    "indices = np.arange(len(topSortedWord4Name[:10]))\n",
    "plt.bar(indices, frequency)\n",
    "plt.xticks(indices, word, rotation='vertical')\n",
    "plt.tight_layout()\n",
    "plt.title('top 10 words used in Title for toprated listings')\n",
    "\n",
    "plt.show()"
   ]
  },
  {
   "cell_type": "code",
   "execution_count": 150,
   "metadata": {},
   "outputs": [
    {
     "data": {
      "image/png": "[encoded data removed]",
      "text/plain": [
       "<Figure size 432x288 with 1 Axes>"
      ]
     },
     "metadata": {
      "needs_background": "light"
     },
     "output_type": "display_data"
    }
   ],
   "source": [
    "word = []\n",
    "frequency = []\n",
    "for i in range(len(topSortedWord[:10])):\n",
    "    word.append(topSortedWord[i][0])\n",
    "    frequency.append(topSortedWord[i][1])\n",
    "    \n",
    "indices = np.arange(len(topSortedWord[:10]))\n",
    "plt.bar(indices, frequency)\n",
    "plt.xticks(indices, word, rotation='vertical')\n",
    "plt.tight_layout()\n",
    "plt.title('top 10 words used in Description for top rated listings')\n",
    "\n",
    "plt.show()"
   ]
  },
  {
   "cell_type": "markdown",
   "metadata": {},
   "source": [
    "## List the top 10 most frequently used words in the low-rated listings\n"
   ]
  },
  {
   "cell_type": "code",
   "execution_count": 151,
   "metadata": {},
   "outputs": [
    {
     "data": {
      "text/plain": [
       "[('umass', 4),\n",
       " ('mgh', 4),\n",
       " ('longwood', 4),\n",
       " ('city', 3),\n",
       " ('bcec', 3),\n",
       " ('apartment', 2),\n",
       " ('cozy', 2),\n",
       " ('train', 2),\n",
       " ('private', 2),\n",
       " ('room', 2)]"
      ]
     },
     "execution_count": 151,
     "metadata": {},
     "output_type": "execute_result"
    }
   ],
   "source": [
    "#: Titles of low-rated listings\n",
    "botSortedWord4Name = sorted(allWordDistBot4Name.items(), key=lambda x: x[1], reverse=True)\n",
    "botSortedWord4Name[:10]\n"
   ]
  },
  {
   "cell_type": "code",
   "execution_count": 152,
   "metadata": {},
   "outputs": [
    {
     "data": {
      "text/plain": [
       "[('mins', 19),\n",
       " ('room', 12),\n",
       " ('train', 11),\n",
       " ('station', 11),\n",
       " ('apartment', 10),\n",
       " ('kitchen', 8),\n",
       " ('boston', 8),\n",
       " ('minutes', 7),\n",
       " ('free', 7),\n",
       " ('access', 6)]"
      ]
     },
     "execution_count": 152,
     "metadata": {},
     "output_type": "execute_result"
    }
   ],
   "source": [
    "#: Descriptions of low-rated listings\n",
    "botSortedWord = sorted(allWordDistBot.items(), key=lambda x: x[1], reverse=True)\n",
    "botSortedWord[:10]\n"
   ]
  },
  {
   "cell_type": "code",
   "execution_count": 153,
   "metadata": {},
   "outputs": [
    {
     "data": {
      "image/png": "[encoded data removed]",
      "text/plain": [
       "<Figure size 432x288 with 1 Axes>"
      ]
     },
     "metadata": {
      "needs_background": "light"
     },
     "output_type": "display_data"
    }
   ],
   "source": [
    "word = []\n",
    "frequency = []\n",
    "for i in range(len(botSortedWord4Name[:10])):\n",
    "    word.append(botSortedWord4Name[i][0])\n",
    "    frequency.append(botSortedWord4Name[i][1])\n",
    "    \n",
    "indices = np.arange(len(botSortedWord4Name[:10]))\n",
    "plt.bar(indices, frequency)\n",
    "plt.xticks(indices, word, rotation='vertical')\n",
    "plt.tight_layout()\n",
    "plt.title('top 10 words used in Title for poorly rated listings')\n",
    "\n",
    "plt.show()"
   ]
  },
  {
   "cell_type": "code",
   "execution_count": 154,
   "metadata": {},
   "outputs": [
    {
     "data": {
      "image/png": "[encoded data removed]",
      "text/plain": [
       "<Figure size 432x288 with 1 Axes>"
      ]
     },
     "metadata": {
      "needs_background": "light"
     },
     "output_type": "display_data"
    }
   ],
   "source": [
    "word = []\n",
    "frequency = []\n",
    "for i in range(len(botSortedWord[:10])):\n",
    "    word.append(botSortedWord[i][0])\n",
    "    frequency.append(botSortedWord[i][1])\n",
    "    \n",
    "indices = np.arange(len(botSortedWord[:10]))\n",
    "plt.bar(indices, frequency)\n",
    "plt.xticks(indices, word, rotation='vertical')\n",
    "plt.tight_layout()\n",
    "plt.title('top 10 words used in Description for poorly rated listings')\n",
    "\n",
    "plt.show()"
   ]
  },
  {
   "cell_type": "markdown",
   "metadata": {},
   "source": [
    "# 5. Conclusion"
   ]
  },
  {
   "cell_type": "markdown",
   "metadata": {},
   "source": [
    "After examing those ten most frequent words used in the title and description of all listings, the top-rated listings, and the poorly rated listings, I made the following observations\n",
    "* Six out of ten overlapping words are in the titles of all listings and the top-rated listings.\n",
    "* Seven out of ten overlapping words are in the descriptions of all listings and the top-rated listings.\n",
    "* Four out of ten overlapping words are in the titles of all listings and the poorly rated listings\n",
    "* Four out of ten overlapping words are in the descriptions of all listings and the poorly rated listings\n",
    "\n",
    "In general, I can see more specific/unique words used in the poorly rated listings. For example, words indicating particular parts of the city, such as MGH, Longwood, and terms that specify a time, such as mins, are used."
   ]
  },
  {
   "cell_type": "code",
   "execution_count": null,
   "metadata": {},
   "outputs": [],
   "source": []
  }
 ],
 "metadata": {
  "kernelspec": {
   "display_name": "Python 3",
   "language": "python",
   "name": "python3"
  },
  "language_info": {
   "codemirror_mode": {
    "name": "ipython",
    "version": 3
   },
   "file_extension": ".py",
   "mimetype": "text/x-python",
   "name": "python",
   "nbconvert_exporter": "python",
   "pygments_lexer": "ipython3",
   "version": "3.7.4"
  }
 },
 "nbformat": 4,
 "nbformat_minor": 2
}
