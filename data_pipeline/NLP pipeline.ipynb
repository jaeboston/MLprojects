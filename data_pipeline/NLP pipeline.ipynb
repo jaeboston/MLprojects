{
 "cells": [
  {
   "cell_type": "markdown",
   "metadata": {},
   "source": [
    "# Cleaning\n",
    "It's your turn! Udacity's [course catalog page](https://www.udacity.com/courses/all) has changed since the last video was filmed. One notable change is the introduction of  _schools_.\n",
    "\n",
    "In this activity, you're going to perform similar actions with BeautifulSoup to extract the following information from each course listing on the page:\n",
    "1. The course name - e.g. \"Data Analyst\"\n",
    "2. The school the course belongs to - e.g. \"School of Data Science\""
   ]
  },
  {
   "cell_type": "markdown",
   "metadata": {},
   "source": [
    "### Step 1: Get text from Udacity's course catalog web page\n",
    "You can use the `requests` library to do this.\n",
    "\n",
    "Outputting all the javascript, CSS, and text may overload the space available to load this notebook, so we omit a print statement here."
   ]
  },
  {
   "cell_type": "code",
   "execution_count": 1,
   "metadata": {},
   "outputs": [],
   "source": [
    "import requests\n",
    "import re\n",
    "from bs4 import BeautifulSoup"
   ]
  },
  {
   "cell_type": "code",
   "execution_count": 2,
   "metadata": {},
   "outputs": [],
   "source": [
    "#: fetch the web site\n",
    "r = requests.get(\"https://www.udacity.com/courses/all\")"
   ]
  },
  {
   "cell_type": "markdown",
   "metadata": {},
   "source": [
    "### Step 2: Use BeautifulSoup to remove HTML tags\n",
    "Use `\"lxml\"` rather than `\"html5lib\"`.\n"
   ]
  },
  {
   "cell_type": "code",
   "execution_count": 3,
   "metadata": {},
   "outputs": [],
   "source": [
    "soup = BeautifulSoup(r.text, 'lxml')"
   ]
  },
  {
   "cell_type": "code",
   "execution_count": 4,
   "metadata": {},
   "outputs": [
    {
     "name": "stdout",
     "output_type": "stream",
     "text": [
      "<!DOCTYPE html><html lang=\"en-US\"><head><meta charSet=\"UTF-8\"/><script type=\"text/javascript\">window.NREUM||(NREUM={}),__nr_require=function(t,n,e){function r(e){if(!n[e]){var o=n[e]={exports:{}};t[e][0].call(o.exports,function(n){var o=t[e][1][n];return r(o||n)},o,o.exports)}return n[e].exports}if(\"function\"==typeof __nr_require)return __nr_require;for(var o=0;o<e.length;o++)r(e[o]);return r}({1:[function(t,n,e){function r(t){try{s.console&&console.log(t)}catch(n){}}var o,i=t(\"ee\"),a=t(15),s={};try{o=localStorage.getItem(\"__nr_flags\").split(\",\"),console&&\"function\"==typeof console.log&&(s.console=!0,o.indexOf(\"dev\")!==-1&&(s.dev=!0),o.indexOf(\"nr_dev\")!==-1&&(s.nrDev=!0))}catch(c){}s.nrDev&&i.on(\"internal-error\",function(t){r(t.stack)}),s.dev&&i.on(\"fn-err\",function(t,n,e){r(e.stack)}),s.dev&&(r(\"NR AGENT IN DEVELOPMENT MODE\"),r(\"flags: \"+a(s,function(t,n){return t}).join(\", \")))},{}],2:[function(t,n,e){function r(t,n,e,r,s){try{p?p-=1:o(s||new UncaughtException(t,n,e),!0)}catch(f){try{i(\"ierr\",[f,c.now(),!0])}catch(d){}}return\"function\"==typeof u&&u.apply(this,a(arguments))}function UncaughtException(t,n,e){this.message=t||\"Uncaught error with no additional information\",this.sourceURL=n,this.line=e}function o(t,n){var e=n?null:c.now();i(\"err\",[t,e])}var i=t(\"handle\"),a=t(16),s=t(\"ee\"),c=t(\"loader\"),f=t(\"gos\"),u=window.onerror,d=!1,l=\"nr@seenError\",p=0;c.features.err=!0,t(1),window.onerror=r;try{throw new Error}catch(h){\"stack\"in h&&(t(8),t(7),\"addEventListener\"in window&&t(5),c.xhrWrappable&&t(9),d=!0)}s.on(\"fn-start\",function(t,n,e){d&&(p+=1)}),s.on(\"fn-err\",function(t,n,e){d&&!e[l]&&(f(e,l,function(){return!0}),this.thrown=!0,o(e))}),s.on(\"fn-end\",function(){d&&!this.thrown&&p>0&&(p-=1)}),s.on(\"internal-error\",function(t){i(\"ierr\",[t,c.now(),!0])})},{}],3:[function(t,n,e){t(\"loader\").features.ins=!0},{}],4:[function(t,n,e){function r(t){}if(window.performance&&window.performance.timing&&window.performance.getEntriesByType){var o=t(\"ee\"),i=t(\"handle\"),a=t(8),s=t(7),c=\"learResourceTimings\",f=\"addEventListener\",u=\"resourcetimingbufferfull\",d=\"bstResource\",l=\"resource\",p=\"-start\",h=\"-end\",m=\"fn\"+p,w=\"fn\"+h,v=\"bstTimer\",y=\"pushState\",g=t(\"loader\");g.features.stn=!0,t(6);var b=NREUM.o.EV;o.on(m,function(t,n){var e=t[0];e instanceof b&&(this.bstStart=g.now())}),o.on(w,function(t,n){var e=t[0];e instanceof b&&i(\"bst\",[e,n,this.bstStart,g.now()])}),a.on(m,function(t,n,e){this.bstStart=g.now(),this.bstType=e}),a.on(w,function(t,n){i(v,[n,this.bstStart,g.now(),this.bstType])}),s.on(m,function(){this.bstStart=g.now()}),s.on(w,function(t,n){i(v,[n,this.bstStart,g.now(),\"requestAnimationFrame\"])}),o.on(y+p,function(t){this.time=g.now(),this.startPath=location.pathname+location.hash}),o.on(y+h,function(t){i(\"bstHist\",[location.pathname+location.hash,this.startPath,this.time])}),f in window.performance&&(window.performance[\"c\"+c]?window.performance[f](u,function(t){i(d,[window.performance.getEntriesByType(l)]),window.performance[\"c\"+c]()},!1):window.performance[f](\"webkit\"+u,function(t){i(d,[window.performance.getEntriesByType(l)]),window.performance[\"webkitC\"+c]()},!1)),document[f](\"scroll\",r,{passive:!0}),document[f](\"keypress\",r,!1),document[f](\"click\",r,!1)}},{}],5:[function(t,n,e){function r(t){for(var n=t;n&&!n.hasOwnProperty(u);)n=Object.getPrototypeOf(n);n&&o(n)}function o(t){s.inPlace(t,[u,d],\"-\",i)}function i(t,n){return t[1]}var a=t(\"ee\").get(\"events\"),s=t(18)(a,!0),c=t(\"gos\"),f=XMLHttpRequest,u=\"addEventListener\",d=\"removeEventListener\";n.exports=a,\"getPrototypeOf\"in Object?(r(document),r(window),r(f.prototype)):f.prototype.hasOwnProperty(u)&&(o(window),o(f.prototype)),a.on(u+\"-start\",function(t,n){var e=t[1],r=c(e,\"nr@wrapped\",function(){function t(){if(\"function\"==typeof e.handleEvent)return e.handleEvent.apply(e,arguments)}var n={object:t,\"function\":e}[typeof e];return n?s(n,\"fn-\",null,n.name||\"anonymous\"):e});this.wrapped=t[1]=r}),a.on(d+\"-start\",function(t){t[1]=this.wrapped||t[1]})},{}],6:[function(t,n,e){var r=t(\"ee\").get(\"history\"),o=t(18)(r);n.exports=r,o.inPlace(window.history,[\"pushState\",\"replaceState\"],\"-\")},{}],7:[function(t,n,e){var r=t(\"ee\").get(\"raf\"),o=t(18)(r),i=\"equestAnimationFrame\";n.exports=r,o.inPlace(window,[\"r\"+i,\"mozR\"+i,\"webkitR\"+i,\"msR\"+i],\"raf-\"),r.on(\"raf-start\",function(t){t[0]=o(t[0],\"fn-\")})},{}],8:[function(t,n,e){function r(t,n,e){t[0]=a(t[0],\"fn-\",null,e)}function o(t,n,e){this.method=e,this.timerDuration=isNaN(t[1])?0:+t[1],t[0]=a(t[0],\"fn-\",this,e)}var i=t(\"ee\").get(\"timer\"),a=t(18)(i),s=\"setTimeout\",c=\"setInterval\",f=\"clearTimeout\",u=\"-start\",d=\"-\";n.exports=i,a.inPlace(window,[s,\"setImmediate\"],s+d),a.inPlace(window,[c],c+d),a.inPlace(window,[f,\"clearImmediate\"],f+d),i.on(c+u,r),i.on(s+u,o)},{}],9:[function(t,n,e){function r(t,n){d.inPlace(n,[\"onreadystatechange\"],\"fn-\",s)}function o(){var t=this,n=u.context(t);t.readyState>3&&!n.resolved&&(n.resolved=!0,u.emit(\"xhr-resolved\",[],t)),d.inPlace(t,y,\"fn-\",s)}function i(t){g.push(t),h&&(x?x.then(a):w?w(a):(E=-E,O.data=E))}function a(){for(var t=0;t<g.length;t++)r([],g[t]);g.length&&(g=[])}function s(t,n){return n}function c(t,n){for(var e in t)n[e]=t[e];return n}t(5);var f=t(\"ee\"),u=f.get(\"xhr\"),d=t(18)(u),l=NREUM.o,p=l.XHR,h=l.MO,m=l.PR,w=l.SI,v=\"readystatechange\",y=[\"onload\",\"onerror\",\"onabort\",\"onloadstart\",\"onloadend\",\"onprogress\",\"ontimeout\"],g=[];n.exports=u;var b=window.XMLHttpRequest=function(t){var n=new p(t);try{u.emit(\"new-xhr\",[n],n),n.addEventListener(v,o,!1)}catch(e){try{u.emit(\"internal-error\",[e])}catch(r){}}return n};if(c(p,b),b.prototype=p.prototype,d.inPlace(b.prototype,[\"open\",\"send\"],\"-xhr-\",s),u.on(\"send-xhr-start\",function(t,n){r(t,n),i(n)}),u.on(\"open-xhr-start\",r),h){var x=m&&m.resolve();if(!w&&!m){var E=1,O=document.createTextNode(E);new h(a).observe(O,{characterData:!0})}}else f.on(\"fn-end\",function(t){t[0]&&t[0].type===v||a()})},{}],10:[function(t,n,e){function r(t){var n=this.params,e=this.metrics;if(!this.ended){this.ended=!0;for(var r=0;r<d;r++)t.removeEventListener(u[r],this.listener,!1);if(!n.aborted){if(e.duration=a.now()-this.startTime,4===t.readyState){n.status=t.status;var i=o(t,this.lastSize);if(i&&(e.rxSize=i),this.sameOrigin){var c=t.getResponseHeader(\"X-NewRelic-App-Data\");c&&(n.cat=c.split(\", \").pop())}}else n.status=0;e.cbTime=this.cbTime,f.emit(\"xhr-done\",[t],t),s(\"xhr\",[n,e,this.startTime])}}}function o(t,n){var e=t.responseType;if(\"json\"===e&&null!==n)return n;var r=\"arraybuffer\"===e||\"blob\"===e||\"json\"===e?t.response:t.responseText;return h(r)}function i(t,n){var e=c(n),r=t.params;r.host=e.hostname+\":\"+e.port,r.pathname=e.pathname,t.sameOrigin=e.sameOrigin}var a=t(\"loader\");if(a.xhrWrappable){var s=t(\"handle\"),c=t(11),f=t(\"ee\"),u=[\"load\",\"error\",\"abort\",\"timeout\"],d=u.length,l=t(\"id\"),p=t(14),h=t(13),m=window.XMLHttpRequest;a.features.xhr=!0,t(9),f.on(\"new-xhr\",function(t){var n=this;n.totalCbs=0,n.called=0,n.cbTime=0,n.end=r,n.ended=!1,n.xhrGuids={},n.lastSize=null,p&&(p>34||p<10)||window.opera||t.addEventListener(\"progress\",function(t){n.lastSize=t.loaded},!1)}),f.on(\"open-xhr-start\",function(t){this.params={method:t[0]},i(this,t[1]),this.metrics={}}),f.on(\"open-xhr-end\",function(t,n){\"loader_config\"in NREUM&&\"xpid\"in NREUM.loader_config&&this.sameOrigin&&n.setRequestHeader(\"X-NewRelic-ID\",NREUM.loader_config.xpid)}),f.on(\"send-xhr-start\",function(t,n){var e=this.metrics,r=t[0],o=this;if(e&&r){var i=h(r);i&&(e.txSize=i)}this.startTime=a.now(),this.listener=function(t){try{\"abort\"===t.type&&(o.params.aborted=!0),(\"load\"!==t.type||o.called===o.totalCbs&&(o.onloadCalled||\"function\"!=typeof n.onload))&&o.end(n)}catch(e){try{f.emit(\"internal-error\",[e])}catch(r){}}};for(var s=0;s<d;s++)n.addEventListener(u[s],this.listener,!1)}),f.on(\"xhr-cb-time\",function(t,n,e){this.cbTime+=t,n?this.onloadCalled=!0:this.called+=1,this.called!==this.totalCbs||!this.onloadCalled&&\"function\"==typeof e.onload||this.end(e)}),f.on(\"xhr-load-added\",function(t,n){var e=\"\"+l(t)+!!n;this.xhrGuids&&!this.xhrGuids[e]&&(this.xhrGuids[e]=!0,this.totalCbs+=1)}),f.on(\"xhr-load-removed\",function(t,n){var e=\"\"+l(t)+!!n;this.xhrGuids&&this.xhrGuids[e]&&(delete this.xhrGuids[e],this.totalCbs-=1)}),f.on(\"addEventListener-end\",function(t,n){n instanceof m&&\"load\"===t[0]&&f.emit(\"xhr-load-added\",[t[1],t[2]],n)}),f.on(\"removeEventListener-end\",function(t,n){n instanceof m&&\"load\"===t[0]&&f.emit(\"xhr-load-removed\",[t[1],t[2]],n)}),f.on(\"fn-start\",function(t,n,e){n instanceof m&&(\"onload\"===e&&(this.onload=!0),(\"load\"===(t[0]&&t[0].type)||this.onload)&&(this.xhrCbStart=a.now()))}),f.on(\"fn-end\",function(t,n){this.xhrCbStart&&f.emit(\"xhr-cb-time\",[a.now()-this.xhrCbStart,this.onload,n],n)})}},{}],11:[function(t,n,e){n.exports=function(t){var n=document.createElement(\"a\"),e=window.location,r={};n.href=t,r.port=n.port;var o=n.href.split(\"://\");!r.port&&o[1]&&(r.port=o[1].split(\"/\")[0].split(\"@\").pop().split(\":\")[1]),r.port&&\"0\"!==r.port||(r.port=\"https\"===o[0]?\"443\":\"80\"),r.hostname=n.hostname||e.hostname,r.pathname=n.pathname,r.protocol=o[0],\"/\"!==r.pathname.charAt(0)&&(r.pathname=\"/\"+r.pathname);var i=!n.protocol||\":\"===n.protocol||n.protocol===e.protocol,a=n.hostname===document.domain&&n.port===e.port;return r.sameOrigin=i&&(!n.hostname||a),r}},{}],12:[function(t,n,e){function r(){}function o(t,n,e){return function(){return i(t,[f.now()].concat(s(arguments)),n?null:this,e),n?void 0:this}}var i=t(\"handle\"),a=t(15),s=t(16),c=t(\"ee\").get(\"tracer\"),f=t(\"loader\"),u=NREUM;\"undefined\"==typeof window.newrelic&&(newrelic=u);var d=[\"setPageViewName\",\"setCustomAttribute\",\"setErrorHandler\",\"finished\",\"addToTrace\",\"inlineHit\",\"addRelease\"],l=\"api-\",p=l+\"ixn-\";a(d,function(t,n){u[n]=o(l+n,!0,\"api\")}),u.addPageAction=o(l+\"addPageAction\",!0),u.setCurrentRouteName=o(l+\"routeName\",!0),n.exports=newrelic,u.interaction=function(){return(new r).get()};var h=r.prototype={createTracer:function(t,n){var e={},r=this,o=\"function\"==typeof n;return i(p+\"tracer\",[f.now(),t,e],r),function(){if(c.emit((o?\"\":\"no-\")+\"fn-start\",[f.now(),r,o],e),o)try{return n.apply(this,arguments)}catch(t){throw c.emit(\"fn-err\",[arguments,this,t],e),t}finally{c.emit(\"fn-end\",[f.now()],e)}}}};a(\"setName,setAttribute,save,ignore,onEnd,getContext,end,get\".split(\",\"),function(t,n){h[n]=o(p+n)}),newrelic.noticeError=function(t){\"string\"==typeof t&&(t=new Error(t)),i(\"err\",[t,f.now()])}},{}],13:[function(t,n,e){n.exports=function(t){if(\"string\"==typeof t&&t.length)return t.length;if(\"object\"==typeof t){if(\"undefined\"!=typeof ArrayBuffer&&t instanceof ArrayBuffer&&t.byteLength)return t.byteLength;if(\"undefined\"!=typeof Blob&&t instanceof Blob&&t.size)return t.size;if(!(\"undefined\"!=typeof FormData&&t instanceof FormData))try{return JSON.stringify(t).length}catch(n){return}}}},{}],14:[function(t,n,e){var r=0,o=navigator.userAgent.match(/Firefox[/s](d+.d+)/);o&&(r=+o[1]),n.exports=r},{}],15:[function(t,n,e){function r(t,n){var e=[],r=\"\",i=0;for(r in t)o.call(t,r)&&(e[i]=n(r,t[r]),i+=1);return e}var o=Object.prototype.hasOwnProperty;n.exports=r},{}],16:[function(t,n,e){function r(t,n,e){n||(n=0),\"undefined\"==typeof e&&(e=t?t.length:0);for(var r=-1,o=e-n||0,i=Array(o<0?0:o);++r<o;)i[r]=t[n+r];return i}n.exports=r},{}],17:[function(t,n,e){n.exports={exists:\"undefined\"!=typeof window.performance&&window.performance.timing&&\"undefined\"!=typeof window.performance.timing.navigationStart}},{}],18:[function(t,n,e){function r(t){return!(t&&t instanceof Function&&t.apply&&!t[a])}var o=t(\"ee\"),i=t(16),a=\"nr@original\",s=Object.prototype.hasOwnProperty,c=!1;n.exports=function(t,n){function e(t,n,e,o){function nrWrapper(){var r,a,s,c;try{a=this,r=i(arguments),s=\"function\"==typeof e?e(r,a):e||{}}catch(f){l([f,\"\",[r,a,o],s])}u(n+\"start\",[r,a,o],s);try{return c=t.apply(a,r)}catch(d){throw u(n+\"err\",[r,a,d],s),d}finally{u(n+\"end\",[r,a,c],s)}}return r(t)?t:(n||(n=\"\"),nrWrapper[a]=t,d(t,nrWrapper),nrWrapper)}function f(t,n,o,i){o||(o=\"\");var a,s,c,f=\"-\"===o.charAt(0);for(c=0;c<n.length;c++)s=n[c],a=t[s],r(a)||(t[s]=e(a,f?s+o:o,i,s))}function u(e,r,o){if(!c||n){var i=c;c=!0;try{t.emit(e,r,o,n)}catch(a){l([a,e,r,o])}c=i}}function d(t,n){if(Object.defineProperty&&Object.keys)try{var e=Object.keys(t);return e.forEach(function(e){Object.defineProperty(n,e,{get:function(){return t[e]},set:function(n){return t[e]=n,n}})}),n}catch(r){l([r])}for(var o in t)s.call(t,o)&&(n[o]=t[o]);return n}function l(n){try{t.emit(\"internal-error\",n)}catch(e){}}return t||(t=o),e.inPlace=f,e.flag=a,e}},{}],ee:[function(t,n,e){function r(){}function o(t){function n(t){return t&&t instanceof r?t:t?c(t,s,i):i()}function e(e,r,o,i){if(!l.aborted||i){t&&t(e,r,o);for(var a=n(o),s=h(e),c=s.length,f=0;f<c;f++)s[f].apply(a,r);var d=u[y[e]];return d&&d.push([g,e,r,a]),a}}function p(t,n){v[t]=h(t).concat(n)}function h(t){return v[t]||[]}function m(t){return d[t]=d[t]||o(e)}function w(t,n){f(t,function(t,e){n=n||\"feature\",y[e]=n,n in u||(u[n]=[])})}var v={},y={},g={on:p,emit:e,get:m,listeners:h,context:n,buffer:w,abort:a,aborted:!1};return g}function i(){return new r}function a(){(u.api||u.feature)&&(l.aborted=!0,u=l.backlog={})}var s=\"nr@context\",c=t(\"gos\"),f=t(15),u={},d={},l=n.exports=o();l.backlog=u},{}],gos:[function(t,n,e){function r(t,n,e){if(o.call(t,n))return t[n];var r=e();if(Object.defineProperty&&Object.keys)try{return Object.defineProperty(t,n,{value:r,writable:!0,enumerable:!1}),r}catch(i){}return t[n]=r,r}var o=Object.prototype.hasOwnProperty;n.exports=r},{}],handle:[function(t,n,e){function r(t,n,e,r){o.buffer([t],r),o.emit(t,n,e)}var o=t(\"ee\").get(\"handle\");n.exports=r,r.ee=o},{}],id:[function(t,n,e){function r(t){var n=typeof t;return!t||\"object\"!==n&&\"function\"!==n?-1:t===window?0:a(t,i,function(){return o++})}var o=1,i=\"nr@id\",a=t(\"gos\");n.exports=r},{}],loader:[function(t,n,e){function r(){if(!x++){var t=b.info=NREUM.info,n=l.getElementsByTagName(\"script\")[0];if(setTimeout(u.abort,3e4),!(t&&t.licenseKey&&t.applicationID&&n))return u.abort();f(y,function(n,e){t[n]||(t[n]=e)}),c(\"mark\",[\"onload\",a()+b.offset],null,\"api\");var e=l.createElement(\"script\");e.src=\"https://\"+t.agent,n.parentNode.insertBefore(e,n)}}function o(){\"complete\"===l.readyState&&i()}function i(){c(\"mark\",[\"domContent\",a()+b.offset],null,\"api\")}function a(){return E.exists&&performance.now?Math.round(performance.now()):(s=Math.max((new Date).getTime(),s))-b.offset}var s=(new Date).getTime(),c=t(\"handle\"),f=t(15),u=t(\"ee\"),d=window,l=d.document,p=\"addEventListener\",h=\"attachEvent\",m=d.XMLHttpRequest,w=m&&m.prototype;NREUM.o={ST:setTimeout,SI:d.setImmediate,CT:clearTimeout,XHR:m,REQ:d.Request,EV:d.Event,PR:d.Promise,MO:d.MutationObserver};var v=\"\"+location,y={beacon:\"bam.nr-data.net\",errorBeacon:\"bam.nr-data.net\",agent:\"js-agent.newrelic.com/nr-1071.min.js\"},g=m&&w&&w[p]&&!/CriOS/.test(navigator.userAgent),b=n.exports={offset:s,now:a,origin:v,features:{},xhrWrappable:g};t(12),l[p]?(l[p](\"DOMContentLoaded\",i,!1),d[p](\"load\",r,!1)):(l[h](\"onreadystatechange\",o),d[h](\"onload\",r)),c(\"mark\",[\"firstbyte\",s],null,\"api\");var x=0,E=t(17)},{}]},{},[\"loader\",2,10,4,3]);;NREUM.info={beacon:\"bam.nr-data.net\",errorBeacon:\"bam.nr-data.net\",licenseKey:\"2059d2614a\",applicationID:\"215318720\",sa:1}</script><script>(function(o){var n=Array();if(!o.performance){Object.defineProperty(o,\"performance\",{})}if(!o.performance.now){o.performance.now=performance.now||performance.webkitNow||performance.msNow||performance.mozNow||performance.oNow}if(!o.performance.now){var r=Date.now?Date.now():(new Date).getTime();if(performance.timing&&performance.timing){r=performance.timing.navigationStart}o.performance.now=function(){var e=Date.now?Date.now():(new Date).getTime();return e-r}}if(!o.performance.mark){var e=function(e){n.push({duration:0,entryType:\"mark\",name:e,startTime:o.performance.now()})};o.performance.mark=o.performance.webkitMark||e}if(!o.performance.getEntriesByType){var e=function(r){return n.filter(function(e){return e.entryType===r})};o.performance.getEntriesByType=o.performance.webkitGetEntriesByType||e}if(!o.performance.getEntriesByName){var e=function(r){return n.filter(function(e){return e.name===r})};o.performance.getEntriesByName=o.performance.webkitGetEntriesByName||e}if(!o.performance.clearMarks){var e=function(r){n=n.filter(function(e){return e.entryType!==\"mark\"&&(r?e.name!==r:true)})};o.performance.clearMarks=o.performance.webkitClearMarks||e}var a=function(){var e;var r=o.performance.getEntriesByType(\"mark\");for(var n=0,a=r;n<a.length;n++){var t=a[n];if(o.NREUM){o.NREUM.addPageAction(t.name,(e={},e[t.name]=Math.round(t.startTime+t.duration),e))}}};if(window.addEventListener){window.addEventListener(\"load\",a,false)}else if(window.attachEvent){window.attachEvent(\"onload\",a)}})(window);</script><title>Explore our Programs and Courses | Udacity Catalog</title><meta name=\"description\" content=\"Get the latest tech skills to advance your career. Browse Nanodegree programs in AI, automated systems &amp; robotics, data science, programming and business.\"/><meta name=\"keywords\"/><meta name=\"viewport\" content=\"width=device-width, initial-scale=1\"/><link rel=\"icon\" sizes=\"192x192\" href=\"/_next/touch-icon.png\"/><link rel=\"apple-touch-icon\" href=\"/_next/touch-icon.png\"/><meta name=\"apple-itunes-app\" property=\"apple-itunes-app\" content=\"app-id=819700933\"/><link rel=\"mask-icon\" href=\"/_next/favicon-mask.svg\" color=\"#49B882\"/><link rel=\"icon\" href=\"/_next/favicon.ico\"/><link rel=\"preconnect\" href=\"https://sgmt.udacity.com\" crossorigin=\"\"/><link rel=\"preconnect\" href=\"https://api.amplitude.com\" crossorigin=\"\"/><link rel=\"dns-prefetch\" href=\"http://api.amplitude.com\"/><link rel=\"dns-prefetch\" href=\"https://cdn.amplitude.com\"/><meta property=\"og:type\" content=\"website\"/><meta property=\"og:url\" content=\"https://www.udacity.com/all\"/><meta property=\"og:title\" content=\"Explore our Programs and Courses | Udacity Catalog\"/><meta property=\"og:description\" content=\"Get the latest tech skills to advance your career. Browse Nanodegree programs in AI, automated systems &amp; robotics, data science, programming and business.\"/><meta name=\"twitter:site\" property=\"twitter:site\" content=\"@udacity\"/><meta name=\"twitter:creator\" property=\"twitter:creator\" content=\"@udacity\"/><meta name=\"twitter:card\" content=\"summary_large_image\"/><meta name=\"twitter:image\" content=\"https://d20vrrgs8k4bvw.cloudfront.net/images/open-graph/udacity.png\"/><meta property=\"og:image\" content=\"https://d20vrrgs8k4bvw.cloudfront.net/images/open-graph/udacity.png\"/><meta property=\"og:image:alt\" content=\"Explore our Programs and Courses | Udacity Catalog\"/><meta property=\"og:image:width\" content=\"1200\"/><meta property=\"og:image:height\" content=\"630\"/><script>!function(){var r=window.analytics=window.analytics||[];if(!r.initialize)if(r.invoked)window.console&&console.error&&console.error(\"Segment snippet included twice.\");else{r.invoked=!0,r.methods=[\"trackSubmit\",\"trackClick\",\"trackLink\",\"trackForm\",\"pageview\",\"identify\",\"reset\",\"group\",\"track\",\"ready\",\"alias\",\"debug\",\"page\",\"once\",\"off\",\"on\"],r.factory=function(e){return function(){var t=Array.prototype.slice.call(arguments);return t.unshift(e),r.push(t),r}};for(var t=0;t<r.methods.length;t++){var e=r.methods[t];r[e]=r.factory(e)}r.load=function(t,e){var n=document.createElement(\"script\");n.type=\"text/javascript\",n.async=!0,n.src=\"https://sgmt.udacity.com/analytics.js/v1/\"+t+\"/analytics.min.js\";var a=document.getElementsByTagName(\"script\")[0];a.parentNode.insertBefore(n,a),r._loadOptions=e},r.SNIPPET_VERSION=\"4.1.0\",r.load(\"oP3ZXzj7KM9lvyAXexoorjH0YbvawAKg\", {}),r.page(\"Catalog\", \"Catalog - all\", {site_identifier: \"Next.Sites\", results_count: \"242\", category_key: \"all\"}),\n",
      "      window.addEventListener('load', function() {\n",
      "        var getMetrics = function getMetrics() { var perfMetrics = {}; if (window.performance) { var firstPaintTiming; var firstContentfulPaintTiming; var firstMeaningfulPaintTiming; var perfEntries = performance.getEntriesByType('navigation'); var firstPaintTimingEntries = performance.getEntriesByName('first-paint'); var firstContentfulPaintTimingEntries = performance.getEntriesByName('first-contentful-paint'); var firstMeaningfulPaintTimingEntries = performance.getEntriesByName('firstMeaningfulPaint'); if (firstPaintTimingEntries.length > 0) { firstPaintTiming = firstPaintTimingEntries[0].startTime; } if (firstContentfulPaintTimingEntries.length > 0) { firstContentfulPaintTiming = firstContentfulPaintTimingEntries[0].startTime; } if (firstMeaningfulPaintTimingEntries.length > 0) { firstMeaningfulPaintTiming = firstMeaningfulPaintTimingEntries[0].startTime; } if (perfEntries.length > 0) { var perfNavigationTimingEntry = perfEntries[0]; perfMetrics = function (_ref) { var connectEnd = _ref.connectEnd, connectStart = _ref.connectStart, decodedBodySize = _ref.decodedBodySize, domComplete = _ref.domComplete, domContentLoadedEventEnd = _ref.domContentLoadedEventEnd, domContentLoadedEventStart = _ref.domContentLoadedEventStart, domInteractive = _ref.domInteractive, domainLookupEnd = _ref.domainLookupEnd, domainLookupStart = _ref.domainLookupStart, encodedBodySize = _ref.encodedBodySize, fetchStart = _ref.fetchStart, loadEventEnd = _ref.loadEventEnd, loadEventStart = _ref.loadEventStart, redirectCount = _ref.redirectCount, redirectEnd = _ref.redirectEnd, redirectStart = _ref.redirectStart, requestStart = _ref.requestStart, responseEnd = _ref.responseEnd, responseStart = _ref.responseStart, secureConnectionStart = _ref.secureConnectionStart, startTime = _ref.startTime, transferSize = _ref.transferSize, unloadEventEnd = _ref.unloadEventEnd, unloadEventStart = _ref.unloadEventStart; return { connectEnd: connectEnd, connectStart: connectStart, decodedBodySize: decodedBodySize, domComplete: domComplete, domContentLoadedEventEnd: domContentLoadedEventEnd, domContentLoadedEventStart: domContentLoadedEventStart, domInteractive: domInteractive, domainLookupEnd: domainLookupEnd, domainLookupStart: domainLookupStart, duration: loadEventStart - requestStart, encodedBodySize: encodedBodySize, fetchStart: fetchStart, firstContentfulPaint: firstContentfulPaintTiming, firstMeaningfulPaint: firstMeaningfulPaintTiming, firstPaint: firstPaintTiming, loadEventEnd: loadEventEnd, loadEventStart: loadEventStart, redirectCount: redirectCount, redirectEnd: redirectEnd, redirectStart: redirectStart, requestStart: requestStart, responseEnd: responseEnd, responseStart: responseStart, secureConnectionStart: secureConnectionStart, startTime: startTime, transferSize: transferSize, unloadEventEnd: unloadEventEnd, unloadEventStart: unloadEventStart }; }(perfNavigationTimingEntry); } } return perfMetrics; };\n",
      "        const perfMetrics = getMetrics();\n",
      "        perfMetrics.duration =\n",
      "          window.performance.timing.loadEventStart -\n",
      "          window.performance.timing.requestStart;\n",
      "        perfMetrics.full_page_url = window.location.href;\n",
      "        perfMetrics.nonInteraction = 1\n",
      "        perfMetrics.user_status = /_jwt/.test(document.cookie) ? \"logged_in\" : \"logged_out\";\n",
      "        perfMetrics.site_identifier = \"Next.Sites\";\n",
      "        window.analytics.track(\"performance\", perfMetrics);\n",
      "    })}}()</script><meta name=\"next-head-count\" content=\"29\"/><link rel=\"preload\" href=\"/_next/static/css/styles.a0b86966.chunk.css\" as=\"style\"/><link rel=\"stylesheet\" href=\"/_next/static/css/styles.a0b86966.chunk.css\"/><link rel=\"preload\" href=\"/_next/static/_hV0mkELrNb2jSODxVVbV/pages/_app.js\" as=\"script\"/><link rel=\"preload\" href=\"/_next/static/_hV0mkELrNb2jSODxVVbV/pages/en-US/courses/%5Bslug%5D.js\" as=\"script\"/><link rel=\"preload\" href=\"/_next/static/runtime/webpack-83bd83ab777f80a6c75c.js\" as=\"script\"/><link rel=\"preload\" href=\"/_next/static/chunks/framework.6c6a2cced78f527f3e29.js\" as=\"script\"/><link rel=\"preload\" href=\"/_next/static/chunks/e32ea69f9059f3d4ad4d5e572257f8a755e5c2f3.1ad1f2e01fa975c1f37f.js\" as=\"script\"/><link rel=\"preload\" href=\"/_next/static/runtime/main-d4e71e35aab334187524.js\" as=\"script\"/><link rel=\"preload\" href=\"/_next/static/chunks/styles.cacfe5e9aa714c895586.js\" as=\"script\"/></head><body><div id=\"__next\"><div class=\"page-us\"><div class=\"layout \"><div class=\"nav-mobile\"><div class=\"mobile-nav\"><a class=\"logo-link\" title=\"Udacity\" href=\"/\"><div class=\"logo-wordmark\"><svg height=\"30\" viewBox=\"0 0 180 30\" width=\"180\"><g fill=\"none\" fill-rule=\"evenodd\"><path d=\"M57.6 17.239187c0 2.546698-2.085517 4.407747-4.965517 4.407747-2.88 0-4.965517-1.86105-4.965517-4.407747V7.835994H45.68276v9.501143c0 3.330298 2.88 6.170846 6.951723 6.170846 4.071724 0 6.951724-2.938498 6.951724-6.170846V7.835994H57.6v9.403193zm16.286897-9.403193h-5.36276v15.67199h5.36276c4.468965 0 7.547586-3.03645 7.547586-7.835996 0-4.701596-3.07862-7.835994-7.547586-7.835994zm-.19862 13.71299h-3.177932V9.794994h3.17793c3.376553 0 5.76 2.252847 5.76 5.876994 0 3.917998-2.482757 5.779046-5.76 5.876996zm43.49793.29385c-3.575172 0-5.95862-2.644648-5.95862-6.170846 0-3.526197 2.482758-6.072895 5.95862-6.072895 2.78069 0 4.468966 1.5672 4.468966 1.5672l.794483-1.3713s-1.787587-1.86105-5.46207-1.86105c-4.766896 0-7.746206 3.526198-7.746206 7.738045 0 4.309797 3.07862 7.933945 7.944827 7.933945 3.773793 0 5.66069-2.5467 5.66069-2.5467l-1.092414-1.175398c-.09931-.09795-1.588965 1.959-4.568276 1.959zm14.896553-14.00684h1.986206v15.67199h-1.986207zm10.924137 1.959h4.965517v13.71299h1.986207V9.794994h4.96552v-1.959H143.0069m30.587583 0l-4.766896 7.150344-4.866207-7.150347h-2.085518l5.95862 8.717546v6.954445h1.986208v-6.954444l5.85931-8.71754m-81.434482 0l-6.157242 15.67199h1.986207l1.688276-4.5057 6.45517-1.3713 2.18483 5.876998h1.986203l-6.05793-15.67199h-2.085518zm-1.886897 9.305242l2.97931-7.248294h.099315L97.92 16.063788l-5.56138 1.07745z\" fill=\"#2E3D49\"></path><path d=\"M29 .5l1 .5v13c0 5.551887-2.8897 8.695692-5.995216 10.099885L24.0094 24.1l-7.620963 4.388562c-.05877.03456-.11776.068527-.176957.101902l-.08642.049764.001806-.00254C14.48289 29.545895 12.684682 30 11 30 6 30 0 26 0 18V6l2 1v11c0 8 6 10 9 10 1.858706 0 4.86901-.76773 6.89043-3.254517C14.181726 23.872636 10 20.678703 10 14V2.2L2 7 0 6l10-6 1 .5 1 .5v13c0 6.939958 4.515283 8.612086 7.017542 8.933368C19.625786 21.62159 20 19.997902 20 18V5l2 1v12c0 1.852645-.321777 3.49077-.878395 4.91438C23.648223 22.549217 28 20.813144 28 14V2.25L22 6l-2-1 8-5 1 .5z\" fill=\"#02B3E4\"></path></g></svg></div></a><nav class=\"header__sidenav--navigation\" role=\"navigation\"><ul class=\"catalog-nav\"><li class=\"explore-contain\"><button class=\"button button--navigation\"><span>Programs</span><div class=\"explore-icon\"><svg height=\"32\" style=\"fill:#ffffff\" viewBox=\"0 0 32 32\" width=\"32\" xmlns=\"http://www.w3.org/2000/svg\"><path d=\"M22 15.89c0 .319-.146.632-.414.82l-10.175 7.13a.868.868 0 0 1-.499.16c-.503 0-.912-.438-.912-.98V8.98c0-.186.049-.367.141-.524.27-.457.834-.593 1.26-.304l10.174 6.91c.11.075.205.174.276.292.1.165.149.35.149.533v.002z\" fill-rule=\"evenodd\"></path></svg></div></button></li><li class=\"explore-contain\"><button class=\"button button--navigation\"><span>Careers</span><div class=\"explore-icon\"><svg height=\"32\" style=\"fill:#ffffff\" viewBox=\"0 0 32 32\" width=\"32\" xmlns=\"http://www.w3.org/2000/svg\"><path d=\"M22 15.89c0 .319-.146.632-.414.82l-10.175 7.13a.868.868 0 0 1-.499.16c-.503 0-.912-.438-.912-.98V8.98c0-.186.049-.367.141-.524.27-.457.834-.593 1.26-.304l10.174 6.91c.11.075.205.174.276.292.1.165.149.35.149.533v.002z\" fill-rule=\"evenodd\"></path></svg></div></button></li><li class=\"explore-contain\"><button class=\"button button--navigation\"><span>For Enterprise</span><div class=\"explore-icon\"><svg height=\"32\" style=\"fill:#ffffff\" viewBox=\"0 0 32 32\" width=\"32\" xmlns=\"http://www.w3.org/2000/svg\"><path d=\"M22 15.89c0 .319-.146.632-.414.82l-10.175 7.13a.868.868 0 0 1-.499.16c-.503 0-.912-.438-.912-.98V8.98c0-.186.049-.367.141-.524.27-.457.834-.593 1.26-.304l10.174 6.91c.11.075.205.174.276.292.1.165.149.35.149.533v.002z\" fill-rule=\"evenodd\"></path></svg></div></button></li><li><a title=\"Sign In\" href=\"https://auth.udacity.com/sign-in?next=https://classroom.udacity.com/authenticated\" class=\"blue\">Sign In</a></li><li><a title=\"Get Started\" href=\"https://auth.udacity.com/sign-up?next=https://classroom.udacity.com/authenticated\" class=\"turquoise\">Get Started</a></li></ul></nav></div></div><div class=\"layout__content\"><div id=\"cat-nav\" class=\"cat-nav no-sticky\"><header><div class=\"header__navbar--toggle\"><a class=\"nav-toggle\" href=\"#\" title=\"Toggle Menu\"><span class=\"bar bar_top\"></span><span class=\"bar bar_mid\"></span><span class=\"bar bar_bottom\"></span></a></div><div class=\"header__navbar--logo\"><a class=\"logo-link\" title=\"Udacity\" href=\"/\"><div class=\"logo-wordmark--cn\"><svg height=\"30\" viewBox=\"0 0 180 30\" width=\"180\"><g fill=\"none\" fill-rule=\"evenodd\"><path d=\"M57.6 17.239187c0 2.546698-2.085517 4.407747-4.965517 4.407747-2.88 0-4.965517-1.86105-4.965517-4.407747V7.835994H45.68276v9.501143c0 3.330298 2.88 6.170846 6.951723 6.170846 4.071724 0 6.951724-2.938498 6.951724-6.170846V7.835994H57.6v9.403193zm16.286897-9.403193h-5.36276v15.67199h5.36276c4.468965 0 7.547586-3.03645 7.547586-7.835996 0-4.701596-3.07862-7.835994-7.547586-7.835994zm-.19862 13.71299h-3.177932V9.794994h3.17793c3.376553 0 5.76 2.252847 5.76 5.876994 0 3.917998-2.482757 5.779046-5.76 5.876996zm43.49793.29385c-3.575172 0-5.95862-2.644648-5.95862-6.170846 0-3.526197 2.482758-6.072895 5.95862-6.072895 2.78069 0 4.468966 1.5672 4.468966 1.5672l.794483-1.3713s-1.787587-1.86105-5.46207-1.86105c-4.766896 0-7.746206 3.526198-7.746206 7.738045 0 4.309797 3.07862 7.933945 7.944827 7.933945 3.773793 0 5.66069-2.5467 5.66069-2.5467l-1.092414-1.175398c-.09931-.09795-1.588965 1.959-4.568276 1.959zm14.896553-14.00684h1.986206v15.67199h-1.986207zm10.924137 1.959h4.965517v13.71299h1.986207V9.794994h4.96552v-1.959H143.0069m30.587583 0l-4.766896 7.150344-4.866207-7.150347h-2.085518l5.95862 8.717546v6.954445h1.986208v-6.954444l5.85931-8.71754m-81.434482 0l-6.157242 15.67199h1.986207l1.688276-4.5057 6.45517-1.3713 2.18483 5.876998h1.986203l-6.05793-15.67199h-2.085518zm-1.886897 9.305242l2.97931-7.248294h.099315L97.92 16.063788l-5.56138 1.07745z\" fill=\"#2E3D49\"></path><path d=\"M29 .5l1 .5v13c0 5.551887-2.8897 8.695692-5.995216 10.099885L24.0094 24.1l-7.620963 4.388562c-.05877.03456-.11776.068527-.176957.101902l-.08642.049764.001806-.00254C14.48289 29.545895 12.684682 30 11 30 6 30 0 26 0 18V6l2 1v11c0 8 6 10 9 10 1.858706 0 4.86901-.76773 6.89043-3.254517C14.181726 23.872636 10 20.678703 10 14V2.2L2 7 0 6l10-6 1 .5 1 .5v13c0 6.939958 4.515283 8.612086 7.017542 8.933368C19.625786 21.62159 20 19.997902 20 18V5l2 1v12c0 1.852645-.321777 3.49077-.878395 4.91438C23.648223 22.549217 28 20.813144 28 14V2.25L22 6l-2-1 8-5 1 .5z\" fill=\"#02B3E4\"></path></g></svg></div></a><a title=\"Udacity\" href=\"/\"><div class=\"logo-mark\" role=\"img\" aria-label=\"Udacity\"><svg height=\"30\" viewBox=\"0 0 30 30\" width=\"30\"><path d=\"M29 .5l1 .5v13c0 5.551887-2.8897 8.695692-5.995216 10.099885L24.0094 24.1l-7.620963 4.388562c-.05877.03456-.11776.068527-.176957.101902l-.08642.049764.001806-.00254C14.48289 29.545895 12.684682 30 11 30 6 30 0 26 0 18V6l2 1v11c0 8 6 10 9 10 1.858706 0 4.86901-.76773 6.89043-3.254517C14.181726 23.872636 10 20.678703 10 14V2.2L2 7 0 6l10-6 1 .5 1 .5v13c0 6.939958 4.515283 8.612086 7.017542 8.933368C19.625786 21.62159 20 19.997902 20 18V5l2 1v12c0 1.852645-.321777 3.49077-.878395 4.91438C23.648223 22.549217 28 20.813144 28 14V2.25L22 6l-2-1 8-5 1 .5z\" fill=\"#02B3E4\" fill-rule=\"evenodd\"></path></svg></div></a></div><div class=\"header__navbar--navigation\"><nav role=\"navigation\"><div class=\"normal\"><div class=\"catalog-nav\"><button class=\"button button--navigation \"><span>Programs</span><svg class=\"pointer-down\" height=\"7\" viewBox=\"0 0 12 7\" width=\"12\" xmlns=\"http://www.w3.org/2000/svg\"><path d=\"m105 46 5 5 5-5\" fill=\"none\" stroke=\"#96a0aa\" stroke-linecap=\"round\" stroke-linejoin=\"round\" stroke-width=\"2\" transform=\"translate(-104 -45)\"></path></svg></button><div></div></div><div class=\"catalog-nav\"><button class=\"button button--navigation \"><span>Careers</span><svg class=\"pointer-down\" height=\"7\" viewBox=\"0 0 12 7\" width=\"12\" xmlns=\"http://www.w3.org/2000/svg\"><path d=\"m105 46 5 5 5-5\" fill=\"none\" stroke=\"#96a0aa\" stroke-linecap=\"round\" stroke-linejoin=\"round\" stroke-width=\"2\" transform=\"translate(-104 -45)\"></path></svg></button><div></div></div><div class=\"catalog-nav\"><button class=\"button button--navigation \"><span>For Enterprise</span><svg class=\"pointer-down\" height=\"7\" viewBox=\"0 0 12 7\" width=\"12\" xmlns=\"http://www.w3.org/2000/svg\"><path d=\"m105 46 5 5 5-5\" fill=\"none\" stroke=\"#96a0aa\" stroke-linecap=\"round\" stroke-linejoin=\"round\" stroke-width=\"2\" transform=\"translate(-104 -45)\"></path></svg></button><div></div></div><div class=\"button button--navigation divider\"></div><a title=\"Sign In\" href=\"https://auth.udacity.com/sign-in?next=https://classroom.udacity.com/authenticated\" class=\"button button--navigation\">Sign In</a><a title=\"Get Started\" href=\"https://auth.udacity.com/sign-up\" class=\"button button--primary\">Get Started</a></div></nav></div></header></div><div class=\"catalog-page\"><div class=\"catalog-page__layout\"><div class=\"catalog-search-bar\"><h1 class=\"catalog-search-bar__title\">Program Catalog</h1><div><label class=\"sr-only\" for=\"catalog-search-input\">Search</label><div class=\"catalog-search-bar__input-container\"><input type=\"search\" id=\"catalog-search-input\" placeholder=\"Search\" value=\"\"/></div></div></div><div class=\"catalog-page__content\"><aside class=\"catalog-side-panel\"><fieldset class=\"catalog-filters\"><legend class=\"section-title\">Filter by</legend><div class=\"drop-select-component\"><button aria-controls=\"2\" aria-haspopup=\"true\" class=\"drop-select-component__button\"><span class=\"drop-select-component__button__label\">Select Program Details</span></button><div id=\"2\" class=\"drop-select-component__menu drop-select-component__menu--hidden\" aria-hidden=\"true\" aria-expanded=\"false\" role=\"menu\"><div class=\"filter-menu\"><fieldset><legend class=\"section-title\">Type</legend><div class=\"checkbox-component\"><input type=\"checkbox\" data-from=\"type\" name=\"programs\" id=\"type-programs-1\" class=\"checkbox-component__input\"/><label class=\"checkbox-component__label\" for=\"type-programs-1\">Programs</label></div><div class=\"checkbox-component\"><input type=\"checkbox\" data-from=\"type\" name=\"free courses\" id=\"type-free-courses-1\" class=\"checkbox-component__input\"/><label class=\"checkbox-component__label\" for=\"type-free-courses-1\">Free Courses</label></div></fieldset><fieldset><legend class=\"section-title\">Skill Level</legend><div class=\"checkbox-component\"><input type=\"checkbox\" data-from=\"level\" name=\"beginner\" id=\"level-beginner-1\" class=\"checkbox-component__input\"/><label class=\"checkbox-component__label\" for=\"level-beginner-1\">Beginner</label></div><div class=\"checkbox-component\"><input type=\"checkbox\" data-from=\"level\" name=\"intermediate\" id=\"level-intermediate-1\" class=\"checkbox-component__input\"/><label class=\"checkbox-component__label\" for=\"level-intermediate-1\">Intermediate</label></div><div class=\"checkbox-component\"><input type=\"checkbox\" data-from=\"level\" name=\"advanced\" id=\"level-advanced-1\" class=\"checkbox-component__input\"/><label class=\"checkbox-component__label\" for=\"level-advanced-1\">Advanced</label></div></fieldset><fieldset><legend class=\"section-title\">Estimated Duration</legend><div class=\"checkbox-component\"><input type=\"checkbox\" data-from=\"duration\" name=\"&lt;1 Month\" id=\"duration-lessThanAMonth-1\" class=\"checkbox-component__input\"/><label class=\"checkbox-component__label\" for=\"duration-lessThanAMonth-1\">&lt;1 Month</label></div><div class=\"checkbox-component\"><input type=\"checkbox\" data-from=\"duration\" name=\"1 - 3 Months\" id=\"duration-oneToThreeMonths-1\" class=\"checkbox-component__input\"/><label class=\"checkbox-component__label\" for=\"duration-oneToThreeMonths-1\">1 - 3 Months</label></div><div class=\"checkbox-component\"><input type=\"checkbox\" data-from=\"duration\" name=\"3+ Months\" id=\"duration-threeOrMoreMonths-1\" class=\"checkbox-component__input\"/><label class=\"checkbox-component__label\" for=\"duration-threeOrMoreMonths-1\">3+ Months</label></div></fieldset></div></div></div><div class=\"drop-select-component\"><button aria-controls=\"3\" aria-haspopup=\"true\" class=\"drop-select-component__button\"><span class=\"drop-select-component__button__label\">Industry Skills</span></button><div id=\"3\" class=\"drop-select-component__menu drop-select-component__menu--hidden\" aria-hidden=\"true\" aria-expanded=\"false\" role=\"menu\"><div class=\"filter-menu\"><fieldset><legend class=\"section-title\">Skills</legend><div class=\"checkbox-component\"><input type=\"checkbox\" data-from=\"skill\" name=\"Android\" id=\"skill-Android-1\" class=\"checkbox-component__input\"/><label class=\"checkbox-component__label\" for=\"skill-Android-1\">Android</label></div><div class=\"checkbox-component\"><input type=\"checkbox\" data-from=\"skill\" name=\"Android Development\" id=\"skill-Android Development-1\" class=\"checkbox-component__input\"/><label class=\"checkbox-component__label\" for=\"skill-Android Development-1\">Android Development</label></div><div class=\"checkbox-component\"><input type=\"checkbox\" data-from=\"skill\" name=\"Android Studio\" id=\"skill-Android Studio-1\" class=\"checkbox-component__input\"/><label class=\"checkbox-component__label\" for=\"skill-Android Studio-1\">Android Studio</label></div><div class=\"checkbox-component\"><input type=\"checkbox\" data-from=\"skill\" name=\"Artificial Intelligence\" id=\"skill-Artificial Intelligence-1\" class=\"checkbox-component__input\"/><label class=\"checkbox-component__label\" for=\"skill-Artificial Intelligence-1\">Artificial Intelligence</label></div><div class=\"checkbox-component\"><input type=\"checkbox\" data-from=\"skill\" name=\"AWS\" id=\"skill-AWS-1\" class=\"checkbox-component__input\"/><label class=\"checkbox-component__label\" for=\"skill-AWS-1\">AWS</label></div><div class=\"checkbox-component\"><input type=\"checkbox\" data-from=\"skill\" name=\"Career Advancement\" id=\"skill-Career Advancement-1\" class=\"checkbox-component__input\"/><label class=\"checkbox-component__label\" for=\"skill-Career Advancement-1\">Career Advancement</label></div><div class=\"checkbox-component\"><input type=\"checkbox\" data-from=\"skill\" name=\"Computer Vision\" id=\"skill-Computer Vision-1\" class=\"checkbox-component__input\"/><label class=\"checkbox-component__label\" for=\"skill-Computer Vision-1\">Computer Vision</label></div><div class=\"checkbox-component\"><input type=\"checkbox\" data-from=\"skill\" name=\"Control Flow\" id=\"skill-Control Flow-1\" class=\"checkbox-component__input\"/><label class=\"checkbox-component__label\" for=\"skill-Control Flow-1\">Control Flow</label></div><div class=\"checkbox-component\"><input type=\"checkbox\" data-from=\"skill\" name=\"CSS\" id=\"skill-CSS-1\" class=\"checkbox-component__input\"/><label class=\"checkbox-component__label\" for=\"skill-CSS-1\">CSS</label></div><div class=\"checkbox-component\"><input type=\"checkbox\" data-from=\"skill\" name=\"Data Analysis\" id=\"skill-Data Analysis-1\" class=\"checkbox-component__input\"/><label class=\"checkbox-component__label\" for=\"skill-Data Analysis-1\">Data Analysis</label></div><div class=\"checkbox-component\"><input type=\"checkbox\" data-from=\"skill\" name=\"Data Visualization\" id=\"skill-Data Visualization-1\" class=\"checkbox-component__input\"/><label class=\"checkbox-component__label\" for=\"skill-Data Visualization-1\">Data Visualization</label></div><div class=\"checkbox-component\"><input type=\"checkbox\" data-from=\"skill\" name=\"Data Wrangling\" id=\"skill-Data Wrangling-1\" class=\"checkbox-component__input\"/><label class=\"checkbox-component__label\" for=\"skill-Data Wrangling-1\">Data Wrangling</label></div><div class=\"checkbox-component\"><input type=\"checkbox\" data-from=\"skill\" name=\"Debugging\" id=\"skill-Debugging-1\" class=\"checkbox-component__input\"/><label class=\"checkbox-component__label\" for=\"skill-Debugging-1\">Debugging</label></div><div class=\"checkbox-component\"><input type=\"checkbox\" data-from=\"skill\" name=\"Deep Learning\" id=\"skill-Deep Learning-1\" class=\"checkbox-component__input\"/><label class=\"checkbox-component__label\" for=\"skill-Deep Learning-1\">Deep Learning</label></div><div class=\"checkbox-component\"><input type=\"checkbox\" data-from=\"skill\" name=\"Docker\" id=\"skill-Docker-1\" class=\"checkbox-component__input\"/><label class=\"checkbox-component__label\" for=\"skill-Docker-1\">Docker</label></div><div class=\"checkbox-component\"><input type=\"checkbox\" data-from=\"skill\" name=\"Flask\" id=\"skill-Flask-1\" class=\"checkbox-component__input\"/><label class=\"checkbox-component__label\" for=\"skill-Flask-1\">Flask</label></div><div class=\"checkbox-component\"><input type=\"checkbox\" data-from=\"skill\" name=\"Functions\" id=\"skill-Functions-1\" class=\"checkbox-component__input\"/><label class=\"checkbox-component__label\" for=\"skill-Functions-1\">Functions</label></div><div class=\"checkbox-component\"><input type=\"checkbox\" data-from=\"skill\" name=\"HTML\" id=\"skill-HTML-1\" class=\"checkbox-component__input\"/><label class=\"checkbox-component__label\" for=\"skill-HTML-1\">HTML</label></div><div class=\"checkbox-component\"><input type=\"checkbox\" data-from=\"skill\" name=\"Interview practice\" id=\"skill-Interview practice-1\" class=\"checkbox-component__input\"/><label class=\"checkbox-component__label\" for=\"skill-Interview practice-1\">Interview practice</label></div><div class=\"checkbox-component\"><input type=\"checkbox\" data-from=\"skill\" name=\"iOS\" id=\"skill-iOS-1\" class=\"checkbox-component__input\"/><label class=\"checkbox-component__label\" for=\"skill-iOS-1\">iOS</label></div><div class=\"checkbox-component\"><input type=\"checkbox\" data-from=\"skill\" name=\"Java\" id=\"skill-Java-1\" class=\"checkbox-component__input\"/><label class=\"checkbox-component__label\" for=\"skill-Java-1\">Java</label></div><div class=\"checkbox-component\"><input type=\"checkbox\" data-from=\"skill\" name=\"JavaScript\" id=\"skill-JavaScript-1\" class=\"checkbox-component__input\"/><label class=\"checkbox-component__label\" for=\"skill-JavaScript-1\">JavaScript</label></div><div class=\"checkbox-component\"><input type=\"checkbox\" data-from=\"skill\" name=\"Localization\" id=\"skill-Localization-1\" class=\"checkbox-component__input\"/><label class=\"checkbox-component__label\" for=\"skill-Localization-1\">Localization</label></div><div class=\"checkbox-component\"><input type=\"checkbox\" data-from=\"skill\" name=\"Machine Learning\" id=\"skill-Machine Learning-1\" class=\"checkbox-component__input\"/><label class=\"checkbox-component__label\" for=\"skill-Machine Learning-1\">Machine Learning</label></div><div class=\"checkbox-component\"><input type=\"checkbox\" data-from=\"skill\" name=\"Networking\" id=\"skill-Networking-1\" class=\"checkbox-component__input\"/><label class=\"checkbox-component__label\" for=\"skill-Networking-1\">Networking</label></div><div class=\"checkbox-component\"><input type=\"checkbox\" data-from=\"skill\" name=\"Neural Networks\" id=\"skill-Neural Networks-1\" class=\"checkbox-component__input\"/><label class=\"checkbox-component__label\" for=\"skill-Neural Networks-1\">Neural Networks</label></div><div class=\"checkbox-component\"><input type=\"checkbox\" data-from=\"skill\" name=\"Object Oriented Programming\" id=\"skill-Object Oriented Programming-1\" class=\"checkbox-component__input\"/><label class=\"checkbox-component__label\" for=\"skill-Object Oriented Programming-1\">Object Oriented Programming</label></div><div class=\"checkbox-component\"><input type=\"checkbox\" data-from=\"skill\" name=\"Product Design\" id=\"skill-Product Design-1\" class=\"checkbox-component__input\"/><label class=\"checkbox-component__label\" for=\"skill-Product Design-1\">Product Design</label></div><div class=\"checkbox-component\"><input type=\"checkbox\" data-from=\"skill\" name=\"Product Management\" id=\"skill-Product Management-1\" class=\"checkbox-component__input\"/><label class=\"checkbox-component__label\" for=\"skill-Product Management-1\">Product Management</label></div><div class=\"checkbox-component\"><input type=\"checkbox\" data-from=\"skill\" name=\"Product Strategy\" id=\"skill-Product Strategy-1\" class=\"checkbox-component__input\"/><label class=\"checkbox-component__label\" for=\"skill-Product Strategy-1\">Product Strategy</label></div><div class=\"checkbox-component\"><input type=\"checkbox\" data-from=\"skill\" name=\"Prototyping\" id=\"skill-Prototyping-1\" class=\"checkbox-component__input\"/><label class=\"checkbox-component__label\" for=\"skill-Prototyping-1\">Prototyping</label></div><div class=\"checkbox-component\"><input type=\"checkbox\" data-from=\"skill\" name=\"Python\" id=\"skill-Python-1\" class=\"checkbox-component__input\"/><label class=\"checkbox-component__label\" for=\"skill-Python-1\">Python</label></div><div class=\"checkbox-component\"><input type=\"checkbox\" data-from=\"skill\" name=\"PyTorch\" id=\"skill-PyTorch-1\" class=\"checkbox-component__input\"/><label class=\"checkbox-component__label\" for=\"skill-PyTorch-1\">PyTorch</label></div><div class=\"checkbox-component\"><input type=\"checkbox\" data-from=\"skill\" name=\"Reinforcement Learning\" id=\"skill-Reinforcement Learning-1\" class=\"checkbox-component__input\"/><label class=\"checkbox-component__label\" for=\"skill-Reinforcement Learning-1\">Reinforcement Learning</label></div><div class=\"checkbox-component\"><input type=\"checkbox\" data-from=\"skill\" name=\"SQL\" id=\"skill-SQL-1\" class=\"checkbox-component__input\"/><label class=\"checkbox-component__label\" for=\"skill-SQL-1\">SQL</label></div><div class=\"checkbox-component\"><input type=\"checkbox\" data-from=\"skill\" name=\"Supervised Learning\" id=\"skill-Supervised Learning-1\" class=\"checkbox-component__input\"/><label class=\"checkbox-component__label\" for=\"skill-Supervised Learning-1\">Supervised Learning</label></div><div class=\"checkbox-component\"><input type=\"checkbox\" data-from=\"skill\" name=\"Swift\" id=\"skill-Swift-1\" class=\"checkbox-component__input\"/><label class=\"checkbox-component__label\" for=\"skill-Swift-1\">Swift</label></div><div class=\"checkbox-component\"><input type=\"checkbox\" data-from=\"skill\" name=\"UI\" id=\"skill-UI-1\" class=\"checkbox-component__input\"/><label class=\"checkbox-component__label\" for=\"skill-UI-1\">UI</label></div><div class=\"checkbox-component\"><input type=\"checkbox\" data-from=\"skill\" name=\"Unsupervised Learning\" id=\"skill-Unsupervised Learning-1\" class=\"checkbox-component__input\"/><label class=\"checkbox-component__label\" for=\"skill-Unsupervised Learning-1\">Unsupervised Learning</label></div><div class=\"checkbox-component\"><input type=\"checkbox\" data-from=\"skill\" name=\"Whiteboarding\" id=\"skill-Whiteboarding-1\" class=\"checkbox-component__input\"/><label class=\"checkbox-component__label\" for=\"skill-Whiteboarding-1\">Whiteboarding</label></div></fieldset></div></div></div></fieldset><nav class=\"catalog-navigation\" role=\"navigation\"><ul class=\"list main-list\"><li><a href=\"/courses/all\" class=\"link section-link link-active\">All</a><ul class=\"list sub-list\"></ul></li><li><a href=\"/courses/school-of-ai\" class=\"link section-link\">Artificial Intelligence</a><ul class=\"list sub-list\"><li><a href=\"/courses/ai-for-business-leaders--nd054\" class=\"link subsection-link\">AI for Business Leaders</a></li><li><a href=\"/courses/ai-for-healthcare-nanodegree--nd320\" class=\"link subsection-link\">AI for Healthcare</a></li><li><a href=\"/courses/ai-product-manager-nanodegree--nd088\" class=\"link subsection-link\">AI Product Manager</a></li><li><a href=\"/courses/ai-programming-python-nanodegree--nd089\" class=\"link subsection-link\">AI Programming with Python</a></li><li><a href=\"/courses/ai-artificial-intelligence-nanodegree--nd898\" class=\"link subsection-link\">Artificial Intelligence</a></li><li><a href=\"/courses/ai-for-trading--nd880\" class=\"link subsection-link\">Artificial Intelligence for Trading</a></li><li><a href=\"/courses/computer-vision-nanodegree--nd891\" class=\"link subsection-link\">Computer Vision</a></li><li><a href=\"/courses/deep-learning-nanodegree--nd101\" class=\"link subsection-link\">Deep Learning</a></li><li><a href=\"/courses/deep-reinforcement-learning-nanodegree--nd893\" class=\"link subsection-link\">Deep Reinforcement Learning</a></li><li><a href=\"/courses/intel-edge-ai-for-iot-developers-nanodegree--nd131\" class=\"link subsection-link\">IntelÂ® Edge AI for IoT Developers</a></li><li><a href=\"/courses/intro-to-machine-learning-nanodegree--nd229\" class=\"link subsection-link\">Intro to Machine Learning with PyTorch</a></li><li><a href=\"/courses/intro-to-machine-learning-with-tensorflow-nanodegree--nd230\" class=\"link subsection-link\">Intro to Machine Learning with TensorFlow</a></li><li><a href=\"/courses/machine-learning-engineer-nanodegree--nd009t\" class=\"link subsection-link\">Machine Learning Engineer</a></li><li><a href=\"/courses/natural-language-processing-nanodegree--nd892\" class=\"link subsection-link\">Natural Language Processing</a></li></ul></li><li><a href=\"/courses/school-of-autonomous-systems\" class=\"link section-link\">Autonomous Systems</a><ul class=\"list sub-list\"><li><a href=\"/courses/c-plus-plus-nanodegree--nd213\" class=\"link subsection-link\">C++</a></li><li><a href=\"/courses/flying-car-nanodegree--nd787\" class=\"link subsection-link\">Flying Car and Autonomous Flight Engineer</a></li><li><a href=\"/courses/intro-to-self-driving-cars--nd113\" class=\"link subsection-link\">Intro to Self-Driving Cars</a></li><li><a href=\"/courses/machine-learning-engineer-nanodegree--nd009t\" class=\"link subsection-link\">Machine Learning Engineer</a></li><li><a href=\"/courses/robotics-software-engineer--nd209\" class=\"link subsection-link\">Robotics Software Engineer</a></li><li><a href=\"/courses/self-driving-car-engineer-nanodegree--nd013\" class=\"link subsection-link\">Self Driving Car Engineer</a></li><li><a href=\"/courses/sensor-fusion-engineer-nanodegree--nd313\" class=\"link subsection-link\">Sensor Fusion Engineer</a></li></ul></li><li><a href=\"/courses/school-of-business\" class=\"link section-link\">Business</a><ul class=\"list sub-list\"><li><a href=\"/courses/activation-and-retention-strategy--nd037-2\" class=\"link subsection-link\">Activation and Retention Strategy</a></li><li><a href=\"/courses/ai-for-business-leaders--nd054\" class=\"link subsection-link\">AI for Business Leaders</a></li><li><a href=\"/courses/applying-data-science-to-product-management--nd030-1\" class=\"link subsection-link\">Applying Data Science to Product Management</a></li><li><a href=\"/courses/business-analytics-nanodegree--nd098\" class=\"link subsection-link\">Business Analytics</a></li><li><a href=\"/courses/data-product-manager-nanodegree--nd030\" class=\"link subsection-link\">Data Product Manager</a></li><li><a href=\"/courses/digital-marketing-nanodegree--nd018\" class=\"link subsection-link\">Digital Marketing</a></li><li><a href=\"/courses/establishing-data-infrastructure--nd030-2\" class=\"link subsection-link\">Establishing Data Infrastructure</a></li><li><a href=\"/courses/growth-and-acquisition-strategy--nd037-1\" class=\"link subsection-link\">Growth and Acquisition Strategy</a></li><li><a href=\"/courses/growth-product-manager-nanodegree--nd037\" class=\"link subsection-link\">Growth Product Manager</a></li><li><a href=\"/courses/marketing-analytics-nanodegree--nd028\" class=\"link subsection-link\">Marketing Analytics</a></li><li><a href=\"/courses/monetization-strategy--nd037-3\" class=\"link subsection-link\">Monetization Strategy</a></li><li><a href=\"/courses/predictive-analytics-for-business-nanodegree--nd008\" class=\"link subsection-link\">Predictive Analytics For Business</a></li><li><a href=\"/courses/product-manager-nanodegree--nd036\" class=\"link subsection-link\">Product Manager</a></li><li><a href=\"/courses/learn-sql--nd072\" class=\"link subsection-link\">SQL</a></li><li><a href=\"/courses/ux-designer-nanodegree--nd578\" class=\"link subsection-link\">UX Designer</a></li></ul></li><li><a href=\"/courses/school-of-cloud-computing\" class=\"link section-link\">Cloud Computing</a><ul class=\"list sub-list\"><li><a href=\"/courses/aws-cloud-architect-nanodegree--nd063\" class=\"link subsection-link\">AWS Cloud Architect</a></li><li><a href=\"/courses/cloud-developer-nanodegree--nd9990\" class=\"link subsection-link\">Cloud Developer</a></li><li><a href=\"/courses/cloud-dev-ops-nanodegree--nd9991\" class=\"link subsection-link\">Cloud DevOps Engineer</a></li></ul></li><li><a href=\"/courses/school-of-data-science\" class=\"link section-link\">Data Science</a><ul class=\"list sub-list\"><li><a href=\"/courses/applying-data-science-to-product-management--nd030-1\" class=\"link subsection-link\">Applying Data Science to Product Management</a></li><li><a href=\"/courses/business-analytics-nanodegree--nd098\" class=\"link subsection-link\">Business Analytics</a></li><li><a href=\"/courses/data-analyst-nanodegree--nd002\" class=\"link subsection-link\">Data Analyst</a></li><li><a href=\"/courses/data-engineer-nanodegree--nd027\" class=\"link subsection-link\">Data Engineer</a></li><li><a href=\"/courses/data-product-manager-nanodegree--nd030\" class=\"link subsection-link\">Data Product Manager</a></li><li><a href=\"/courses/data-scientist-nanodegree--nd025\" class=\"link subsection-link\">Data Scientist</a></li><li><a href=\"/courses/data-streaming-nanodegree--nd029\" class=\"link subsection-link\">Data Streaming</a></li><li><a href=\"/courses/data-visualization-nanodegree--nd197\" class=\"link subsection-link\">Data Visualization</a></li><li><a href=\"/courses/establishing-data-infrastructure--nd030-2\" class=\"link subsection-link\">Establishing Data Infrastructure</a></li><li><a href=\"/courses/monetization-strategy--nd037-3\" class=\"link subsection-link\">Monetization Strategy</a></li><li><a href=\"/courses/predictive-analytics-for-business-nanodegree--nd008\" class=\"link subsection-link\">Predictive Analytics For Business</a></li><li><a href=\"/courses/programming-for-data-science-nanodegree--nd104\" class=\"link subsection-link\">Programming for Data Science with Python</a></li><li><a href=\"/courses/programming-for-data-science-nanodegree-with-R--nd118\" class=\"link subsection-link\">Programming for Data Science with R</a></li><li><a href=\"/courses/learn-sql--nd072\" class=\"link subsection-link\">SQL</a></li></ul></li><li><a href=\"/courses/school-of-programming\" class=\"link section-link\">Programming &amp; Development</a><ul class=\"list sub-list\"><li><a href=\"/courses/android-basics-nanodegree-by-google--nd803\" class=\"link subsection-link\">Android Basics</a></li><li><a href=\"/courses/android-developer-nanodegree-by-google--nd801\" class=\"link subsection-link\">Android Developer</a></li><li><a href=\"/courses/blockchain-developer-nanodegree--nd1309\" class=\"link subsection-link\">Blockchain Developer</a></li><li><a href=\"/courses/c-plus-plus-nanodegree--nd213\" class=\"link subsection-link\">C++</a></li><li><a href=\"/courses/cloud-developer-nanodegree--nd9990\" class=\"link subsection-link\">Cloud Developer</a></li><li><a href=\"/courses/cloud-dev-ops-nanodegree--nd9991\" class=\"link subsection-link\">Cloud DevOps Engineer</a></li><li><a href=\"/courses/data-engineer-nanodegree--nd027\" class=\"link subsection-link\">Data Engineer</a></li><li><a href=\"/courses/data-structures-and-algorithms-nanodegree--nd256\" class=\"link subsection-link\">Data Structures and Algorithms</a></li><li><a href=\"/courses/front-end-web-developer-nanodegree--nd0011\" class=\"link subsection-link\">Front End Web Developer</a></li><li><a href=\"/courses/full-stack-web-developer-nanodegree--nd0044\" class=\"link subsection-link\">Full Stack Web Developer</a></li><li><a href=\"/courses/intermediate-javascript-nanodegree--nd032\" class=\"link subsection-link\">Intermediate JavaScript</a></li><li><a href=\"/courses/intro-to-cybersecurity-nanodegree--nd545\" class=\"link subsection-link\">Introduction to Cybersecurity</a></li><li><a href=\"/courses/intro-to-programming-nanodegree--nd000\" class=\"link subsection-link\">Introduction to Programming</a></li><li><a href=\"/courses/ios-developer-nanodegree--nd003\" class=\"link subsection-link\">iOS Developer</a></li><li><a href=\"/courses/java-developer-nanodegree--nd035\" class=\"link subsection-link\">Java Developer</a></li><li><a href=\"/courses/react-nanodegree--nd019\" class=\"link subsection-link\">React</a></li></ul></li><li><a href=\"/courses/career\" class=\"link section-link\">Career</a><ul class=\"list sub-list\"><li><a href=\"/courses/applying-to-jobs\" class=\"link subsection-link\">Applying to Jobs</a></li><li><a href=\"/courses/interviewing\" class=\"link subsection-link\">Interviewing</a></li></ul></li></ul></nav></aside><main><div class=\"catalog-filter-mobile\"><div class=\"catalog-filter-mobile__action-buttons-container\"><button class=\"catalog-filter-mobile__toggle\">Filters</button><button class=\"catalog-filter-mobile__close catalog-filter-mobile__close--inactive\" aria-label=\"close filters menu\"></button></div><div class=\"catalog-filter-mobile__menu\"><fieldset class=\"catalog-filters\"><legend class=\"section-title\">Filter by</legend><div class=\"drop-select-component\"><button aria-controls=\"5\" aria-haspopup=\"true\" class=\"drop-select-component__button\"><span class=\"drop-select-component__button__label\">Select Program Details</span></button><div id=\"5\" class=\"drop-select-component__menu drop-select-component__menu--hidden\" aria-hidden=\"true\" aria-expanded=\"false\" role=\"menu\"><div class=\"filter-menu\"><fieldset><legend class=\"section-title\">Type</legend><div class=\"checkbox-component\"><input type=\"checkbox\" data-from=\"type\" name=\"programs\" id=\"type-programs-4\" class=\"checkbox-component__input\"/><label class=\"checkbox-component__label\" for=\"type-programs-4\">Programs</label></div><div class=\"checkbox-component\"><input type=\"checkbox\" data-from=\"type\" name=\"free courses\" id=\"type-free-courses-4\" class=\"checkbox-component__input\"/><label class=\"checkbox-component__label\" for=\"type-free-courses-4\">Free Courses</label></div></fieldset><fieldset><legend class=\"section-title\">Skill Level</legend><div class=\"checkbox-component\"><input type=\"checkbox\" data-from=\"level\" name=\"beginner\" id=\"level-beginner-4\" class=\"checkbox-component__input\"/><label class=\"checkbox-component__label\" for=\"level-beginner-4\">Beginner</label></div><div class=\"checkbox-component\"><input type=\"checkbox\" data-from=\"level\" name=\"intermediate\" id=\"level-intermediate-4\" class=\"checkbox-component__input\"/><label class=\"checkbox-component__label\" for=\"level-intermediate-4\">Intermediate</label></div><div class=\"checkbox-component\"><input type=\"checkbox\" data-from=\"level\" name=\"advanced\" id=\"level-advanced-4\" class=\"checkbox-component__input\"/><label class=\"checkbox-component__label\" for=\"level-advanced-4\">Advanced</label></div></fieldset><fieldset><legend class=\"section-title\">Estimated Duration</legend><div class=\"checkbox-component\"><input type=\"checkbox\" data-from=\"duration\" name=\"&lt;1 Month\" id=\"duration-lessThanAMonth-4\" class=\"checkbox-component__input\"/><label class=\"checkbox-component__label\" for=\"duration-lessThanAMonth-4\">&lt;1 Month</label></div><div class=\"checkbox-component\"><input type=\"checkbox\" data-from=\"duration\" name=\"1 - 3 Months\" id=\"duration-oneToThreeMonths-4\" class=\"checkbox-component__input\"/><label class=\"checkbox-component__label\" for=\"duration-oneToThreeMonths-4\">1 - 3 Months</label></div><div class=\"checkbox-component\"><input type=\"checkbox\" data-from=\"duration\" name=\"3+ Months\" id=\"duration-threeOrMoreMonths-4\" class=\"checkbox-component__input\"/><label class=\"checkbox-component__label\" for=\"duration-threeOrMoreMonths-4\">3+ Months</label></div></fieldset></div></div></div><div class=\"drop-select-component\"><button aria-controls=\"6\" aria-haspopup=\"true\" class=\"drop-select-component__button\"><span class=\"drop-select-component__button__label\">Industry Skills</span></button><div id=\"6\" class=\"drop-select-component__menu drop-select-component__menu--hidden\" aria-hidden=\"true\" aria-expanded=\"false\" role=\"menu\"><div class=\"filter-menu\"><fieldset><legend class=\"section-title\">Skills</legend><div class=\"checkbox-component\"><input type=\"checkbox\" data-from=\"skill\" name=\"Android\" id=\"skill-Android-4\" class=\"checkbox-component__input\"/><label class=\"checkbox-component__label\" for=\"skill-Android-4\">Android</label></div><div class=\"checkbox-component\"><input type=\"checkbox\" data-from=\"skill\" name=\"Android Development\" id=\"skill-Android Development-4\" class=\"checkbox-component__input\"/><label class=\"checkbox-component__label\" for=\"skill-Android Development-4\">Android Development</label></div><div class=\"checkbox-component\"><input type=\"checkbox\" data-from=\"skill\" name=\"Android Studio\" id=\"skill-Android Studio-4\" class=\"checkbox-component__input\"/><label class=\"checkbox-component__label\" for=\"skill-Android Studio-4\">Android Studio</label></div><div class=\"checkbox-component\"><input type=\"checkbox\" data-from=\"skill\" name=\"Artificial Intelligence\" id=\"skill-Artificial Intelligence-4\" class=\"checkbox-component__input\"/><label class=\"checkbox-component__label\" for=\"skill-Artificial Intelligence-4\">Artificial Intelligence</label></div><div class=\"checkbox-component\"><input type=\"checkbox\" data-from=\"skill\" name=\"AWS\" id=\"skill-AWS-4\" class=\"checkbox-component__input\"/><label class=\"checkbox-component__label\" for=\"skill-AWS-4\">AWS</label></div><div class=\"checkbox-component\"><input type=\"checkbox\" data-from=\"skill\" name=\"Career Advancement\" id=\"skill-Career Advancement-4\" class=\"checkbox-component__input\"/><label class=\"checkbox-component__label\" for=\"skill-Career Advancement-4\">Career Advancement</label></div><div class=\"checkbox-component\"><input type=\"checkbox\" data-from=\"skill\" name=\"Computer Vision\" id=\"skill-Computer Vision-4\" class=\"checkbox-component__input\"/><label class=\"checkbox-component__label\" for=\"skill-Computer Vision-4\">Computer Vision</label></div><div class=\"checkbox-component\"><input type=\"checkbox\" data-from=\"skill\" name=\"Control Flow\" id=\"skill-Control Flow-4\" class=\"checkbox-component__input\"/><label class=\"checkbox-component__label\" for=\"skill-Control Flow-4\">Control Flow</label></div><div class=\"checkbox-component\"><input type=\"checkbox\" data-from=\"skill\" name=\"CSS\" id=\"skill-CSS-4\" class=\"checkbox-component__input\"/><label class=\"checkbox-component__label\" for=\"skill-CSS-4\">CSS</label></div><div class=\"checkbox-component\"><input type=\"checkbox\" data-from=\"skill\" name=\"Data Analysis\" id=\"skill-Data Analysis-4\" class=\"checkbox-component__input\"/><label class=\"checkbox-component__label\" for=\"skill-Data Analysis-4\">Data Analysis</label></div><div class=\"checkbox-component\"><input type=\"checkbox\" data-from=\"skill\" name=\"Data Visualization\" id=\"skill-Data Visualization-4\" class=\"checkbox-component__input\"/><label class=\"checkbox-component__label\" for=\"skill-Data Visualization-4\">Data Visualization</label></div><div class=\"checkbox-component\"><input type=\"checkbox\" data-from=\"skill\" name=\"Data Wrangling\" id=\"skill-Data Wrangling-4\" class=\"checkbox-component__input\"/><label class=\"checkbox-component__label\" for=\"skill-Data Wrangling-4\">Data Wrangling</label></div><div class=\"checkbox-component\"><input type=\"checkbox\" data-from=\"skill\" name=\"Debugging\" id=\"skill-Debugging-4\" class=\"checkbox-component__input\"/><label class=\"checkbox-component__label\" for=\"skill-Debugging-4\">Debugging</label></div><div class=\"checkbox-component\"><input type=\"checkbox\" data-from=\"skill\" name=\"Deep Learning\" id=\"skill-Deep Learning-4\" class=\"checkbox-component__input\"/><label class=\"checkbox-component__label\" for=\"skill-Deep Learning-4\">Deep Learning</label></div><div class=\"checkbox-component\"><input type=\"checkbox\" data-from=\"skill\" name=\"Docker\" id=\"skill-Docker-4\" class=\"checkbox-component__input\"/><label class=\"checkbox-component__label\" for=\"skill-Docker-4\">Docker</label></div><div class=\"checkbox-component\"><input type=\"checkbox\" data-from=\"skill\" name=\"Flask\" id=\"skill-Flask-4\" class=\"checkbox-component__input\"/><label class=\"checkbox-component__label\" for=\"skill-Flask-4\">Flask</label></div><div class=\"checkbox-component\"><input type=\"checkbox\" data-from=\"skill\" name=\"Functions\" id=\"skill-Functions-4\" class=\"checkbox-component__input\"/><label class=\"checkbox-component__label\" for=\"skill-Functions-4\">Functions</label></div><div class=\"checkbox-component\"><input type=\"checkbox\" data-from=\"skill\" name=\"HTML\" id=\"skill-HTML-4\" class=\"checkbox-component__input\"/><label class=\"checkbox-component__label\" for=\"skill-HTML-4\">HTML</label></div><div class=\"checkbox-component\"><input type=\"checkbox\" data-from=\"skill\" name=\"Interview practice\" id=\"skill-Interview practice-4\" class=\"checkbox-component__input\"/><label class=\"checkbox-component__label\" for=\"skill-Interview practice-4\">Interview practice</label></div><div class=\"checkbox-component\"><input type=\"checkbox\" data-from=\"skill\" name=\"iOS\" id=\"skill-iOS-4\" class=\"checkbox-component__input\"/><label class=\"checkbox-component__label\" for=\"skill-iOS-4\">iOS</label></div><div class=\"checkbox-component\"><input type=\"checkbox\" data-from=\"skill\" name=\"Java\" id=\"skill-Java-4\" class=\"checkbox-component__input\"/><label class=\"checkbox-component__label\" for=\"skill-Java-4\">Java</label></div><div class=\"checkbox-component\"><input type=\"checkbox\" data-from=\"skill\" name=\"JavaScript\" id=\"skill-JavaScript-4\" class=\"checkbox-component__input\"/><label class=\"checkbox-component__label\" for=\"skill-JavaScript-4\">JavaScript</label></div><div class=\"checkbox-component\"><input type=\"checkbox\" data-from=\"skill\" name=\"Localization\" id=\"skill-Localization-4\" class=\"checkbox-component__input\"/><label class=\"checkbox-component__label\" for=\"skill-Localization-4\">Localization</label></div><div class=\"checkbox-component\"><input type=\"checkbox\" data-from=\"skill\" name=\"Machine Learning\" id=\"skill-Machine Learning-4\" class=\"checkbox-component__input\"/><label class=\"checkbox-component__label\" for=\"skill-Machine Learning-4\">Machine Learning</label></div><div class=\"checkbox-component\"><input type=\"checkbox\" data-from=\"skill\" name=\"Networking\" id=\"skill-Networking-4\" class=\"checkbox-component__input\"/><label class=\"checkbox-component__label\" for=\"skill-Networking-4\">Networking</label></div><div class=\"checkbox-component\"><input type=\"checkbox\" data-from=\"skill\" name=\"Neural Networks\" id=\"skill-Neural Networks-4\" class=\"checkbox-component__input\"/><label class=\"checkbox-component__label\" for=\"skill-Neural Networks-4\">Neural Networks</label></div><div class=\"checkbox-component\"><input type=\"checkbox\" data-from=\"skill\" name=\"Object Oriented Programming\" id=\"skill-Object Oriented Programming-4\" class=\"checkbox-component__input\"/><label class=\"checkbox-component__label\" for=\"skill-Object Oriented Programming-4\">Object Oriented Programming</label></div><div class=\"checkbox-component\"><input type=\"checkbox\" data-from=\"skill\" name=\"Product Design\" id=\"skill-Product Design-4\" class=\"checkbox-component__input\"/><label class=\"checkbox-component__label\" for=\"skill-Product Design-4\">Product Design</label></div><div class=\"checkbox-component\"><input type=\"checkbox\" data-from=\"skill\" name=\"Product Management\" id=\"skill-Product Management-4\" class=\"checkbox-component__input\"/><label class=\"checkbox-component__label\" for=\"skill-Product Management-4\">Product Management</label></div><div class=\"checkbox-component\"><input type=\"checkbox\" data-from=\"skill\" name=\"Product Strategy\" id=\"skill-Product Strategy-4\" class=\"checkbox-component__input\"/><label class=\"checkbox-component__label\" for=\"skill-Product Strategy-4\">Product Strategy</label></div><div class=\"checkbox-component\"><input type=\"checkbox\" data-from=\"skill\" name=\"Prototyping\" id=\"skill-Prototyping-4\" class=\"checkbox-component__input\"/><label class=\"checkbox-component__label\" for=\"skill-Prototyping-4\">Prototyping</label></div><div class=\"checkbox-component\"><input type=\"checkbox\" data-from=\"skill\" name=\"Python\" id=\"skill-Python-4\" class=\"checkbox-component__input\"/><label class=\"checkbox-component__label\" for=\"skill-Python-4\">Python</label></div><div class=\"checkbox-component\"><input type=\"checkbox\" data-from=\"skill\" name=\"PyTorch\" id=\"skill-PyTorch-4\" class=\"checkbox-component__input\"/><label class=\"checkbox-component__label\" for=\"skill-PyTorch-4\">PyTorch</label></div><div class=\"checkbox-component\"><input type=\"checkbox\" data-from=\"skill\" name=\"Reinforcement Learning\" id=\"skill-Reinforcement Learning-4\" class=\"checkbox-component__input\"/><label class=\"checkbox-component__label\" for=\"skill-Reinforcement Learning-4\">Reinforcement Learning</label></div><div class=\"checkbox-component\"><input type=\"checkbox\" data-from=\"skill\" name=\"SQL\" id=\"skill-SQL-4\" class=\"checkbox-component__input\"/><label class=\"checkbox-component__label\" for=\"skill-SQL-4\">SQL</label></div><div class=\"checkbox-component\"><input type=\"checkbox\" data-from=\"skill\" name=\"Supervised Learning\" id=\"skill-Supervised Learning-4\" class=\"checkbox-component__input\"/><label class=\"checkbox-component__label\" for=\"skill-Supervised Learning-4\">Supervised Learning</label></div><div class=\"checkbox-component\"><input type=\"checkbox\" data-from=\"skill\" name=\"Swift\" id=\"skill-Swift-4\" class=\"checkbox-component__input\"/><label class=\"checkbox-component__label\" for=\"skill-Swift-4\">Swift</label></div><div class=\"checkbox-component\"><input type=\"checkbox\" data-from=\"skill\" name=\"UI\" id=\"skill-UI-4\" class=\"checkbox-component__input\"/><label class=\"checkbox-component__label\" for=\"skill-UI-4\">UI</label></div><div class=\"checkbox-component\"><input type=\"checkbox\" data-from=\"skill\" name=\"Unsupervised Learning\" id=\"skill-Unsupervised Learning-4\" class=\"checkbox-component__input\"/><label class=\"checkbox-component__label\" for=\"skill-Unsupervised Learning-4\">Unsupervised Learning</label></div><div class=\"checkbox-component\"><input type=\"checkbox\" data-from=\"skill\" name=\"Whiteboarding\" id=\"skill-Whiteboarding-4\" class=\"checkbox-component__input\"/><label class=\"checkbox-component__label\" for=\"skill-Whiteboarding-4\">Whiteboarding</label></div></fieldset></div></div></div><div class=\"drop-select-component\"><button aria-controls=\"7\" aria-haspopup=\"true\" class=\"drop-select-component__button\"><span class=\"drop-select-component__button__label\">All</span></button><div id=\"7\" class=\"drop-select-component__menu drop-select-component__menu--hidden\" aria-hidden=\"true\" aria-expanded=\"false\" role=\"menu\"><div class=\"drop-select\"><ul class=\"list\"><li><span class=\"main-option\">All</span><ul class=\"list\"></ul></li><li><span class=\"main-option\">Artificial Intelligence</span><ul class=\"list\"><li>AI for Business Leaders</li><li>AI for Healthcare</li><li>AI Product Manager</li><li>AI Programming with Python</li><li>Artificial Intelligence</li><li>Artificial Intelligence for Trading</li><li>Computer Vision</li><li>Deep Learning</li><li>Deep Reinforcement Learning</li><li>IntelÂ® Edge AI for IoT Developers</li><li>Intro to Machine Learning with PyTorch</li><li>Intro to Machine Learning with TensorFlow</li><li>Machine Learning Engineer</li><li>Natural Language Processing</li></ul></li><li><span class=\"main-option\">Autonomous Systems</span><ul class=\"list\"><li>C++</li><li>Flying Car and Autonomous Flight Engineer</li><li>Intro to Self-Driving Cars</li><li>Machine Learning Engineer</li><li>Robotics Software Engineer</li><li>Self Driving Car Engineer</li><li>Sensor Fusion Engineer</li></ul></li><li><span class=\"main-option\">Business</span><ul class=\"list\"><li>Activation and Retention Strategy</li><li>AI for Business Leaders</li><li>Applying Data Science to Product Management</li><li>Business Analytics</li><li>Data Product Manager</li><li>Digital Marketing</li><li>Establishing Data Infrastructure</li><li>Growth and Acquisition Strategy</li><li>Growth Product Manager</li><li>Marketing Analytics</li><li>Monetization Strategy</li><li>Predictive Analytics For Business</li><li>Product Manager</li><li>SQL</li><li>UX Designer</li></ul></li><li><span class=\"main-option\">Cloud Computing</span><ul class=\"list\"><li>AWS Cloud Architect</li><li>Cloud Developer</li><li>Cloud DevOps Engineer</li></ul></li><li><span class=\"main-option\">Data Science</span><ul class=\"list\"><li>Applying Data Science to Product Management</li><li>Business Analytics</li><li>Data Analyst</li><li>Data Engineer</li><li>Data Product Manager</li><li>Data Scientist</li><li>Data Streaming</li><li>Data Visualization</li><li>Establishing Data Infrastructure</li><li>Monetization Strategy</li><li>Predictive Analytics For Business</li><li>Programming for Data Science with Python</li><li>Programming for Data Science with R</li><li>SQL</li></ul></li><li><span class=\"main-option\">Programming &amp; Development</span><ul class=\"list\"><li>Android Basics</li><li>Android Developer</li><li>Blockchain Developer</li><li>C++</li><li>Cloud Developer</li><li>Cloud DevOps Engineer</li><li>Data Engineer</li><li>Data Structures and Algorithms</li><li>Front End Web Developer</li><li>Full Stack Web Developer</li><li>Intermediate JavaScript</li><li>Introduction to Cybersecurity</li><li>Introduction to Programming</li><li>iOS Developer</li><li>Java Developer</li><li>React</li></ul></li><li><span class=\"main-option\">Career</span><ul class=\"list\"><li>Applying to Jobs</li><li>Interviewing</li></ul></li></ul></div></div></div></fieldset><div class=\"catalog-filter-mobile__apply-filter-container\"><button class=\"button btn button--primary\">Apply Filters</button></div></div></div><div class=\"catalog-cards\"><div class=\"catalog-cards__active-filters\"><b>Results (242)</b><ul></ul></div><ul class=\"catalog-cards__list\"><li class=\"catalog-cards__list__item\"><article class=\"catalog-component\"><div class=\"catalog-component__card\"><span class=\"catalog-card-tag--mobile\">New Program!</span><a class=\"card__top\" href=\"/course/intro-to-cybersecurity-nanodegree--nd545\" aria-label=\"Introduction to Cybersecurity\"><div class=\"card__image-container\"><div class=\"card__image-wrapper\"><div data-catalogtype=\"nanodegree\" class=\"card__image-overlay\"></div><div class=\"card__image\" style=\"background-image:url(data:image/png;base64,iVBORw0KGgoAAAANSUhEUgAAAAEAAAABAQMAAAAl21bKAAAAA1BMVEVMaXFNx9g6AAAAAXRSTlMAQObYZgAAAApJREFUeNpjYAAAAAIAAeUn3vwAAAAASUVORK5CYII)\"></div></div></div><div class=\"card__title-container\"><span class=\"catalog-card-tag--desktop\">New</span><h3 class=\"card__title__school greyed\">School of Programming &amp; Development</h3><h2 class=\"card__title__nd-name\">Introduction to Cybersecurity</h2></div><div class=\"card__text-content\"><section><h4 class=\"text-content__text greyed\">Skills Covered</h4><p class=\"text-content__text\">Threat Assessment, Security Vulnerabilities, Compliance, Governance, Risk, Incident Response</p></section></div></a><div class=\"card__bottom\"><button aria-expanded=\"false\" class=\"card__bottom__button\" aria-controls=\"nd545-expandable-content\">Program Details</button><div class=\"difficulty\"><div data-level=\"beginner\" aria-label=\"beginner level\"></div><small aria-hidden=\"true\">beginner</small></div></div></div><div id=\"nd545-expandable-content\" class=\"catalog-component__details\" aria-hidden=\"true\"><div class=\"details__layout\"><p>Get your start in the high growth field of Cybersecurity by building foundational skills in how to evaluate, maintain, and monitor the security of computer systems.</p><div class=\"layout__button-container\"><div class=\"reviews\"></div><a href=\"/course/intro-to-cybersecurity-nanodegree--nd545\" tabindex=\"-1\" class=\"button btn button--primary\">Learn More</a></div></div></div></article></li><li class=\"catalog-cards__list__item\"><article class=\"catalog-component\"><div class=\"catalog-component__card\"><span class=\"catalog-card-tag--mobile\">New Program!</span><a class=\"card__top\" href=\"/course/establishing-data-infrastructure--nd030-2\" aria-label=\"Establishing Data Infrastructure\"><div class=\"card__image-container\"><div class=\"card__image-wrapper\"><div data-catalogtype=\"nanodegree\" class=\"card__image-overlay\"></div><div class=\"card__image\" style=\"background-image:url(data:image/png;base64,iVBORw0KGgoAAAANSUhEUgAAAAEAAAABAQMAAAAl21bKAAAAA1BMVEVMaXFNx9g6AAAAAXRSTlMAQObYZgAAAApJREFUeNpjYAAAAAIAAeUn3vwAAAAASUVORK5CYII)\"></div></div></div><div class=\"card__title-container\"><span class=\"catalog-card-tag--desktop\">New</span><h3 class=\"card__title__school greyed\">School of Business</h3><h2 class=\"card__title__nd-name\">Establishing Data Infrastructure</h2></div><div class=\"card__text-content\"><section><h4 class=\"text-content__text greyed\">Skills Covered</h4><p class=\"text-content__text\">Data Pipelines, Data Consumers, Data Producers, Data Strategy, Product Management</p></section></div></a><div class=\"card__bottom\"><button aria-expanded=\"false\" class=\"card__bottom__button\" aria-controls=\"nd030-2-expandable-content\">Program Details</button><div class=\"difficulty\"><div data-level=\"intermediate\" aria-label=\"intermediate level\"></div><small aria-hidden=\"true\">intermediate</small></div></div></div><div id=\"nd030-2-expandable-content\" class=\"catalog-component__details\" aria-hidden=\"true\"><div class=\"details__layout\"><p>Establishing Data Infrastructure is the second of three courses in the Data Product Manager Nanodegree program. Hone specialized skills in Data Product Management and master the nuances of evaluating strategic decisions for data pipeline technology and create solutions for real-world data infrastructure problems.</p><div class=\"layout__button-container\"><div class=\"reviews\"></div><a href=\"/course/establishing-data-infrastructure--nd030-2\" tabindex=\"-1\" class=\"button btn button--primary\">Learn More</a></div></div></div></article></li><li class=\"catalog-cards__list__item\"><article class=\"catalog-component\"><div class=\"catalog-component__card\"><span class=\"catalog-card-tag--mobile\">New Program!</span><a class=\"card__top\" href=\"/course/intermediate-javascript-nanodegree--nd032\" aria-label=\"Intermediate JavaScript\"><div class=\"card__image-container\"><div class=\"card__image-wrapper\"><div data-catalogtype=\"nanodegree\" class=\"card__image-overlay\"></div><div class=\"card__image\" style=\"background-image:url(data:image/png;base64,iVBORw0KGgoAAAANSUhEUgAAAAEAAAABAQMAAAAl21bKAAAAA1BMVEVMaXFNx9g6AAAAAXRSTlMAQObYZgAAAApJREFUeNpjYAAAAAIAAeUn3vwAAAAASUVORK5CYII)\"></div></div></div><div class=\"card__title-container\"><span class=\"catalog-card-tag--desktop\">New</span><h3 class=\"card__title__school greyed\">School of Programming &amp; Development</h3><h2 class=\"card__title__nd-name\">Intermediate JavaScript</h2></div><div class=\"card__text-content\"><section><h4 class=\"text-content__text greyed\">Skills Covered</h4><p class=\"text-content__text\">Functional Programming, DOM, Data Structures, Asynchronous Programming, Synchronous Programming</p></section></div></a><div class=\"card__bottom\"><button aria-expanded=\"false\" class=\"card__bottom__button\" aria-controls=\"nd032-expandable-content\">Program Details</button><div class=\"difficulty\"><div data-level=\"intermediate\" aria-label=\"intermediate level\"></div><small aria-hidden=\"true\">intermediate</small></div></div></div><div id=\"nd032-expandable-content\" class=\"catalog-component__details\" aria-hidden=\"true\"><div class=\"details__layout\"><p>Master JavaScript, the most popular programming language in the world. Be equipped for advanced roles in web development, server-side application development, and desktop development.</p><div class=\"layout__button-container\"><div class=\"reviews\"></div><a href=\"/course/intermediate-javascript-nanodegree--nd032\" tabindex=\"-1\" class=\"button btn button--primary\">Learn More</a></div></div></div></article></li><li class=\"catalog-cards__list__item\"><article class=\"catalog-component\"><div class=\"catalog-component__card\"><span class=\"catalog-card-tag--mobile\">New Program!</span><a class=\"card__top\" href=\"/course/monetization-strategy--nd037-3\" aria-label=\"Monetization Strategy\"><div class=\"card__image-container\"><div class=\"card__image-wrapper\"><div data-catalogtype=\"nanodegree\" class=\"card__image-overlay\"></div><div class=\"card__image\" style=\"background-image:url(data:image/png;base64,iVBORw0KGgoAAAANSUhEUgAAAAEAAAABAQMAAAAl21bKAAAAA1BMVEVMaXFNx9g6AAAAAXRSTlMAQObYZgAAAApJREFUeNpjYAAAAAIAAeUn3vwAAAAASUVORK5CYII)\"></div></div></div><div class=\"card__title-container\"><span class=\"catalog-card-tag--desktop\">New</span><h3 class=\"card__title__school greyed\">School of Business</h3><h2 class=\"card__title__nd-name\">Monetization Strategy</h2></div><div class=\"card__text-content\"><section><h4 class=\"text-content__text greyed\">Skills Covered</h4><p class=\"text-content__text\">Product Management, Monetization Models, Pricing Strategy, Buyer Personas, Lifetime Value, Customer Acquisition Cost, Pricing Metrics, Growth Strategy</p></section></div></a><div class=\"card__bottom\"><button aria-expanded=\"false\" class=\"card__bottom__button\" aria-controls=\"nd037-3-expandable-content\">Program Details</button><div class=\"difficulty\"><div data-level=\"intermediate\" aria-label=\"intermediate level\"></div><small aria-hidden=\"true\">intermediate</small></div></div></div><div id=\"nd037-3-expandable-content\" class=\"catalog-component__details\" aria-hidden=\"true\"><div class=\"details__layout\"><p>Monetization Strategy is the third of three courses in the Growth Product Manager Nanodegree program. Hone specialized Product Management skills in monetization strategy by learning how to implement strategies to drive profitable growth for your business. Build and test pricing plans and market selection, target the right buyer personas, and be equipped to harness their full lifetime value.</p><div class=\"layout__button-container\"><div class=\"reviews\"></div><a href=\"/course/monetization-strategy--nd037-3\" tabindex=\"-1\" class=\"button btn button--primary\">Learn More</a></div></div></div></article></li><li class=\"catalog-cards__list__item\"><article class=\"catalog-component\"><div class=\"catalog-component__card\"><span class=\"catalog-card-tag--mobile\">New Program!</span><a class=\"card__top\" href=\"/course/applying-data-science-to-product-management--nd030-1\" aria-label=\"Applying Data Science to Product Management\"><div class=\"card__image-container\"><div class=\"card__image-wrapper\"><div data-catalogtype=\"nanodegree\" class=\"card__image-overlay\"></div><div class=\"card__image\" style=\"background-image:url(data:image/png;base64,iVBORw0KGgoAAAANSUhEUgAAAAEAAAABAQMAAAAl21bKAAAAA1BMVEVMaXFNx9g6AAAAAXRSTlMAQObYZgAAAApJREFUeNpjYAAAAAIAAeUn3vwAAAAASUVORK5CYII)\"></div></div></div><div class=\"card__title-container\"><span class=\"catalog-card-tag--desktop\">New</span><h3 class=\"card__title__school greyed\">School of Business</h3><h2 class=\"card__title__nd-name\">Applying Data Science to Product Management</h2></div><div class=\"card__text-content\"><section><h4 class=\"text-content__text greyed\">Skills Covered</h4><p class=\"text-content__text\">Data Science, Product Management, Data Visualization, Product Strategy</p></section></div></a><div class=\"card__bottom\"><button aria-expanded=\"false\" class=\"card__bottom__button\" aria-controls=\"nd030-1-expandable-content\">Program Details</button><div class=\"difficulty\"><div data-level=\"intermediate\" aria-label=\"intermediate level\"></div><small aria-hidden=\"true\">intermediate</small></div></div></div><div id=\"nd030-1-expandable-content\" class=\"catalog-component__details\" aria-hidden=\"true\"><div class=\"details__layout\"><p>Applying Data Science to Product Management is the first of three courses in the Data Product Manager Nanodegree program. Hone specialized skills in Data Product Management and learn how to model data, identify trends in data, and leverage those insights to develop data-backed product strategy.</p><div class=\"layout__button-container\"><div class=\"reviews\"></div><a href=\"/course/applying-data-science-to-product-management--nd030-1\" tabindex=\"-1\" class=\"button btn button--primary\">Learn More</a></div></div></div></article></li><li class=\"catalog-cards__list__item\"><article class=\"catalog-component\"><div class=\"catalog-component__card\"><span class=\"catalog-card-tag--mobile\">New Program!</span><a class=\"card__top\" href=\"/course/data-product-manager-nanodegree--nd030\" aria-label=\"Data Product Manager\"><div class=\"card__image-container\"><div class=\"card__image-wrapper\"><div data-catalogtype=\"nanodegree\" class=\"card__image-overlay\"></div><div class=\"card__image\" style=\"background-image:url(data:image/png;base64,iVBORw0KGgoAAAANSUhEUgAAAAEAAAABAQMAAAAl21bKAAAAA1BMVEVMaXFNx9g6AAAAAXRSTlMAQObYZgAAAApJREFUeNpjYAAAAAIAAeUn3vwAAAAASUVORK5CYII)\"></div></div></div><div class=\"card__title-container\"><span class=\"catalog-card-tag--desktop\">New</span><h3 class=\"card__title__school greyed\">School of Business</h3><h2 class=\"card__title__nd-name\">Data Product Manager</h2></div><div class=\"card__text-content\"><section><h4 class=\"text-content__text greyed\">Skills Covered</h4><p class=\"text-content__text\">Data Science, Product Management, Product Design, Data Visualization, User Journey Maps</p></section></div></a><div class=\"card__bottom\"><button aria-expanded=\"false\" class=\"card__bottom__button\" aria-controls=\"nd030-expandable-content\">Program Details</button><div class=\"difficulty\"><div data-level=\"intermediate\" aria-label=\"intermediate level\"></div><small aria-hidden=\"true\">intermediate</small></div></div></div><div id=\"nd030-expandable-content\" class=\"catalog-component__details\" aria-hidden=\"true\"><div class=\"details__layout\"><p>Hone specialized skills in Data Product Management by learning how to apply data science best practices to build data-driven products backed by scalable data strategies to deliver the right experience to the right users, at the right time.</p><div class=\"layout__button-container\"><div class=\"reviews\"></div><a href=\"/course/data-product-manager-nanodegree--nd030\" tabindex=\"-1\" class=\"button btn button--primary\">Learn More</a></div></div></div></article></li><li class=\"catalog-cards__list__item\"><article class=\"catalog-component\"><div class=\"catalog-component__card\"><span class=\"catalog-card-tag--mobile\">New Program!</span><a class=\"card__top\" href=\"/course/learn-sql--nd072\" aria-label=\"SQL\"><div class=\"card__image-container\"><div class=\"card__image-wrapper\"><div data-catalogtype=\"nanodegree\" class=\"card__image-overlay\"></div><div class=\"card__image\" style=\"background-image:url(data:image/png;base64,iVBORw0KGgoAAAANSUhEUgAAAAEAAAABAQMAAAAl21bKAAAAA1BMVEVMaXFNx9g6AAAAAXRSTlMAQObYZgAAAApJREFUeNpjYAAAAAIAAeUn3vwAAAAASUVORK5CYII)\"></div></div></div><div class=\"card__title-container\"><span class=\"catalog-card-tag--desktop\">New</span><h3 class=\"card__title__school greyed\">School of Data Science</h3><h2 class=\"card__title__nd-name\">SQL</h2></div><div class=\"card__text-content\"><section><h4 class=\"text-content__text greyed\">Skills Covered</h4><p class=\"text-content__text\">SQL, PostgreSQL, JOINs, Subqueries, Window Functions, Partitions, Data Cleaning, DDL, DML, Relational and Non-Relational Databases</p></section></div></a><div class=\"card__bottom\"><button aria-expanded=\"false\" class=\"card__bottom__button\" aria-controls=\"nd072-expandable-content\">Program Details</button><div class=\"difficulty\"><div data-level=\"beginner\" aria-label=\"beginner level\"></div><small aria-hidden=\"true\">beginner</small></div></div></div><div id=\"nd072-expandable-content\" class=\"catalog-component__details\" aria-hidden=\"true\"><div class=\"details__layout\"><p>Master SQL, the core language for Big Data analysis, and enable insight-driven decision-making and strategy for your business.</p><div class=\"layout__button-container\"><div class=\"reviews\"></div><a href=\"/course/learn-sql--nd072\" tabindex=\"-1\" class=\"button btn button--primary\">Learn More</a></div></div></div></article></li><li class=\"catalog-cards__list__item\"><article class=\"catalog-component\"><div class=\"catalog-component__card\"><span class=\"catalog-card-tag--mobile\">New Program!</span><a class=\"card__top\" href=\"/course/programming-for-data-science-nanodegree--nd104\" aria-label=\"Programming for Data Science with Python\"><div class=\"card__image-container\"><div class=\"card__image-wrapper\"><div data-catalogtype=\"nanodegree\" class=\"card__image-overlay\"></div><div class=\"card__image\" style=\"background-image:url(data:image/png;base64,iVBORw0KGgoAAAANSUhEUgAAAAEAAAABAQMAAAAl21bKAAAAA1BMVEVMaXFNx9g6AAAAAXRSTlMAQObYZgAAAApJREFUeNpjYAAAAAIAAeUn3vwAAAAASUVORK5CYII)\"></div></div></div><div class=\"card__title-container\"><span class=\"catalog-card-tag--desktop\">New</span><h3 class=\"card__title__school greyed\">School of Data Science</h3><h2 class=\"card__title__nd-name\">Programming for Data Science with Python</h2></div><div class=\"card__text-content\"><section><h4 class=\"text-content__text greyed\">Skills Covered</h4><p class=\"text-content__text\">Python, Numpy &amp; Pandas, SQL, Git &amp; GitHub</p></section><section><h4 class=\"text-content__text greyed\">In Collaboration With</h4><p class=\"text-content__text\">Mode</p></section></div></a><div class=\"card__bottom\"><button aria-expanded=\"false\" class=\"card__bottom__button\" aria-controls=\"nd104-expandable-content\">Program Details</button><div class=\"difficulty\"><div data-level=\"beginner\" aria-label=\"beginner level\"></div><small aria-hidden=\"true\">beginner</small></div></div></div><div id=\"nd104-expandable-content\" class=\"catalog-component__details\" aria-hidden=\"true\"><div class=\"details__layout\"><p>Learn the fundamental programming tools for data professionals: Python, SQL, the Terminal and Git.</p><div class=\"layout__button-container\"><div class=\"reviews\"></div><a href=\"/course/programming-for-data-science-nanodegree--nd104\" tabindex=\"-1\" class=\"button btn button--primary\">Learn More</a></div></div></div></article></li><li class=\"catalog-cards__list__item\"><article class=\"catalog-component\"><div class=\"catalog-component__card\"><span class=\"catalog-card-tag--mobile\">New Program!</span><a class=\"card__top\" href=\"/course/self-driving-car-engineer-nanodegree--nd013\" aria-label=\"Self Driving Car Engineer\"><div class=\"card__image-container\"><div class=\"card__image-wrapper\"><div data-catalogtype=\"nanodegree\" class=\"card__image-overlay\"></div><div class=\"card__image\" style=\"background-image:url(data:image/png;base64,iVBORw0KGgoAAAANSUhEUgAAAAEAAAABAQMAAAAl21bKAAAAA1BMVEVMaXFNx9g6AAAAAXRSTlMAQObYZgAAAApJREFUeNpjYAAAAAIAAeUn3vwAAAAASUVORK5CYII)\"></div></div></div><div class=\"card__title-container\"><span class=\"catalog-card-tag--desktop\">New</span><h3 class=\"card__title__school greyed\">School of Autonomous Systems</h3><h2 class=\"card__title__nd-name\">Self Driving Car Engineer</h2></div><div class=\"card__text-content\"><section><h4 class=\"text-content__text greyed\">Skills Covered</h4><p class=\"text-content__text\">Computer Vision, Deep Learning, Sensor Fusion, Localization, Self-Driving Cars</p></section><section><h4 class=\"text-content__text greyed\">In Collaboration With</h4><p class=\"text-content__text\">Mercedes-Benz, Nvidia, Uber ATG, DiDi, BMW, McLaren</p></section></div></a><div class=\"card__bottom\"><button aria-expanded=\"false\" class=\"card__bottom__button\" aria-controls=\"nd013-expandable-content\">Program Details</button><div class=\"difficulty\"><div data-level=\"advanced\" aria-label=\"advanced level\"></div><small aria-hidden=\"true\">advanced</small></div></div></div><div id=\"nd013-expandable-content\" class=\"catalog-component__details\" aria-hidden=\"true\"><div class=\"details__layout\"><p>Self-driving cars are set to revolutionize the way we live. This is transformational technology, on the cutting-edge of robotics, machine learning, software engineering, and mechanical engineering. In this program, youâll learn the skills and techniques used by self-driving car teams at the most advanced technology companies in the world.</p><div class=\"layout__button-container\"><div class=\"reviews\"></div><a href=\"/course/self-driving-car-engineer-nanodegree--nd013\" tabindex=\"-1\" class=\"button btn button--primary\">Learn More</a></div></div></div></article></li><li class=\"catalog-cards__list__item\"><article class=\"catalog-component\"><div class=\"catalog-component__card\"><a class=\"card__top\" href=\"/course/machine-learning-engineer-nanodegree--nd009t\" aria-label=\"Machine Learning Engineer\"><div class=\"card__image-container\"><div class=\"card__image-wrapper\"><div data-catalogtype=\"nanodegree\" class=\"card__image-overlay\"></div><div class=\"card__image\" style=\"background-image:url(data:image/png;base64,iVBORw0KGgoAAAANSUhEUgAAAAEAAAABAQMAAAAl21bKAAAAA1BMVEVMaXFNx9g6AAAAAXRSTlMAQObYZgAAAApJREFUeNpjYAAAAAIAAeUn3vwAAAAASUVORK5CYII)\"></div></div></div><div class=\"card__title-container\"><h3 class=\"card__title__school greyed\">School of Artificial Intelligence</h3><h2 class=\"card__title__nd-name\">Machine Learning Engineer</h2></div><div class=\"card__text-content\"><section><h4 class=\"text-content__text greyed\">Skills Covered</h4><p class=\"text-content__text\">Machine Learning, Supervised Learning, Unsupervised Learning, Deep Learning</p></section><section><h4 class=\"text-content__text greyed\">In Collaboration With</h4><p class=\"text-content__text\">Kaggle, AWS</p></section></div></a><div class=\"card__bottom\"><button aria-expanded=\"false\" class=\"card__bottom__button\" aria-controls=\"nd009t-expandable-content\">Program Details</button><div class=\"difficulty\"><div data-level=\"intermediate\" aria-label=\"intermediate level\"></div><small aria-hidden=\"true\">intermediate</small></div></div></div><div id=\"nd009t-expandable-content\" class=\"catalog-component__details\" aria-hidden=\"true\"><div class=\"details__layout\"><p>Become a machine learning engineer and apply predictive models to massive data sets in fields like education, finance, healthcare or robotics.</p><div class=\"layout__button-container\"><div class=\"reviews\"></div><a href=\"/course/machine-learning-engineer-nanodegree--nd009t\" tabindex=\"-1\" class=\"button btn button--primary\">Learn More</a></div></div></div></article></li><li class=\"catalog-cards__list__item\"><article class=\"catalog-component\"><div class=\"catalog-component__card\"><a class=\"card__top\" href=\"/course/intro-to-programming-nanodegree--nd000\" aria-label=\"Introduction to Programming\"><div class=\"card__image-container\"><div class=\"card__image-wrapper\"><div data-catalogtype=\"nanodegree\" class=\"card__image-overlay\"></div><div class=\"card__image\" style=\"background-image:url(data:image/png;base64,iVBORw0KGgoAAAANSUhEUgAAAAEAAAABAQMAAAAl21bKAAAAA1BMVEVMaXFNx9g6AAAAAXRSTlMAQObYZgAAAApJREFUeNpjYAAAAAIAAeUn3vwAAAAASUVORK5CYII)\"></div></div></div><div class=\"card__title-container\"><h3 class=\"card__title__school greyed\">School of Programming &amp; Development</h3><h2 class=\"card__title__nd-name\">Introduction to Programming</h2></div><div class=\"card__text-content\"><section><h4 class=\"text-content__text greyed\">Skills Covered</h4><p class=\"text-content__text\">Introduction to Programming, HTML, CSS, Python</p></section></div></a><div class=\"card__bottom\"><button aria-expanded=\"false\" class=\"card__bottom__button\" aria-controls=\"nd000-expandable-content\">Program Details</button><div class=\"difficulty\"><div data-level=\"beginner\" aria-label=\"beginner level\"></div><small aria-hidden=\"true\">beginner</small></div></div></div><div id=\"nd000-expandable-content\" class=\"catalog-component__details\" aria-hidden=\"true\"><div class=\"details__layout\"><p>Udacity&#x27;s Intro to Programming is your first step towards careers in Web and App Development, Machine Learning, Data Science, AI, and more! This program is perfect for beginners.</p><div class=\"layout__button-container\"><div class=\"reviews\"></div><a href=\"/course/intro-to-programming-nanodegree--nd000\" tabindex=\"-1\" class=\"button btn button--primary\">Learn More</a></div></div></div></article></li><li class=\"catalog-cards__list__item\"><article class=\"catalog-component\"><div class=\"catalog-component__card\"><a class=\"card__top\" href=\"/course/deep-learning-nanodegree--nd101\" aria-label=\"Deep Learning\"><div class=\"card__image-container\"><div class=\"card__image-wrapper\"><div data-catalogtype=\"nanodegree\" class=\"card__image-overlay\"></div><div class=\"card__image\" style=\"background-image:url(data:image/png;base64,iVBORw0KGgoAAAANSUhEUgAAAAEAAAABAQMAAAAl21bKAAAAA1BMVEVMaXFNx9g6AAAAAXRSTlMAQObYZgAAAApJREFUeNpjYAAAAAIAAeUn3vwAAAAASUVORK5CYII)\"></div></div></div><div class=\"card__title-container\"><h3 class=\"card__title__school greyed\">School of Artificial Intelligence</h3><h2 class=\"card__title__nd-name\">Deep Learning</h2></div><div class=\"card__text-content\"><section><h4 class=\"text-content__text greyed\">Skills Covered</h4><p class=\"text-content__text\">Deep Learning, Neural Networks, Jupyter Notebooks, CNNs, GANs</p></section><section><h4 class=\"text-content__text greyed\">In Collaboration With</h4><p class=\"text-content__text\">AWS, Facebook Artificial Intelligence</p></section></div></a><div class=\"card__bottom\"><button aria-expanded=\"false\" class=\"card__bottom__button\" aria-controls=\"nd101-expandable-content\">Program Details</button><div class=\"difficulty\"><div data-level=\"intermediate\" aria-label=\"intermediate level\"></div><small aria-hidden=\"true\">intermediate</small></div></div></div><div id=\"nd101-expandable-content\" class=\"catalog-component__details\" aria-hidden=\"true\"><div class=\"details__layout\"><p>Deep learning is driving advances in artificial intelligence that are changing our world. Enroll now to build and apply your own deep neural networks to produce amazing solutions to important challenges.</p><div class=\"layout__button-container\"><div class=\"reviews\"></div><a href=\"/course/deep-learning-nanodegree--nd101\" tabindex=\"-1\" class=\"button btn button--primary\">Learn More</a></div></div></div></article></li><li class=\"catalog-cards__list__item\"><article class=\"catalog-component\"><div class=\"catalog-component__card\"><span class=\"catalog-card-tag--mobile\">New Program!</span><a class=\"card__top\" href=\"/course/data-scientist-nanodegree--nd025\" aria-label=\"Data Scientist\"><div class=\"card__image-container\"><div class=\"card__image-wrapper\"><div data-catalogtype=\"nanodegree\" class=\"card__image-overlay\"></div><div class=\"card__image\" style=\"background-image:url(data:image/png;base64,iVBORw0KGgoAAAANSUhEUgAAAAEAAAABAQMAAAAl21bKAAAAA1BMVEVMaXFNx9g6AAAAAXRSTlMAQObYZgAAAApJREFUeNpjYAAAAAIAAeUn3vwAAAAASUVORK5CYII)\"></div></div></div><div class=\"card__title-container\"><span class=\"catalog-card-tag--desktop\">New</span><h3 class=\"card__title__school greyed\">School of Data Science</h3><h2 class=\"card__title__nd-name\">Data Scientist</h2></div><div class=\"card__text-content\"><section><h4 class=\"text-content__text greyed\">Skills Covered</h4><p class=\"text-content__text\">Machine Learning, Deep Learning, Software Engineering</p></section><section><h4 class=\"text-content__text greyed\">In Collaboration With</h4><p class=\"text-content__text\">Bertelsmann, Figure Eight, IBM Watson, Insight, Kaggle, Starbucks</p></section></div></a><div class=\"card__bottom\"><button aria-expanded=\"false\" class=\"card__bottom__button\" aria-controls=\"nd025-expandable-content\">Program Details</button><div class=\"difficulty\"><div data-level=\"advanced\" aria-label=\"advanced level\"></div><small aria-hidden=\"true\">advanced</small></div></div></div><div id=\"nd025-expandable-content\" class=\"catalog-component__details\" aria-hidden=\"true\"><div class=\"details__layout\"><p>Build effective machine learning models, run data pipelines, build recommendation systems, and deploy solutions to the cloud with industry-aligned projects.</p><div class=\"layout__button-container\"><div class=\"reviews\"></div><a href=\"/course/data-scientist-nanodegree--nd025\" tabindex=\"-1\" class=\"button btn button--primary\">Learn More</a></div></div></div></article></li><li class=\"catalog-cards__list__item\"><article class=\"catalog-component\"><div class=\"catalog-component__card\"><span class=\"catalog-card-tag--mobile\">New Program!</span><a class=\"card__top\" href=\"/course/data-engineer-nanodegree--nd027\" aria-label=\"Data Engineer\"><div class=\"card__image-container\"><div class=\"card__image-wrapper\"><div data-catalogtype=\"nanodegree\" class=\"card__image-overlay\"></div><div class=\"card__image\" style=\"background-image:url(data:image/png;base64,iVBORw0KGgoAAAANSUhEUgAAAAEAAAABAQMAAAAl21bKAAAAA1BMVEVMaXFNx9g6AAAAAXRSTlMAQObYZgAAAApJREFUeNpjYAAAAAIAAeUn3vwAAAAASUVORK5CYII)\"></div></div></div><div class=\"card__title-container\"><span class=\"catalog-card-tag--desktop\">New</span><h3 class=\"card__title__school greyed\">School of Data Science</h3><h2 class=\"card__title__nd-name\">Data Engineer</h2></div><div class=\"card__text-content\"><section><h4 class=\"text-content__text greyed\">Skills Covered</h4><p class=\"text-content__text\">Data Modeling, Data Pipelines, Data Lakes, Spark, Airflow</p></section><section><h4 class=\"text-content__text greyed\">In Collaboration With</h4><p class=\"text-content__text\">Insight</p></sectio\n"
     ]
    }
   ],
   "source": [
    "print(r.text[:100000])"
   ]
  },
  {
   "cell_type": "markdown",
   "metadata": {},
   "source": [
    "### Step 3: Find all course summaries\n",
    "Use the BeautifulSoup's `find_all` method to select based on tag type and class name. You can right click on the item, and click \"Inspect\" to view its html on a web page."
   ]
  },
  {
   "cell_type": "code",
   "execution_count": 5,
   "metadata": {},
   "outputs": [
    {
     "name": "stdout",
     "output_type": "stream",
     "text": [
      "Number of Courses 242\n"
     ]
    }
   ],
   "source": [
    "#: Find all course summaries\n",
    "summaries = soup.find_all(\"div\", {\"class\":\"catalog-component__card\"})\n",
    "#summaries = soup.find_all(\"h2\", {\"class\":\"card__title__nd-name\"})\n",
    "\n",
    "print('Number of Courses', len(summaries))"
   ]
  },
  {
   "cell_type": "markdown",
   "metadata": {},
   "source": [
    "### Step 4: Inspect the first summary to find selectors for the course name and school\n",
    "Tip: `.prettify()` is a super helpful method BeautifulSoup provides to output html in a nicely indented form! Make sure to use `print()` to ensure whitespace is displayed properly."
   ]
  },
  {
   "cell_type": "code",
   "execution_count": 6,
   "metadata": {},
   "outputs": [
    {
     "name": "stdout",
     "output_type": "stream",
     "text": [
      "<div class=\"catalog-component__card\">\n",
      " <span class=\"catalog-card-tag--mobile\">\n",
      "  New Program!\n",
      " </span>\n",
      " <a aria-label=\"Introduction to Cybersecurity\" class=\"card__top\" href=\"/course/intro-to-cybersecurity-nanodegree--nd545\">\n",
      "  <div class=\"card__image-container\">\n",
      "   <div class=\"card__image-wrapper\">\n",
      "    <div class=\"card__image-overlay\" data-catalogtype=\"nanodegree\">\n",
      "    </div>\n",
      "    <div class=\"card__image\" style=\"background-image:url(data:image/png;base64,iVBORw0KGgoAAAANSUhEUgAAAAEAAAABAQMAAAAl21bKAAAAA1BMVEVMaXFNx9g6AAAAAXRSTlMAQObYZgAAAApJREFUeNpjYAAAAAIAAeUn3vwAAAAASUVORK5CYII)\">\n",
      "    </div>\n",
      "   </div>\n",
      "  </div>\n",
      "  <div class=\"card__title-container\">\n",
      "   <span class=\"catalog-card-tag--desktop\">\n",
      "    New\n",
      "   </span>\n",
      "   <h3 class=\"card__title__school greyed\">\n",
      "    School of Programming &amp; Development\n",
      "   </h3>\n",
      "   <h2 class=\"card__title__nd-name\">\n",
      "    Introduction to Cybersecurity\n",
      "   </h2>\n",
      "  </div>\n",
      "  <div class=\"card__text-content\">\n",
      "   <section>\n",
      "    <h4 class=\"text-content__text greyed\">\n",
      "     Skills Covered\n",
      "    </h4>\n",
      "    <p class=\"text-content__text\">\n",
      "     Threat Assessment, Security Vulnerabilities, Compliance, Governance, Risk, Incident Response\n",
      "    </p>\n",
      "   </section>\n",
      "  </div>\n",
      " </a>\n",
      " <div class=\"card__bottom\">\n",
      "  <button aria-controls=\"nd545-expandable-content\" aria-expanded=\"false\" class=\"card__bottom__button\">\n",
      "   Program Details\n",
      "  </button>\n",
      "  <div class=\"difficulty\">\n",
      "   <div aria-label=\"beginner level\" data-level=\"beginner\">\n",
      "   </div>\n",
      "   <small aria-hidden=\"true\">\n",
      "    beginner\n",
      "   </small>\n",
      "  </div>\n",
      " </div>\n",
      "</div>\n",
      "\n"
     ]
    }
   ],
   "source": [
    "print(summaries[0].prettify())"
   ]
  },
  {
   "cell_type": "markdown",
   "metadata": {},
   "source": [
    "Look for selectors contain the the courses title and school name text you want to extract. Then, use the `select_one` method on the summary object to pull out the html with those selectors. Afterwards, don't forget to do some extra cleaning to isolate the names (get rid of unnecessary html)."
   ]
  },
  {
   "cell_type": "code",
   "execution_count": 7,
   "metadata": {},
   "outputs": [
    {
     "data": {
      "text/plain": [
       "'Introduction to Cybersecurity'"
      ]
     },
     "execution_count": 7,
     "metadata": {},
     "output_type": "execute_result"
    }
   ],
   "source": [
    "#: extract course title\n",
    "summaries[0].select_one(\"h2\").get_text().strip()"
   ]
  },
  {
   "cell_type": "code",
   "execution_count": 8,
   "metadata": {},
   "outputs": [
    {
     "data": {
      "text/plain": [
       "'School of Programming & Development'"
      ]
     },
     "execution_count": 8,
     "metadata": {},
     "output_type": "execute_result"
    }
   ],
   "source": [
    "#: extract school\n",
    "summaries[0].select_one(\"h3\").get_text().strip()"
   ]
  },
  {
   "cell_type": "markdown",
   "metadata": {},
   "source": [
    "### Step 5: Collect names and schools of ALL course listings\n",
    "Reuse your code from the previous step, but now in a loop to extract the name and school from every course summary in `summaries`!"
   ]
  },
  {
   "cell_type": "code",
   "execution_count": 9,
   "metadata": {},
   "outputs": [],
   "source": [
    "courses = []\n",
    "for summary in summaries:\n",
    "    title = summary.select_one(\"h2\").get_text().strip()\n",
    "    school = summary.select_one(\"h3\").get_text().strip()\n",
    "    courses.append((title, school))"
   ]
  },
  {
   "cell_type": "code",
   "execution_count": 10,
   "metadata": {},
   "outputs": [
    {
     "name": "stdout",
     "output_type": "stream",
     "text": [
      "242 course summaries found. Sample:\n"
     ]
    },
    {
     "data": {
      "text/plain": [
       "[('Introduction to Cybersecurity', 'School of Programming & Development'),\n",
       " ('Establishing Data Infrastructure', 'School of Business'),\n",
       " ('Intermediate JavaScript', 'School of Programming & Development'),\n",
       " ('Monetization Strategy', 'School of Business'),\n",
       " ('Applying Data Science to Product Management', 'School of Business'),\n",
       " ('Data Product Manager', 'School of Business'),\n",
       " ('SQL', 'School of Data Science'),\n",
       " ('Programming for Data Science with Python', 'School of Data Science'),\n",
       " ('Self Driving Car Engineer', 'School of Autonomous Systems'),\n",
       " ('Machine Learning Engineer', 'School of Artificial Intelligence'),\n",
       " ('Introduction to Programming', 'School of Programming & Development'),\n",
       " ('Deep Learning', 'School of Artificial Intelligence'),\n",
       " ('Data Scientist', 'School of Data Science'),\n",
       " ('Data Engineer', 'School of Data Science'),\n",
       " ('Data Analyst', 'School of Data Science'),\n",
       " ('UX Designer', 'School of Business'),\n",
       " ('Digital Marketing', 'School of Business'),\n",
       " ('AI for Healthcare', 'School of Artificial Intelligence'),\n",
       " ('Activation and Retention Strategy', 'School of Business'),\n",
       " ('AWS Cloud Architect', 'School of Cloud Computing')]"
      ]
     },
     "execution_count": 10,
     "metadata": {},
     "output_type": "execute_result"
    }
   ],
   "source": [
    "print(len(courses), \"course summaries found. Sample:\")\n",
    "courses[:20]"
   ]
  },
  {
   "cell_type": "markdown",
   "metadata": {},
   "source": [
    "# Normalization\n",
    "Normalize case in the following text and remove punctuation!"
   ]
  },
  {
   "cell_type": "code",
   "execution_count": 11,
   "metadata": {},
   "outputs": [
    {
     "name": "stdout",
     "output_type": "stream",
     "text": [
      "The first time you see The Second Renaissance it may look boring. Look at it at least twice and definitely watch part 2. It will change your view of the matrix. Are the human people the ones who started the war ? Is AI a bad thing ?\n"
     ]
    }
   ],
   "source": [
    "text = \"The first time you see The Second Renaissance it may look boring. Look at it at least twice and definitely watch part 2. It will change your view of the matrix. Are the human people the ones who started the war ? Is AI a bad thing ?\"\n",
    "print(text)"
   ]
  },
  {
   "cell_type": "markdown",
   "metadata": {},
   "source": [
    "### Case Normalization"
   ]
  },
  {
   "cell_type": "code",
   "execution_count": 12,
   "metadata": {},
   "outputs": [
    {
     "name": "stdout",
     "output_type": "stream",
     "text": [
      "the first time you see the second renaissance it may look boring. look at it at least twice and definitely watch part 2. it will change your view of the matrix. are the human people the ones who started the war ? is ai a bad thing ?\n"
     ]
    }
   ],
   "source": [
    "text = text.lower()\n",
    "print(text)"
   ]
  },
  {
   "cell_type": "markdown",
   "metadata": {},
   "source": [
    "### Punctuation Removal\n",
    "Use the `re` library to remove punctuation with a regular expression (regex). Feel free to refer back to the video or Google to get your regular expression. You can learn more about regex [here](https://docs.python.org/3/howto/regex.html)."
   ]
  },
  {
   "cell_type": "code",
   "execution_count": 13,
   "metadata": {},
   "outputs": [
    {
     "name": "stdout",
     "output_type": "stream",
     "text": [
      "the first time you see the second renaissance it may look boring  look at it at least twice and definitely watch part 2  it will change your view of the matrix  are the human people the ones who started the war   is ai a bad thing  \n"
     ]
    }
   ],
   "source": [
    "import re\n",
    "\n",
    "#: remove punctuation characters\n",
    "text = re.sub(r\"[^a-zA-Z0-9]\", \" \", text)\n",
    "print(text)"
   ]
  },
  {
   "cell_type": "markdown",
   "metadata": {},
   "source": [
    "### Note on NLTK data download\n",
    "Run the cell below to download the necessary nltk data packages. You can download all packages by entering `nltk.download()` on your computer. Keep in mind this does take up a bit more space. You can learn more about nltk data installation [here](https://www.nltk.org/data.html)."
   ]
  },
  {
   "cell_type": "code",
   "execution_count": 14,
   "metadata": {},
   "outputs": [
    {
     "name": "stdout",
     "output_type": "stream",
     "text": [
      "showing info https://raw.githubusercontent.com/nltk/nltk_data/gh-pages/index.xml\n"
     ]
    },
    {
     "data": {
      "text/plain": [
       "True"
      ]
     },
     "execution_count": 14,
     "metadata": {},
     "output_type": "execute_result"
    }
   ],
   "source": [
    "import nltk\n",
    "nltk.download()"
   ]
  },
  {
   "cell_type": "markdown",
   "metadata": {},
   "source": [
    "# Tokenization\n",
    "Try out the tokenization methods in nltk to split the following text into words and then sentences.\n"
   ]
  },
  {
   "cell_type": "code",
   "execution_count": 15,
   "metadata": {},
   "outputs": [],
   "source": [
    "from nltk.tokenize import word_tokenize\n",
    "from nltk.tokenize import sent_tokenize"
   ]
  },
  {
   "cell_type": "code",
   "execution_count": 16,
   "metadata": {},
   "outputs": [
    {
     "name": "stdout",
     "output_type": "stream",
     "text": [
      "Dr. Smith graduated from the University of Washington. He later started an analytics firm called Lux, which catered to enterprise customers.\n"
     ]
    }
   ],
   "source": [
    "text = \"Dr. Smith graduated from the University of Washington. He later started an analytics firm called Lux, which catered to enterprise customers.\"\n",
    "print(text)"
   ]
  },
  {
   "cell_type": "code",
   "execution_count": 17,
   "metadata": {},
   "outputs": [
    {
     "name": "stdout",
     "output_type": "stream",
     "text": [
      "['Dr.', 'Smith', 'graduated', 'from', 'the', 'University', 'of', 'Washington', '.', 'He', 'later', 'started', 'an', 'analytics', 'firm', 'called', 'Lux', ',', 'which', 'catered', 'to', 'enterprise', 'customers', '.']\n"
     ]
    }
   ],
   "source": [
    "#: Split text into words using NLTK\n",
    "words = word_tokenize(text)\n",
    "print(words)"
   ]
  },
  {
   "cell_type": "code",
   "execution_count": 18,
   "metadata": {},
   "outputs": [
    {
     "name": "stdout",
     "output_type": "stream",
     "text": [
      "['Dr. Smith graduated from the University of Washington.', 'He later started an analytics firm called Lux, which catered to enterprise customers.']\n"
     ]
    }
   ],
   "source": [
    "#: Split text into sentences\n",
    "sentences = sent_tokenize(text)\n",
    "print(sentences)"
   ]
  },
  {
   "cell_type": "markdown",
   "metadata": {},
   "source": [
    "# Stop Words\n",
    "Combine the steps you learned so far to normalize, tokenize, and remove stop words from the text below."
   ]
  },
  {
   "cell_type": "code",
   "execution_count": 19,
   "metadata": {},
   "outputs": [],
   "source": [
    "# import statements\n",
    "import re\n",
    "from nltk.corpus import stopwords\n",
    "from nltk.tokenize import word_tokenize"
   ]
  },
  {
   "cell_type": "code",
   "execution_count": 20,
   "metadata": {},
   "outputs": [
    {
     "name": "stdout",
     "output_type": "stream",
     "text": [
      "The first time you see The Second Renaissance it may look boring. Look at it at least twice and definitely watch part 2. It will change your view of the matrix. Are the human people the ones who started the war ? Is AI a bad thing ?\n"
     ]
    }
   ],
   "source": [
    "text = \"The first time you see The Second Renaissance it may look boring. Look at it at least twice and definitely watch part 2. It will change your view of the matrix. Are the human people the ones who started the war ? Is AI a bad thing ?\"\n",
    "print(text)"
   ]
  },
  {
   "cell_type": "code",
   "execution_count": 21,
   "metadata": {},
   "outputs": [],
   "source": [
    "#: normalize text\n",
    "text = re.sub(r\"[^a-zA-Z0-9]\", \" \", text.lower())"
   ]
  },
  {
   "cell_type": "code",
   "execution_count": 22,
   "metadata": {},
   "outputs": [
    {
     "name": "stdout",
     "output_type": "stream",
     "text": [
      "['the', 'first', 'time', 'you', 'see', 'the', 'second', 'renaissance', 'it', 'may', 'look', 'boring', 'look', 'at', 'it', 'at', 'least', 'twice', 'and', 'definitely', 'watch', 'part', '2', 'it', 'will', 'change', 'your', 'view', 'of', 'the', 'matrix', 'are', 'the', 'human', 'people', 'the', 'ones', 'who', 'started', 'the', 'war', 'is', 'ai', 'a', 'bad', 'thing']\n"
     ]
    }
   ],
   "source": [
    "#: Tokenize the text\n",
    "words = word_tokenize(text)\n",
    "print(words)"
   ]
  },
  {
   "cell_type": "code",
   "execution_count": 23,
   "metadata": {},
   "outputs": [],
   "source": [
    "#: Remove stop words\n",
    "words = [w for w in words if w not in stopwords.words(\"english\")]"
   ]
  },
  {
   "cell_type": "code",
   "execution_count": 24,
   "metadata": {},
   "outputs": [
    {
     "name": "stdout",
     "output_type": "stream",
     "text": [
      "['i', 'me', 'my', 'myself', 'we', 'our', 'ours', 'ourselves', 'you', \"you're\", \"you've\", \"you'll\", \"you'd\", 'your', 'yours', 'yourself', 'yourselves', 'he', 'him', 'his', 'himself', 'she', \"she's\", 'her', 'hers', 'herself', 'it', \"it's\", 'its', 'itself', 'they', 'them', 'their', 'theirs', 'themselves', 'what', 'which', 'who', 'whom', 'this', 'that', \"that'll\", 'these', 'those', 'am', 'is', 'are', 'was', 'were', 'be', 'been', 'being', 'have', 'has', 'had', 'having', 'do', 'does', 'did', 'doing', 'a', 'an', 'the', 'and', 'but', 'if', 'or', 'because', 'as', 'until', 'while', 'of', 'at', 'by', 'for', 'with', 'about', 'against', 'between', 'into', 'through', 'during', 'before', 'after', 'above', 'below', 'to', 'from', 'up', 'down', 'in', 'out', 'on', 'off', 'over', 'under', 'again', 'further', 'then', 'once', 'here', 'there', 'when', 'where', 'why', 'how', 'all', 'any', 'both', 'each', 'few', 'more', 'most', 'other', 'some', 'such', 'no', 'nor', 'not', 'only', 'own', 'same', 'so', 'than', 'too', 'very', 's', 't', 'can', 'will', 'just', 'don', \"don't\", 'should', \"should've\", 'now', 'd', 'll', 'm', 'o', 're', 've', 'y', 'ain', 'aren', \"aren't\", 'couldn', \"couldn't\", 'didn', \"didn't\", 'doesn', \"doesn't\", 'hadn', \"hadn't\", 'hasn', \"hasn't\", 'haven', \"haven't\", 'isn', \"isn't\", 'ma', 'mightn', \"mightn't\", 'mustn', \"mustn't\", 'needn', \"needn't\", 'shan', \"shan't\", 'shouldn', \"shouldn't\", 'wasn', \"wasn't\", 'weren', \"weren't\", 'won', \"won't\", 'wouldn', \"wouldn't\"]\n"
     ]
    }
   ],
   "source": [
    "#: print the stop words included in NLTK's corpus\n",
    "print(stopwords.words('english'))"
   ]
  },
  {
   "cell_type": "markdown",
   "metadata": {},
   "source": [
    "## Parts of Speech (POS) Tagging"
   ]
  },
  {
   "cell_type": "code",
   "execution_count": 25,
   "metadata": {},
   "outputs": [],
   "source": [
    "from nltk import pos_tag, ne_chunk\n",
    "from nltk.tokenize import word_tokenize"
   ]
  },
  {
   "cell_type": "code",
   "execution_count": 26,
   "metadata": {},
   "outputs": [],
   "source": [
    "text = \"I always lie down to tell a lie.\""
   ]
  },
  {
   "cell_type": "code",
   "execution_count": 27,
   "metadata": {},
   "outputs": [
    {
     "name": "stdout",
     "output_type": "stream",
     "text": [
      "['I', 'always', 'lie', 'down', 'to', 'tell', 'a', 'lie', '.']\n"
     ]
    }
   ],
   "source": [
    "#: tokenize text\n",
    "sentence = word_tokenize(text)\n",
    "print(sentence)"
   ]
  },
  {
   "cell_type": "code",
   "execution_count": 28,
   "metadata": {},
   "outputs": [
    {
     "data": {
      "text/plain": [
       "[('I', 'PRP'),\n",
       " ('always', 'RB'),\n",
       " ('lie', 'VBP'),\n",
       " ('down', 'RP'),\n",
       " ('to', 'TO'),\n",
       " ('tell', 'VB'),\n",
       " ('a', 'DT'),\n",
       " ('lie', 'NN'),\n",
       " ('.', '.')]"
      ]
     },
     "execution_count": 28,
     "metadata": {},
     "output_type": "execute_result"
    }
   ],
   "source": [
    "#: tag each word iwth part of speech (POS)\n",
    "pos_tag(sentence)"
   ]
  },
  {
   "cell_type": "markdown",
   "metadata": {},
   "source": [
    "## Named Entity Recognition (NER)"
   ]
  },
  {
   "cell_type": "code",
   "execution_count": 29,
   "metadata": {},
   "outputs": [],
   "source": [
    "text = \"Antonio joined Udacity Inc. in California.\""
   ]
  },
  {
   "cell_type": "code",
   "execution_count": 30,
   "metadata": {},
   "outputs": [
    {
     "name": "stdout",
     "output_type": "stream",
     "text": [
      "(S\n",
      "  (PERSON Antonio/NNP)\n",
      "  joined/VBD\n",
      "  (ORGANIZATION Udacity/NNP Inc./NNP)\n",
      "  in/IN\n",
      "  (GPE California/NNP)\n",
      "  ./.)\n"
     ]
    }
   ],
   "source": [
    "#: tokenize, pos tag, then recognize named entities in text\n",
    "tree = ne_chunk(pos_tag(word_tokenize(text)))\n",
    "print(tree)"
   ]
  },
  {
   "cell_type": "markdown",
   "metadata": {},
   "source": [
    "### Sentence Parsing"
   ]
  },
  {
   "cell_type": "code",
   "execution_count": 31,
   "metadata": {},
   "outputs": [],
   "source": [
    "# Define a custom grammar\n",
    "my_grammar = nltk.CFG.fromstring(\"\"\"\n",
    "S -> NP VP\n",
    "PP -> P NP\n",
    "NP -> Det N | Det N PP | 'I'\n",
    "VP -> V NP | VP PP\n",
    "Det -> 'an' | 'my'\n",
    "N -> 'elephant' | 'pajamas'\n",
    "V -> 'shot'\n",
    "P -> 'in'\n",
    "\"\"\")\n",
    "parser = nltk.ChartParser(my_grammar)"
   ]
  },
  {
   "cell_type": "code",
   "execution_count": 32,
   "metadata": {},
   "outputs": [
    {
     "name": "stdout",
     "output_type": "stream",
     "text": [
      "(S\n",
      "  (NP I)\n",
      "  (VP\n",
      "    (VP (V shot) (NP (Det an) (N elephant)))\n",
      "    (PP (P in) (NP (Det my) (N pajamas)))))\n",
      "(S\n",
      "  (NP I)\n",
      "  (VP\n",
      "    (V shot)\n",
      "    (NP (Det an) (N elephant) (PP (P in) (NP (Det my) (N pajamas))))))\n"
     ]
    }
   ],
   "source": [
    "# Parse a sentence\n",
    "sentence = word_tokenize(\"I shot an elephant in my pajamas\")\n",
    "for tree in parser.parse(sentence):\n",
    "    print(tree)"
   ]
  },
  {
   "cell_type": "markdown",
   "metadata": {},
   "source": [
    "# Stemming and Lemmatizing\n",
    "Let's return to this example from the stop words removal quiz."
   ]
  },
  {
   "cell_type": "code",
   "execution_count": 33,
   "metadata": {},
   "outputs": [],
   "source": [
    "from nltk.corpus import stopwords"
   ]
  },
  {
   "cell_type": "code",
   "execution_count": 34,
   "metadata": {},
   "outputs": [
    {
     "name": "stdout",
     "output_type": "stream",
     "text": [
      "['the', 'first', 'time', 'you', 'see', 'the', 'second', 'renaissance', 'it', 'may', 'look', 'boring', 'look', 'at', 'it', 'at', 'least', 'twice', 'and', 'definitely', 'watch', 'part', '2', 'it', 'will', 'change', 'your', 'view', 'of', 'the', 'matrix', 'are', 'the', 'human', 'people', 'the', 'ones', 'who', 'started', 'the', 'war', 'is', 'ai', 'a', 'bad', 'thing']\n"
     ]
    }
   ],
   "source": [
    "text = \"The first time you see The Second Renaissance it may look boring. Look at it at least twice and definitely watch part 2. It will change your view of the matrix. Are the human people the ones who started the war ? Is AI a bad thing ?\"\n",
    "\n",
    "# Normalize text\n",
    "text = re.sub(r\"[^a-zA-Z0-9]\", \" \", text.lower())\n",
    "\n",
    "# Tokenize text\n",
    "words = text.split()\n",
    "print(words)"
   ]
  },
  {
   "cell_type": "code",
   "execution_count": 35,
   "metadata": {},
   "outputs": [
    {
     "name": "stdout",
     "output_type": "stream",
     "text": [
      "['first', 'time', 'see', 'second', 'renaissance', 'may', 'look', 'boring', 'look', 'least', 'twice', 'definitely', 'watch', 'part', '2', 'change', 'view', 'matrix', 'human', 'people', 'ones', 'started', 'war', 'ai', 'bad', 'thing']\n"
     ]
    }
   ],
   "source": [
    "#: remove stop words\n",
    "words = [w for w in words if w not in stopwords.words('english')]\n",
    "print(words)"
   ]
  },
  {
   "cell_type": "markdown",
   "metadata": {},
   "source": [
    "### Stemming"
   ]
  },
  {
   "cell_type": "code",
   "execution_count": 36,
   "metadata": {},
   "outputs": [
    {
     "name": "stdout",
     "output_type": "stream",
     "text": [
      "['first', 'time', 'see', 'second', 'renaiss', 'may', 'look', 'bore', 'look', 'least', 'twice', 'definit', 'watch', 'part', '2', 'chang', 'view', 'matrix', 'human', 'peopl', 'one', 'start', 'war', 'ai', 'bad', 'thing']\n"
     ]
    }
   ],
   "source": [
    "from nltk.stem.porter import PorterStemmer\n",
    "\n",
    "#: reduce words to their stems\n",
    "stemmed = [PorterStemmer().stem(w) for w in words]\n",
    "print(stemmed)"
   ]
  },
  {
   "cell_type": "markdown",
   "metadata": {},
   "source": [
    "### Lemmatization"
   ]
  },
  {
   "cell_type": "code",
   "execution_count": 37,
   "metadata": {},
   "outputs": [
    {
     "name": "stdout",
     "output_type": "stream",
     "text": [
      "['first', 'time', 'see', 'second', 'renaissance', 'may', 'look', 'boring', 'look', 'least', 'twice', 'definitely', 'watch', 'part', '2', 'change', 'view', 'matrix', 'human', 'people', 'one', 'started', 'war', 'ai', 'bad', 'thing']\n"
     ]
    }
   ],
   "source": [
    "from nltk.stem.wordnet import WordNetLemmatizer\n",
    "\n",
    "#: reduce words to their root form\n",
    "lemmed = [WordNetLemmatizer().lemmatize(w) for w in words]\n",
    "print(lemmed)"
   ]
  },
  {
   "cell_type": "code",
   "execution_count": 38,
   "metadata": {},
   "outputs": [
    {
     "name": "stdout",
     "output_type": "stream",
     "text": [
      "['first', 'time', 'see', 'second', 'renaissance', 'may', 'look', 'bore', 'look', 'least', 'twice', 'definitely', 'watch', 'part', '2', 'change', 'view', 'matrix', 'human', 'people', 'ones', 'start', 'war', 'ai', 'bad', 'thing']\n"
     ]
    }
   ],
   "source": [
    "#: Lemmatize verbs by specifying pos\n",
    "lemmed = [WordNetLemmatizer().lemmatize(w, pos='v') for w in words]\n",
    "print(lemmed)"
   ]
  },
  {
   "cell_type": "markdown",
   "metadata": {},
   "source": [
    "# Bag of Words and TF-IDF\n",
    "Below, we'll look at three useful methods of vectorizing text.\n",
    "- `CountVectorizer` - Bag of Words\n",
    "- `TfidfTransformer` - TF-IDF values\n",
    "- `TfidfVectorizer` - Bag of Words AND TF-IDF values\n",
    "\n"
   ]
  },
  {
   "cell_type": "code",
   "execution_count": 85,
   "metadata": {},
   "outputs": [],
   "source": [
    "import re\n",
    "import nltk\n",
    "from nltk.corpus import stopwords\n",
    "from nltk.stem.wordnet import WordNetLemmatizer\n",
    "from nltk.tokenize import word_tokenize\n"
   ]
  },
  {
   "cell_type": "code",
   "execution_count": 86,
   "metadata": {},
   "outputs": [],
   "source": [
    "corpus = [\"The first time you see The Second Renaissance it may look boring.\",\n",
    "        \"Look at it at least twice and definitely watch part 2.\",\n",
    "        \"It will change your view of the matrix.\",\n",
    "        \"Are the human people the ones who started the war?\",\n",
    "        \"Is AI a bad thing ?\"]"
   ]
  },
  {
   "cell_type": "code",
   "execution_count": 87,
   "metadata": {},
   "outputs": [],
   "source": [
    "stop_words = stopwords.words(\"english\")\n",
    "lemmatizer = WordNetLemmatizer()"
   ]
  },
  {
   "cell_type": "markdown",
   "metadata": {},
   "source": [
    "Use the skills you learned so far to create a function `tokenize` that takes in a string of text and applies the following:\n",
    "- case normalization (convert to all lowercase)\n",
    "- punctuation removal\n",
    "- tokenization, lemmatization, and stop word removal using `nltk`\n",
    "\n",
    "Feel free to refer back to previous sections to complete these steps!"
   ]
  },
  {
   "cell_type": "code",
   "execution_count": 88,
   "metadata": {},
   "outputs": [],
   "source": [
    "def tokenize(text):\n",
    "    # normalize case and remove punctuation\n",
    "    text = re.sub(r\"[^a-zA-Z0-9]\", \" \", text.lower())\n",
    "    \n",
    "    # tokenize text\n",
    "    tokens = word_tokenize(text)\n",
    "    \n",
    "    # lemmatize andremove stop words\n",
    "    tokens = [lemmatizer.lemmatize(word) for word in tokens if word not in stop_words]\n",
    "\n",
    "    return tokens"
   ]
  },
  {
   "cell_type": "markdown",
   "metadata": {},
   "source": [
    "# `CountVectorizer` (Bag of Words)"
   ]
  },
  {
   "cell_type": "code",
   "execution_count": 126,
   "metadata": {},
   "outputs": [],
   "source": [
    "from sklearn.feature_extraction.text import CountVectorizer\n",
    "\n",
    "# initialize count vectorizer object\n",
    "vect = CountVectorizer(tokenizer=tokenize)"
   ]
  },
  {
   "cell_type": "code",
   "execution_count": 127,
   "metadata": {},
   "outputs": [],
   "source": [
    "# get counts of each token (word) in text data\n",
    "X = vect.fit_transform(corpus)"
   ]
  },
  {
   "cell_type": "code",
   "execution_count": 128,
   "metadata": {},
   "outputs": [
    {
     "data": {
      "text/plain": [
       "array([[0, 0, 0, 1, 0, 0, 1, 0, 0, 1, 0, 1, 0, 0, 0, 1, 1, 1, 0, 0, 1, 0,\n",
       "        0, 0, 0],\n",
       "       [1, 0, 0, 0, 0, 1, 0, 0, 1, 1, 0, 0, 0, 1, 0, 0, 0, 0, 0, 0, 0, 1,\n",
       "        0, 0, 1],\n",
       "       [0, 0, 0, 0, 1, 0, 0, 0, 0, 0, 1, 0, 0, 0, 0, 0, 0, 0, 0, 0, 0, 0,\n",
       "        1, 0, 0],\n",
       "       [0, 0, 0, 0, 0, 0, 0, 1, 0, 0, 0, 0, 1, 0, 1, 0, 0, 0, 1, 0, 0, 0,\n",
       "        0, 1, 0],\n",
       "       [0, 1, 1, 0, 0, 0, 0, 0, 0, 0, 0, 0, 0, 0, 0, 0, 0, 0, 0, 1, 0, 0,\n",
       "        0, 0, 0]])"
      ]
     },
     "execution_count": 128,
     "metadata": {},
     "output_type": "execute_result"
    }
   ],
   "source": [
    "# convert sparse matrix to numpy array to view\n",
    "X.toarray()"
   ]
  },
  {
   "cell_type": "code",
   "execution_count": 129,
   "metadata": {},
   "outputs": [
    {
     "data": {
      "text/plain": [
       "(5, 25)"
      ]
     },
     "execution_count": 129,
     "metadata": {},
     "output_type": "execute_result"
    }
   ],
   "source": [
    "# shape of sklearn vectorizer output after applying transform method.\n",
    "\n",
    "X.shape"
   ]
  },
  {
   "cell_type": "code",
   "execution_count": 130,
   "metadata": {},
   "outputs": [
    {
     "data": {
      "text/plain": [
       "{'first': 6,\n",
       " 'time': 20,\n",
       " 'see': 17,\n",
       " 'second': 16,\n",
       " 'renaissance': 15,\n",
       " 'may': 11,\n",
       " 'look': 9,\n",
       " 'boring': 3,\n",
       " 'least': 8,\n",
       " 'twice': 21,\n",
       " 'definitely': 5,\n",
       " 'watch': 24,\n",
       " 'part': 13,\n",
       " '2': 0,\n",
       " 'change': 4,\n",
       " 'view': 22,\n",
       " 'matrix': 10,\n",
       " 'human': 7,\n",
       " 'people': 14,\n",
       " 'one': 12,\n",
       " 'started': 18,\n",
       " 'war': 23,\n",
       " 'ai': 1,\n",
       " 'bad': 2,\n",
       " 'thing': 19}"
      ]
     },
     "execution_count": 130,
     "metadata": {},
     "output_type": "execute_result"
    }
   ],
   "source": [
    "# view token vocabulary and counts\n",
    "vect.vocabulary_"
   ]
  },
  {
   "cell_type": "markdown",
   "metadata": {},
   "source": [
    "# `TfidfTransformer`"
   ]
  },
  {
   "cell_type": "code",
   "execution_count": 131,
   "metadata": {},
   "outputs": [],
   "source": [
    "from sklearn.feature_extraction.text import TfidfTransformer\n",
    "\n",
    "# initialize tf-idf transformer object\n",
    "transformer = TfidfTransformer(smooth_idf=False)"
   ]
  },
  {
   "cell_type": "code",
   "execution_count": 132,
   "metadata": {},
   "outputs": [
    {
     "data": {
      "text/plain": [
       "(5, 25)"
      ]
     },
     "execution_count": 132,
     "metadata": {},
     "output_type": "execute_result"
    }
   ],
   "source": [
    "X.shape"
   ]
  },
  {
   "cell_type": "code",
   "execution_count": 133,
   "metadata": {},
   "outputs": [],
   "source": [
    "# use counts from count vectorizer results to compute tf-idf values\n",
    "tfidf = transformer.fit_transform(X)"
   ]
  },
  {
   "cell_type": "code",
   "execution_count": 134,
   "metadata": {},
   "outputs": [
    {
     "data": {
      "text/plain": [
       "array([[0.        , 0.        , 0.        , 0.36419547, 0.        ,\n",
       "        0.        , 0.36419547, 0.        , 0.        , 0.26745392,\n",
       "        0.        , 0.36419547, 0.        , 0.        , 0.        ,\n",
       "        0.36419547, 0.36419547, 0.36419547, 0.        , 0.        ,\n",
       "        0.36419547, 0.        , 0.        , 0.        , 0.        ],\n",
       "       [0.39105193, 0.        , 0.        , 0.        , 0.        ,\n",
       "        0.39105193, 0.        , 0.        , 0.39105193, 0.28717648,\n",
       "        0.        , 0.        , 0.        , 0.39105193, 0.        ,\n",
       "        0.        , 0.        , 0.        , 0.        , 0.        ,\n",
       "        0.        , 0.39105193, 0.        , 0.        , 0.39105193],\n",
       "       [0.        , 0.        , 0.        , 0.        , 0.57735027,\n",
       "        0.        , 0.        , 0.        , 0.        , 0.        ,\n",
       "        0.57735027, 0.        , 0.        , 0.        , 0.        ,\n",
       "        0.        , 0.        , 0.        , 0.        , 0.        ,\n",
       "        0.        , 0.        , 0.57735027, 0.        , 0.        ],\n",
       "       [0.        , 0.        , 0.        , 0.        , 0.        ,\n",
       "        0.        , 0.        , 0.4472136 , 0.        , 0.        ,\n",
       "        0.        , 0.        , 0.4472136 , 0.        , 0.4472136 ,\n",
       "        0.        , 0.        , 0.        , 0.4472136 , 0.        ,\n",
       "        0.        , 0.        , 0.        , 0.4472136 , 0.        ],\n",
       "       [0.        , 0.57735027, 0.57735027, 0.        , 0.        ,\n",
       "        0.        , 0.        , 0.        , 0.        , 0.        ,\n",
       "        0.        , 0.        , 0.        , 0.        , 0.        ,\n",
       "        0.        , 0.        , 0.        , 0.        , 0.57735027,\n",
       "        0.        , 0.        , 0.        , 0.        , 0.        ]])"
      ]
     },
     "execution_count": 134,
     "metadata": {},
     "output_type": "execute_result"
    }
   ],
   "source": [
    "# convert sparse matrix to numpy array to view\n",
    "tfidf.toarray()"
   ]
  },
  {
   "cell_type": "code",
   "execution_count": 135,
   "metadata": {},
   "outputs": [
    {
     "data": {
      "text/plain": [
       "(5, 25)"
      ]
     },
     "execution_count": 135,
     "metadata": {},
     "output_type": "execute_result"
    }
   ],
   "source": [
    "tfidf.shape"
   ]
  },
  {
   "cell_type": "markdown",
   "metadata": {},
   "source": [
    "# `TfidfVectorizer`\n",
    "`TfidfVectorizer` = `CountVectorizer` + `TfidfTransformer`"
   ]
  },
  {
   "cell_type": "code",
   "execution_count": 136,
   "metadata": {},
   "outputs": [],
   "source": [
    "from sklearn.feature_extraction.text import TfidfVectorizer\n",
    "\n",
    "# initialize tf-idf vectorizer object\n",
    "vectorizer = TfidfVectorizer(tokenizer=tokenize)"
   ]
  },
  {
   "cell_type": "code",
   "execution_count": 137,
   "metadata": {},
   "outputs": [],
   "source": [
    "# compute bag of word counts and tf-idf values\n",
    "X = vectorizer.fit_transform(corpus)"
   ]
  },
  {
   "cell_type": "code",
   "execution_count": 138,
   "metadata": {},
   "outputs": [
    {
     "data": {
      "text/plain": [
       "array([[0.        , 0.        , 0.        , 0.36152912, 0.        ,\n",
       "        0.        , 0.36152912, 0.        , 0.        , 0.29167942,\n",
       "        0.        , 0.36152912, 0.        , 0.        , 0.        ,\n",
       "        0.36152912, 0.36152912, 0.36152912, 0.        , 0.        ,\n",
       "        0.36152912, 0.        , 0.        , 0.        , 0.        ],\n",
       "       [0.38775666, 0.        , 0.        , 0.        , 0.        ,\n",
       "        0.38775666, 0.        , 0.        , 0.38775666, 0.31283963,\n",
       "        0.        , 0.        , 0.        , 0.38775666, 0.        ,\n",
       "        0.        , 0.        , 0.        , 0.        , 0.        ,\n",
       "        0.        , 0.38775666, 0.        , 0.        , 0.38775666],\n",
       "       [0.        , 0.        , 0.        , 0.        , 0.57735027,\n",
       "        0.        , 0.        , 0.        , 0.        , 0.        ,\n",
       "        0.57735027, 0.        , 0.        , 0.        , 0.        ,\n",
       "        0.        , 0.        , 0.        , 0.        , 0.        ,\n",
       "        0.        , 0.        , 0.57735027, 0.        , 0.        ],\n",
       "       [0.        , 0.        , 0.        , 0.        , 0.        ,\n",
       "        0.        , 0.        , 0.4472136 , 0.        , 0.        ,\n",
       "        0.        , 0.        , 0.4472136 , 0.        , 0.4472136 ,\n",
       "        0.        , 0.        , 0.        , 0.4472136 , 0.        ,\n",
       "        0.        , 0.        , 0.        , 0.4472136 , 0.        ],\n",
       "       [0.        , 0.57735027, 0.57735027, 0.        , 0.        ,\n",
       "        0.        , 0.        , 0.        , 0.        , 0.        ,\n",
       "        0.        , 0.        , 0.        , 0.        , 0.        ,\n",
       "        0.        , 0.        , 0.        , 0.        , 0.57735027,\n",
       "        0.        , 0.        , 0.        , 0.        , 0.        ]])"
      ]
     },
     "execution_count": 138,
     "metadata": {},
     "output_type": "execute_result"
    }
   ],
   "source": [
    "# convert sparse matrix to numpy array to view\n",
    "X.toarray()"
   ]
  },
  {
   "cell_type": "code",
   "execution_count": 139,
   "metadata": {},
   "outputs": [
    {
     "name": "stdout",
     "output_type": "stream",
     "text": [
      "['2', 'ai', 'bad', 'boring', 'change', 'definitely', 'first', 'human', 'least', 'look', 'matrix', 'may', 'one', 'part', 'people', 'renaissance', 'second', 'see', 'started', 'thing', 'time', 'twice', 'view', 'war', 'watch']\n"
     ]
    }
   ],
   "source": [
    "# sklearn feature names, they are sorted in alphabetic order by default.\n",
    "print(vectorizer.get_feature_names())"
   ]
  },
  {
   "cell_type": "code",
   "execution_count": 140,
   "metadata": {},
   "outputs": [
    {
     "name": "stdout",
     "output_type": "stream",
     "text": [
      "[2.09861229 2.09861229 2.09861229 2.09861229 2.09861229 2.09861229\n",
      " 2.09861229 2.09861229 2.09861229 1.69314718 2.09861229 2.09861229\n",
      " 2.09861229 2.09861229 2.09861229 2.09861229 2.09861229 2.09861229\n",
      " 2.09861229 2.09861229 2.09861229 2.09861229 2.09861229 2.09861229\n",
      " 2.09861229]\n"
     ]
    }
   ],
   "source": [
    "# Here we will print the sklearn tfidf vectorizer idf values after applying the fit method\n",
    "# After using the fit function on the corpus the vocab has 9 words in it, and each has its idf value.\n",
    "\n",
    "print(vectorizer.idf_)"
   ]
  },
  {
   "cell_type": "code",
   "execution_count": 141,
   "metadata": {},
   "outputs": [
    {
     "data": {
      "text/plain": [
       "(5, 25)"
      ]
     },
     "execution_count": 141,
     "metadata": {},
     "output_type": "execute_result"
    }
   ],
   "source": [
    "# shape of sklearn tfidf vectorizer output after applying transform method.\n",
    "#: five sentences so should be 5 and 35 words\n",
    "X.shape"
   ]
  },
  {
   "cell_type": "code",
   "execution_count": 142,
   "metadata": {},
   "outputs": [
    {
     "name": "stdout",
     "output_type": "stream",
     "text": [
      "  (0, 3)\t0.36152911730069653\n",
      "  (0, 9)\t0.2916794154657719\n",
      "  (0, 11)\t0.36152911730069653\n",
      "  (0, 15)\t0.36152911730069653\n",
      "  (0, 16)\t0.36152911730069653\n",
      "  (0, 17)\t0.36152911730069653\n",
      "  (0, 20)\t0.36152911730069653\n",
      "  (0, 6)\t0.36152911730069653\n",
      "(1, 25)\n"
     ]
    }
   ],
   "source": [
    "# sklearn tfidf values for first line of the above corpus.\n",
    "# Here the output is a sparse matrix\n",
    "\n",
    "print(X[0])\n",
    "print(X[0].shape)"
   ]
  },
  {
   "cell_type": "code",
   "execution_count": 143,
   "metadata": {},
   "outputs": [
    {
     "name": "stdout",
     "output_type": "stream",
     "text": [
      "[[0.         0.         0.         0.36152912 0.         0.\n",
      "  0.36152912 0.         0.         0.29167942 0.         0.36152912\n",
      "  0.         0.         0.         0.36152912 0.36152912 0.36152912\n",
      "  0.         0.         0.36152912 0.         0.         0.\n",
      "  0.        ]]\n"
     ]
    }
   ],
   "source": [
    "# sklearn tfidf values for first line of the above corpus.\n",
    "# To understand the output better, here we are converting the sparse output matrix to dense matrix and printing it.\n",
    "# Notice that this output is normalized using L2 normalization. sklearn does this by default.\n",
    "\n",
    "print(X[0].toarray())"
   ]
  },
  {
   "cell_type": "markdown",
   "metadata": {},
   "source": [
    "# Compute TFIDF custom implementation"
   ]
  },
  {
   "cell_type": "code",
   "execution_count": 144,
   "metadata": {},
   "outputs": [],
   "source": [
    "stop_words = stopwords.words(\"english\")\n",
    "lemmatizer = WordNetLemmatizer()"
   ]
  },
  {
   "cell_type": "code",
   "execution_count": 146,
   "metadata": {},
   "outputs": [
    {
     "name": "stdout",
     "output_type": "stream",
     "text": [
      "['2', 'ai', 'bad', 'boring', 'change', 'definitely', 'first', 'human', 'least', 'look', 'matrix', 'may', 'one', 'part', 'people', 'renaissance', 'second', 'see', 'started', 'thing', 'time', 'twice', 'view', 'war', 'watch']\n",
      "25\n"
     ]
    }
   ],
   "source": [
    "#: Create a list of unique words from the corpus\n",
    "\n",
    "\n",
    "features = []\n",
    "for doc in corpus:\n",
    "    doc = re.sub(r\"[^a-zA-Z0-9]\", \" \", doc.lower())\n",
    "    for word in doc.split():\n",
    "        if word not in features and word not in stop_words:\n",
    "            # lemmatize andremove stop words\n",
    "            features.append(lemmatizer.lemmatize(word)) \n",
    "features.sort()\n",
    "\n",
    "    \n",
    "\n",
    "print(features)\n",
    "print(len(features))"
   ]
  },
  {
   "cell_type": "code",
   "execution_count": 169,
   "metadata": {},
   "outputs": [
    {
     "data": {
      "text/plain": [
       "{'2': 1,\n",
       " 'ai': 1,\n",
       " 'bad': 1,\n",
       " 'boring': 1,\n",
       " 'change': 1,\n",
       " 'definitely': 1,\n",
       " 'first': 1,\n",
       " 'human': 1,\n",
       " 'least': 1,\n",
       " 'look': 2,\n",
       " 'matrix': 1,\n",
       " 'may': 1,\n",
       " 'one': 1,\n",
       " 'part': 1,\n",
       " 'people': 1,\n",
       " 'renaissance': 1,\n",
       " 'second': 1,\n",
       " 'see': 1,\n",
       " 'started': 1,\n",
       " 'thing': 1,\n",
       " 'time': 1,\n",
       " 'twice': 1,\n",
       " 'view': 1,\n",
       " 'war': 1,\n",
       " 'watch': 1}"
      ]
     },
     "execution_count": 169,
     "metadata": {},
     "output_type": "execute_result"
    }
   ],
   "source": [
    "#: Count number of documents for each feature\n",
    "counters = {}\n",
    "\n",
    "for word in features:\n",
    "    for doc in corpus:\n",
    "        doc = re.sub(r\"[^a-zA-Z0-9]\", \" \", doc.lower())\n",
    "        tokens = word_tokenize(doc)\n",
    "        # lemmatize andremove stop words\n",
    "        tokens = [lemmatizer.lemmatize(word) for word in tokens if word not in stop_words]\n",
    "\n",
    "        if word in tokens:\n",
    "            counters[word] = counters.get(word, 0) +1\n",
    "            \n",
    "counters"
   ]
  },
  {
   "cell_type": "code",
   "execution_count": 170,
   "metadata": {},
   "outputs": [
    {
     "name": "stdout",
     "output_type": "stream",
     "text": [
      "['2', 'ai', 'bad', 'boring', 'change', 'definitely', 'first', 'human', 'least', 'look', 'matrix', 'may', 'one', 'part', 'people', 'renaissance', 'second', 'see', 'started', 'thing', 'time', 'twice', 'view', 'war', 'watch']\n"
     ]
    }
   ],
   "source": [
    "#: features : sort by the key\n",
    "print(sorted(counters.keys()))\n"
   ]
  },
  {
   "cell_type": "code",
   "execution_count": 171,
   "metadata": {},
   "outputs": [],
   "source": [
    "from collections import Counter\n",
    "from tqdm import tqdm\n",
    "from scipy.sparse import csr_matrix\n",
    "import math\n",
    "import operator\n",
    "from sklearn.preprocessing import normalize\n",
    "import numpy\n"
   ]
  },
  {
   "cell_type": "code",
   "execution_count": 172,
   "metadata": {},
   "outputs": [
    {
     "name": "stdout",
     "output_type": "stream",
     "text": [
      "5\n",
      "['2', 'ai', 'bad', 'boring', 'change', 'definitely', 'first', 'human', 'least', 'look', 'matrix', 'may', 'one', 'part', 'people', 'renaissance', 'second', 'see', 'started', 'thing', 'time', 'twice', 'view', 'war', 'watch']\n"
     ]
    }
   ],
   "source": [
    "IDF= {}\n",
    "totalNumDoc = len(corpus)\n",
    "print(totalNumDoc)\n",
    "print(features)"
   ]
  },
  {
   "cell_type": "code",
   "execution_count": 173,
   "metadata": {},
   "outputs": [
    {
     "name": "stdout",
     "output_type": "stream",
     "text": [
      "[2.09861229, 2.09861229, 2.09861229, 2.09861229, 2.09861229, 2.09861229, 2.09861229, 2.09861229, 2.09861229, 1.69314718, 2.09861229, 2.09861229, 2.09861229, 2.09861229, 2.09861229, 2.09861229, 2.09861229, 2.09861229, 2.09861229, 2.09861229, 2.09861229, 2.09861229, 2.09861229, 2.09861229, 2.09861229]\n",
      "25\n"
     ]
    }
   ],
   "source": [
    "\n",
    "#: compute IDF\n",
    "IDF= {}\n",
    "totalNumDoc = len(corpus)\n",
    "for feature in features:\n",
    "    val = 1 + math.log( (1+totalNumDoc) / (1+counters[feature]) )\n",
    "    IDF[feature] = float(format(val, '.8f'))\n",
    "\n",
    "sorted(IDF.items(), key=lambda x: x[0])\n",
    "result = [IDF[key] for key in sorted(IDF.keys())]\n",
    "print(result)\n",
    "print(len(result))"
   ]
  },
  {
   "cell_type": "code",
   "execution_count": 174,
   "metadata": {},
   "outputs": [
    {
     "name": "stdout",
     "output_type": "stream",
     "text": [
      "[2.09861229 2.09861229 2.09861229 2.09861229 2.09861229 2.09861229\n",
      " 2.09861229 2.09861229 2.09861229 1.69314718 2.09861229 2.09861229\n",
      " 2.09861229 2.09861229 2.09861229 2.09861229 2.09861229 2.09861229\n",
      " 2.09861229 2.09861229 2.09861229 2.09861229 2.09861229 2.09861229\n",
      " 2.09861229]\n",
      "25\n"
     ]
    }
   ],
   "source": [
    "print(vectorizer.idf_)\n",
    "print(len(vectorizer.idf_))"
   ]
  },
  {
   "cell_type": "code",
   "execution_count": 178,
   "metadata": {},
   "outputs": [
    {
     "name": "stdout",
     "output_type": "stream",
     "text": [
      "  (0, 3)\t0.36152911733038906\n",
      "  (0, 6)\t0.36152911733038906\n",
      "  (0, 9)\t0.2916794152081504\n",
      "  (0, 11)\t0.36152911733038906\n",
      "  (0, 15)\t0.36152911733038906\n",
      "  (0, 16)\t0.36152911733038906\n",
      "  (0, 17)\t0.36152911733038906\n",
      "  (0, 20)\t0.36152911733038906\n",
      "  (1, 0)\t0.3877566601424279\n",
      "  (1, 5)\t0.3877566601424279\n",
      "  (1, 8)\t0.3877566601424279\n",
      "  (1, 9)\t0.31283963158643757\n",
      "  (1, 13)\t0.3877566601424279\n",
      "  (1, 21)\t0.3877566601424279\n",
      "  (1, 24)\t0.3877566601424279\n",
      "  (2, 4)\t0.5773502691896258\n",
      "  (2, 10)\t0.5773502691896258\n",
      "  (2, 22)\t0.5773502691896258\n",
      "  (3, 7)\t0.4472135954999579\n",
      "  (3, 12)\t0.4472135954999579\n",
      "  (3, 14)\t0.4472135954999579\n",
      "  (3, 18)\t0.4472135954999579\n",
      "  (3, 23)\t0.4472135954999579\n",
      "  (4, 1)\t0.5773502691896258\n",
      "  (4, 2)\t0.5773502691896258\n",
      "  (4, 19)\t0.5773502691896258\n",
      "  (0, 3)\t0.36152911730069653\n",
      "  (0, 9)\t0.2916794154657719\n",
      "  (0, 11)\t0.36152911730069653\n",
      "  (0, 15)\t0.36152911730069653\n",
      "  (0, 16)\t0.36152911730069653\n",
      "  (0, 17)\t0.36152911730069653\n",
      "  (0, 20)\t0.36152911730069653\n",
      "  (0, 6)\t0.36152911730069653\n",
      "  (1, 0)\t0.38775666010579296\n",
      "  (1, 13)\t0.38775666010579296\n",
      "  (1, 24)\t0.38775666010579296\n",
      "  (1, 5)\t0.38775666010579296\n",
      "  (1, 21)\t0.38775666010579296\n",
      "  (1, 8)\t0.38775666010579296\n",
      "  (1, 9)\t0.3128396318588854\n",
      "  (2, 10)\t0.5773502691896258\n",
      "  (2, 22)\t0.5773502691896258\n",
      "  (2, 4)\t0.5773502691896258\n",
      "  (3, 23)\t0.4472135954999579\n",
      "  (3, 18)\t0.4472135954999579\n",
      "  (3, 12)\t0.4472135954999579\n",
      "  (3, 14)\t0.4472135954999579\n",
      "  (3, 7)\t0.4472135954999579\n",
      "  (4, 19)\t0.5773502691896258\n",
      "  (4, 2)\t0.5773502691896258\n",
      "  (4, 1)\t0.5773502691896258\n"
     ]
    }
   ],
   "source": [
    "#: compute TF for each document\n",
    "from scipy import sparse\n",
    "from sklearn import preprocessing\n",
    "import numpy as np\n",
    "\n",
    "tfidf = []\n",
    "for doc in corpus:\n",
    "    tfidfDoc = []\n",
    "    for feature in features:\n",
    "        #: loop thru each document\n",
    "        #: count how many times the feature in the document\n",
    "        doc = re.sub(r\"[^a-zA-Z0-9]\", \" \", doc.lower())\n",
    "        tokens = word_tokenize(doc)\n",
    "        # lemmatize andremove stop words\n",
    "        tokens = [lemmatizer.lemmatize(word) for word in tokens if word not in stop_words]\n",
    "        wordlist = tokens #doc.split()\n",
    "        count = wordlist.count(feature)\n",
    "        #: compute TF for the document\n",
    "        TF = count/len(doc)\n",
    "        #: compute TFIDF for the document\n",
    "        TFIDF = TF * IDF[feature]\n",
    "        tfidfDoc.append(TFIDF)\n",
    "    tfidf.append(tfidfDoc)\n",
    "\n",
    "tfidf_csr = sparse.csr_matrix(tfidf)\n",
    "tfidf_normalized = preprocessing.normalize(tfidf_csr, norm='l2')\n",
    "print(tfidf_normalized)\n"
   ]
  },
  {
   "cell_type": "code",
   "execution_count": 179,
   "metadata": {},
   "outputs": [
    {
     "name": "stdout",
     "output_type": "stream",
     "text": [
      "  (0, 3)\t0.36152911730069653\n",
      "  (0, 9)\t0.2916794154657719\n",
      "  (0, 11)\t0.36152911730069653\n",
      "  (0, 15)\t0.36152911730069653\n",
      "  (0, 16)\t0.36152911730069653\n",
      "  (0, 17)\t0.36152911730069653\n",
      "  (0, 20)\t0.36152911730069653\n",
      "  (0, 6)\t0.36152911730069653\n",
      "  (1, 0)\t0.38775666010579296\n",
      "  (1, 13)\t0.38775666010579296\n",
      "  (1, 24)\t0.38775666010579296\n",
      "  (1, 5)\t0.38775666010579296\n",
      "  (1, 21)\t0.38775666010579296\n",
      "  (1, 8)\t0.38775666010579296\n",
      "  (1, 9)\t0.3128396318588854\n",
      "  (2, 10)\t0.5773502691896258\n",
      "  (2, 22)\t0.5773502691896258\n",
      "  (2, 4)\t0.5773502691896258\n",
      "  (3, 23)\t0.4472135954999579\n",
      "  (3, 18)\t0.4472135954999579\n",
      "  (3, 12)\t0.4472135954999579\n",
      "  (3, 14)\t0.4472135954999579\n",
      "  (3, 7)\t0.4472135954999579\n",
      "  (4, 19)\t0.5773502691896258\n",
      "  (4, 2)\t0.5773502691896258\n",
      "  (4, 1)\t0.5773502691896258\n"
     ]
    }
   ],
   "source": [
    "#: tfidf_normalized == X\n",
    "print(X) \n"
   ]
  },
  {
   "cell_type": "code",
   "execution_count": null,
   "metadata": {},
   "outputs": [],
   "source": []
  }
 ],
 "metadata": {
  "kernelspec": {
   "display_name": "Python 3",
   "language": "python",
   "name": "python3"
  },
  "language_info": {
   "codemirror_mode": {
    "name": "ipython",
    "version": 3
   },
   "file_extension": ".py",
   "mimetype": "text/x-python",
   "name": "python",
   "nbconvert_exporter": "python",
   "pygments_lexer": "ipython3",
   "version": "3.7.4"
  }
 },
 "nbformat": 4,
 "nbformat_minor": 2
}
